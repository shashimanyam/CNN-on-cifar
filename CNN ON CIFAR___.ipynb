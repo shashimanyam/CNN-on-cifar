{
 "cells": [
  {
   "cell_type": "code",
   "execution_count": 1,
   "metadata": {
    "colab": {
     "base_uri": "https://localhost:8080/",
     "height": 81
    },
    "colab_type": "code",
    "id": "wVIx_KIigxPV",
    "outputId": "7e02c581-5052-4c66-9f9b-33e862a3f5a2"
   },
   "outputs": [
    {
     "data": {
      "text/html": [
       "<p style=\"color: red;\">\n",
       "The default version of TensorFlow in Colab will soon switch to TensorFlow 2.x.<br>\n",
       "We recommend you <a href=\"https://www.tensorflow.org/guide/migrate\" target=\"_blank\">upgrade</a> now \n",
       "or ensure your notebook will continue to use TensorFlow 1.x via the <code>%tensorflow_version 1.x</code> magic:\n",
       "<a href=\"https://colab.research.google.com/notebooks/tensorflow_version.ipynb\" target=\"_blank\">more info</a>.</p>\n"
      ],
      "text/plain": [
       "<IPython.core.display.HTML object>"
      ]
     },
     "metadata": {
      "tags": []
     },
     "output_type": "display_data"
    },
    {
     "name": "stderr",
     "output_type": "stream",
     "text": [
      "Using TensorFlow backend.\n"
     ]
    }
   ],
   "source": [
    "# import keras\n",
    "# from keras.datasets import cifar10\n",
    "# from keras.models import Model, Sequential\n",
    "# from keras.layers import Dense, Dropout, Flatten, Input, AveragePooling2D, merge, Activation\n",
    "# from keras.layers import Conv2D, MaxPooling2D, BatchNormalization\n",
    "# from keras.layers import Concatenate\n",
    "# from keras.optimizers import Adam\n",
    "from tensorflow.keras import models, layers\n",
    "from tensorflow.keras.models import Model\n",
    "from tensorflow.keras.layers import BatchNormalization, Activation, Flatten\n",
    "from tensorflow.keras.optimizers import Adam, Nadam\n",
    "\n",
    "import numpy as np\n",
    "from tqdm import tqdm\n",
    "from matplotlib import pyplot\n",
    "from prettytable import PrettyTable\n",
    "from numpy import expand_dims\n",
    "from keras.preprocessing.image import load_img\n",
    "from keras.preprocessing.image import img_to_array\n",
    "from keras.preprocessing.image import ImageDataGenerator\n",
    "from keras.callbacks import ModelCheckpoint,LearningRateScheduler,CSVLogger, Callback,ReduceLROnPlateau\n",
    "\n",
    "import matplotlib.pyplot as plt\n",
    "\n",
    "from keras import models"
   ]
  },
  {
   "cell_type": "code",
   "execution_count": 13,
   "metadata": {
    "colab": {
     "base_uri": "https://localhost:8080/",
     "height": 34
    },
    "colab_type": "code",
    "id": "984hP2OauLCe",
    "outputId": "cfcf2ef2-cc1a-4ddf-f5c9-86c937a7e2fe"
   },
   "outputs": [
    {
     "name": "stdout",
     "output_type": "stream",
     "text": [
      "Mounted at gdrive\n"
     ]
    }
   ],
   "source": [
    "from google.colab import drive\n",
    "drive.mount('gdrive',force_remount=True)"
   ]
  },
  {
   "cell_type": "code",
   "execution_count": 0,
   "metadata": {
    "colab": {},
    "colab_type": "code",
    "id": "UNHw6luQg3gc"
   },
   "outputs": [],
   "source": [
    "# this part will prevent tensorflow to allocate all the avaliable GPU Memory\n",
    "# backend\n",
    "import tensorflow as tf\n",
    "# from tensorflow import keras\n",
    "\n",
    "# from keras import backend as k\n",
    "\n",
    "# Don't pre-allocate memory; allocate as-needed\n",
    "# import tensorflow as tf\n",
    "# tf.config.gpu.set_per_process_memory_fraction(0.75)\n",
    "# tf.config.gpu.set_per_process_memory_growth(True)\n",
    "# config = tf.ConfigProto()\n",
    "# config.gpu_options.allow_growth = True\n",
    "\n",
    "# Create a session with the above options specified.\n",
    "# k.tensorflow_backend.set_session(tf.Session(config=config))"
   ]
  },
  {
   "cell_type": "code",
   "execution_count": 0,
   "metadata": {
    "colab": {},
    "colab_type": "code",
    "id": "f2U6NU_27K7X"
   },
   "outputs": [],
   "source": [
    "final_tab = PrettyTable(['Augmentation','l','num_filters','compression','Optimizer','Test Accuracy'])"
   ]
  },
  {
   "cell_type": "code",
   "execution_count": 0,
   "metadata": {
    "colab": {},
    "colab_type": "code",
    "id": "dsO_yGxcg5D8"
   },
   "outputs": [],
   "source": [
    "# Hyperparameters\n",
    "batch_size = 128\n",
    "num_classes = 10\n",
    "epochs = 100\n",
    "l = 9\n",
    "num_filter = 24\n",
    "compression = 1.041\n",
    "dropout_rate = 0.2\n"
   ]
  },
  {
   "cell_type": "code",
   "execution_count": 6,
   "metadata": {
    "colab": {
     "base_uri": "https://localhost:8080/",
     "height": 52
    },
    "colab_type": "code",
    "id": "mB7o3zu1g6eT",
    "outputId": "c127adfa-b248-474b-aad6-7220650689a5"
   },
   "outputs": [
    {
     "name": "stdout",
     "output_type": "stream",
     "text": [
      "Downloading data from https://www.cs.toronto.edu/~kriz/cifar-10-python.tar.gz\n",
      "170500096/170498071 [==============================] - 6s 0us/step\n"
     ]
    }
   ],
   "source": [
    "# Load CIFAR10 Data\n",
    "(X_train, y_train), (X_test, y_test) = tf.keras.datasets.cifar10.load_data()\n",
    "img_height, img_width, channel = X_train.shape[1],X_train.shape[2],X_train.shape[3]\n",
    "\n",
    "# convert to one hot encoing \n",
    "y_train = tf.keras.utils.to_categorical(y_train, num_classes)\n",
    "y_test = tf.keras.utils.to_categorical(y_test, num_classes) "
   ]
  },
  {
   "cell_type": "code",
   "execution_count": 7,
   "metadata": {
    "colab": {
     "base_uri": "https://localhost:8080/",
     "height": 52
    },
    "colab_type": "code",
    "id": "O8jnOucc1dRO",
    "outputId": "3a881ee6-a29c-4b86-d6ab-c7e86e35accb"
   },
   "outputs": [
    {
     "name": "stdout",
     "output_type": "stream",
     "text": [
      "Train Shape: (50000, 32, 32, 3)\n",
      "Test Shape: (10000, 32, 32, 3)\n"
     ]
    }
   ],
   "source": [
    "print('Train Shape:',X_train.shape)\n",
    "print('Test Shape:',X_test.shape)"
   ]
  },
  {
   "cell_type": "code",
   "execution_count": 0,
   "metadata": {
    "colab": {},
    "colab_type": "code",
    "id": "ee-sge5Kg7vr"
   },
   "outputs": [],
   "source": [
    "# Dense Block\n",
    "def denseblock(input, num_filter = 12, dropout_rate = 0.2):\n",
    "    global compression\n",
    "    temp = input\n",
    "    for _ in range(l): \n",
    "        BatchNorm = layers.BatchNormalization()(temp)\n",
    "        relu = layers.Activation('relu')(BatchNorm)\n",
    "        Conv2D_3_3 = layers.Conv2D(int(num_filter*compression), (3,3), use_bias=False ,padding='same')(relu)\n",
    "        if dropout_rate>0:\n",
    "            Conv2D_3_3 = layers.Dropout(dropout_rate)(Conv2D_3_3)\n",
    "        concat = layers.Concatenate(axis=-1)([temp,Conv2D_3_3])\n",
    "        \n",
    "        temp = concat\n",
    "        \n",
    "    return temp\n",
    "\n",
    "## transition Blosck\n",
    "def transition(input, num_filter = 12, dropout_rate = 0.2):\n",
    "    global compression\n",
    "    BatchNorm = layers.BatchNormalization()(input)\n",
    "    relu = layers.Activation('relu')(BatchNorm)\n",
    "    Conv2D_BottleNeck = layers.Conv2D(int(num_filter*compression), (1,1), use_bias=False ,padding='same')(relu)\n",
    "    if dropout_rate>0:\n",
    "         Conv2D_BottleNeck = layers.Dropout(dropout_rate)(Conv2D_BottleNeck)\n",
    "    avg = layers.AveragePooling2D(pool_size=(2,2))(Conv2D_BottleNeck)\n",
    "    return avg\n",
    "\n",
    "#output layer\n",
    "def output_layer(input):\n",
    "    global compression\n",
    "    print('input',input.shape)\n",
    "    BatchNorm = layers.BatchNormalization()(input)\n",
    "    print('Batch',BatchNorm.shape)\n",
    "    relu = layers.Activation('relu')(BatchNorm)\n",
    "    print('relu',relu.shape)\n",
    "    AvgPooling = layers.AveragePooling2D(pool_size=(2,2))(relu)\n",
    "    # print('pooling',AvgPooling.shape)\n",
    "    # flat = layers.Flatten()(AvgPooling)\n",
    "    # print('flat',flat.shape)\n",
    "    # # tf.reshape(flat,(4,246))\n",
    "    # # print(flat.reshape(7,4,4,246,1))\n",
    "    # output = layers.Conv1D(num_filter,kernel_size=1)(tf.reshape(flat,(1,4,246)))\n",
    "\n",
    "\n",
    "\n",
    "\n",
    "    conv_layer = layers.Conv2D(10, (1,1), use_bias=False ,padding='same')(AvgPooling)\n",
    "    last = layers.GlobalMaxPooling2D()(conv_layer)\n",
    "    output = layers.Activation('softmax')(last)\n",
    "\n",
    "    return output"
   ]
  },
  {
   "cell_type": "code",
   "execution_count": 0,
   "metadata": {
    "colab": {},
    "colab_type": "code",
    "id": "UWG51i8_zIr-"
   },
   "outputs": [],
   "source": [
    "num_filter = 12\n",
    "dropout_rate = 0.2\n",
    "l = 12"
   ]
  },
  {
   "cell_type": "code",
   "execution_count": 9,
   "metadata": {
    "colab": {
     "base_uri": "https://localhost:8080/",
     "height": 143
    },
    "colab_type": "code",
    "id": "anPCpQWhhGb7",
    "outputId": "0b799eb1-232a-4fb5-a9ef-a7d26779d6c7"
   },
   "outputs": [
    {
     "name": "stdout",
     "output_type": "stream",
     "text": [
      "WARNING:tensorflow:From /usr/local/lib/python3.6/dist-packages/tensorflow_core/python/ops/resource_variable_ops.py:1630: calling BaseResourceVariable.__init__ (from tensorflow.python.ops.resource_variable_ops) with constraint is deprecated and will be removed in a future version.\n",
      "Instructions for updating:\n",
      "If using Keras pass *_constraint arguments to layers.\n",
      "input (?, 4, 4, 240)\n",
      "Batch (?, 4, 4, 240)\n",
      "relu (?, 4, 4, 240)\n"
     ]
    }
   ],
   "source": [
    "\n",
    "input = layers.Input(shape=(img_height, img_width, channel,))\n",
    "First_Conv2D = layers.Conv2D(num_filter, (3,3), use_bias=False ,padding='same')(input)\n",
    "\n",
    "First_Block = denseblock(First_Conv2D, num_filter, dropout_rate)\n",
    "First_Transition = transition(First_Block, num_filter, dropout_rate)\n",
    "\n",
    "Second_Block = denseblock(First_Transition, num_filter, dropout_rate)\n",
    "Second_Transition = transition(Second_Block, num_filter, dropout_rate)\n",
    "\n",
    "Third_Block = denseblock(Second_Transition, num_filter, dropout_rate)\n",
    "Third_Transition = transition(Third_Block, num_filter, dropout_rate)\n",
    "\n",
    "Last_Block = denseblock(Third_Transition,  num_filter, dropout_rate)\n",
    "output = output_layer(Last_Block)\n"
   ]
  },
  {
   "cell_type": "code",
   "execution_count": 0,
   "metadata": {
    "colab": {},
    "colab_type": "code",
    "id": "bGpbWr5J1dRf"
   },
   "outputs": [],
   "source": [
    "#https://arxiv.org/pdf/1608.06993.pdf\n",
    "from IPython.display import IFrame, YouTubeVideo\n",
    "YouTubeVideo(id='-W6y8xnd--U', width=600)"
   ]
  },
  {
   "cell_type": "code",
   "execution_count": 10,
   "metadata": {
    "colab": {
     "base_uri": "https://localhost:8080/",
     "height": 1000
    },
    "colab_type": "code",
    "id": "1kFh7pdxhNtT",
    "outputId": "59f59e4c-eeba-491e-b5e2-0b26efe029e0",
    "scrolled": true
   },
   "outputs": [
    {
     "name": "stdout",
     "output_type": "stream",
     "text": [
      "Model: \"model\"\n",
      "__________________________________________________________________________________________________\n",
      "Layer (type)                    Output Shape         Param #     Connected to                     \n",
      "==================================================================================================\n",
      "input_1 (InputLayer)            [(None, 32, 32, 3)]  0                                            \n",
      "__________________________________________________________________________________________________\n",
      "conv2d (Conv2D)                 (None, 32, 32, 24)   648         input_1[0][0]                    \n",
      "__________________________________________________________________________________________________\n",
      "batch_normalization (BatchNorma (None, 32, 32, 24)   96          conv2d[0][0]                     \n",
      "__________________________________________________________________________________________________\n",
      "activation (Activation)         (None, 32, 32, 24)   0           batch_normalization[0][0]        \n",
      "__________________________________________________________________________________________________\n",
      "conv2d_1 (Conv2D)               (None, 32, 32, 24)   5184        activation[0][0]                 \n",
      "__________________________________________________________________________________________________\n",
      "dropout (Dropout)               (None, 32, 32, 24)   0           conv2d_1[0][0]                   \n",
      "__________________________________________________________________________________________________\n",
      "concatenate (Concatenate)       (None, 32, 32, 48)   0           conv2d[0][0]                     \n",
      "                                                                 dropout[0][0]                    \n",
      "__________________________________________________________________________________________________\n",
      "batch_normalization_1 (BatchNor (None, 32, 32, 48)   192         concatenate[0][0]                \n",
      "__________________________________________________________________________________________________\n",
      "activation_1 (Activation)       (None, 32, 32, 48)   0           batch_normalization_1[0][0]      \n",
      "__________________________________________________________________________________________________\n",
      "conv2d_2 (Conv2D)               (None, 32, 32, 24)   10368       activation_1[0][0]               \n",
      "__________________________________________________________________________________________________\n",
      "dropout_1 (Dropout)             (None, 32, 32, 24)   0           conv2d_2[0][0]                   \n",
      "__________________________________________________________________________________________________\n",
      "concatenate_1 (Concatenate)     (None, 32, 32, 72)   0           concatenate[0][0]                \n",
      "                                                                 dropout_1[0][0]                  \n",
      "__________________________________________________________________________________________________\n",
      "batch_normalization_2 (BatchNor (None, 32, 32, 72)   288         concatenate_1[0][0]              \n",
      "__________________________________________________________________________________________________\n",
      "activation_2 (Activation)       (None, 32, 32, 72)   0           batch_normalization_2[0][0]      \n",
      "__________________________________________________________________________________________________\n",
      "conv2d_3 (Conv2D)               (None, 32, 32, 24)   15552       activation_2[0][0]               \n",
      "__________________________________________________________________________________________________\n",
      "dropout_2 (Dropout)             (None, 32, 32, 24)   0           conv2d_3[0][0]                   \n",
      "__________________________________________________________________________________________________\n",
      "concatenate_2 (Concatenate)     (None, 32, 32, 96)   0           concatenate_1[0][0]              \n",
      "                                                                 dropout_2[0][0]                  \n",
      "__________________________________________________________________________________________________\n",
      "batch_normalization_3 (BatchNor (None, 32, 32, 96)   384         concatenate_2[0][0]              \n",
      "__________________________________________________________________________________________________\n",
      "activation_3 (Activation)       (None, 32, 32, 96)   0           batch_normalization_3[0][0]      \n",
      "__________________________________________________________________________________________________\n",
      "conv2d_4 (Conv2D)               (None, 32, 32, 24)   20736       activation_3[0][0]               \n",
      "__________________________________________________________________________________________________\n",
      "dropout_3 (Dropout)             (None, 32, 32, 24)   0           conv2d_4[0][0]                   \n",
      "__________________________________________________________________________________________________\n",
      "concatenate_3 (Concatenate)     (None, 32, 32, 120)  0           concatenate_2[0][0]              \n",
      "                                                                 dropout_3[0][0]                  \n",
      "__________________________________________________________________________________________________\n",
      "batch_normalization_4 (BatchNor (None, 32, 32, 120)  480         concatenate_3[0][0]              \n",
      "__________________________________________________________________________________________________\n",
      "activation_4 (Activation)       (None, 32, 32, 120)  0           batch_normalization_4[0][0]      \n",
      "__________________________________________________________________________________________________\n",
      "conv2d_5 (Conv2D)               (None, 32, 32, 24)   25920       activation_4[0][0]               \n",
      "__________________________________________________________________________________________________\n",
      "dropout_4 (Dropout)             (None, 32, 32, 24)   0           conv2d_5[0][0]                   \n",
      "__________________________________________________________________________________________________\n",
      "concatenate_4 (Concatenate)     (None, 32, 32, 144)  0           concatenate_3[0][0]              \n",
      "                                                                 dropout_4[0][0]                  \n",
      "__________________________________________________________________________________________________\n",
      "batch_normalization_5 (BatchNor (None, 32, 32, 144)  576         concatenate_4[0][0]              \n",
      "__________________________________________________________________________________________________\n",
      "activation_5 (Activation)       (None, 32, 32, 144)  0           batch_normalization_5[0][0]      \n",
      "__________________________________________________________________________________________________\n",
      "conv2d_6 (Conv2D)               (None, 32, 32, 24)   31104       activation_5[0][0]               \n",
      "__________________________________________________________________________________________________\n",
      "dropout_5 (Dropout)             (None, 32, 32, 24)   0           conv2d_6[0][0]                   \n",
      "__________________________________________________________________________________________________\n",
      "concatenate_5 (Concatenate)     (None, 32, 32, 168)  0           concatenate_4[0][0]              \n",
      "                                                                 dropout_5[0][0]                  \n",
      "__________________________________________________________________________________________________\n",
      "batch_normalization_6 (BatchNor (None, 32, 32, 168)  672         concatenate_5[0][0]              \n",
      "__________________________________________________________________________________________________\n",
      "activation_6 (Activation)       (None, 32, 32, 168)  0           batch_normalization_6[0][0]      \n",
      "__________________________________________________________________________________________________\n",
      "conv2d_7 (Conv2D)               (None, 32, 32, 24)   36288       activation_6[0][0]               \n",
      "__________________________________________________________________________________________________\n",
      "dropout_6 (Dropout)             (None, 32, 32, 24)   0           conv2d_7[0][0]                   \n",
      "__________________________________________________________________________________________________\n",
      "concatenate_6 (Concatenate)     (None, 32, 32, 192)  0           concatenate_5[0][0]              \n",
      "                                                                 dropout_6[0][0]                  \n",
      "__________________________________________________________________________________________________\n",
      "batch_normalization_7 (BatchNor (None, 32, 32, 192)  768         concatenate_6[0][0]              \n",
      "__________________________________________________________________________________________________\n",
      "activation_7 (Activation)       (None, 32, 32, 192)  0           batch_normalization_7[0][0]      \n",
      "__________________________________________________________________________________________________\n",
      "conv2d_8 (Conv2D)               (None, 32, 32, 24)   41472       activation_7[0][0]               \n",
      "__________________________________________________________________________________________________\n",
      "dropout_7 (Dropout)             (None, 32, 32, 24)   0           conv2d_8[0][0]                   \n",
      "__________________________________________________________________________________________________\n",
      "concatenate_7 (Concatenate)     (None, 32, 32, 216)  0           concatenate_6[0][0]              \n",
      "                                                                 dropout_7[0][0]                  \n",
      "__________________________________________________________________________________________________\n",
      "batch_normalization_8 (BatchNor (None, 32, 32, 216)  864         concatenate_7[0][0]              \n",
      "__________________________________________________________________________________________________\n",
      "activation_8 (Activation)       (None, 32, 32, 216)  0           batch_normalization_8[0][0]      \n",
      "__________________________________________________________________________________________________\n",
      "conv2d_9 (Conv2D)               (None, 32, 32, 24)   46656       activation_8[0][0]               \n",
      "__________________________________________________________________________________________________\n",
      "dropout_8 (Dropout)             (None, 32, 32, 24)   0           conv2d_9[0][0]                   \n",
      "__________________________________________________________________________________________________\n",
      "concatenate_8 (Concatenate)     (None, 32, 32, 240)  0           concatenate_7[0][0]              \n",
      "                                                                 dropout_8[0][0]                  \n",
      "__________________________________________________________________________________________________\n",
      "batch_normalization_9 (BatchNor (None, 32, 32, 240)  960         concatenate_8[0][0]              \n",
      "__________________________________________________________________________________________________\n",
      "activation_9 (Activation)       (None, 32, 32, 240)  0           batch_normalization_9[0][0]      \n",
      "__________________________________________________________________________________________________\n",
      "conv2d_10 (Conv2D)              (None, 32, 32, 24)   5760        activation_9[0][0]               \n",
      "__________________________________________________________________________________________________\n",
      "dropout_9 (Dropout)             (None, 32, 32, 24)   0           conv2d_10[0][0]                  \n",
      "__________________________________________________________________________________________________\n",
      "average_pooling2d (AveragePooli (None, 16, 16, 24)   0           dropout_9[0][0]                  \n",
      "__________________________________________________________________________________________________\n",
      "batch_normalization_10 (BatchNo (None, 16, 16, 24)   96          average_pooling2d[0][0]          \n",
      "__________________________________________________________________________________________________\n",
      "activation_10 (Activation)      (None, 16, 16, 24)   0           batch_normalization_10[0][0]     \n",
      "__________________________________________________________________________________________________\n",
      "conv2d_11 (Conv2D)              (None, 16, 16, 24)   5184        activation_10[0][0]              \n",
      "__________________________________________________________________________________________________\n",
      "dropout_10 (Dropout)            (None, 16, 16, 24)   0           conv2d_11[0][0]                  \n",
      "__________________________________________________________________________________________________\n",
      "concatenate_9 (Concatenate)     (None, 16, 16, 48)   0           average_pooling2d[0][0]          \n",
      "                                                                 dropout_10[0][0]                 \n",
      "__________________________________________________________________________________________________\n",
      "batch_normalization_11 (BatchNo (None, 16, 16, 48)   192         concatenate_9[0][0]              \n",
      "__________________________________________________________________________________________________\n",
      "activation_11 (Activation)      (None, 16, 16, 48)   0           batch_normalization_11[0][0]     \n",
      "__________________________________________________________________________________________________\n",
      "conv2d_12 (Conv2D)              (None, 16, 16, 24)   10368       activation_11[0][0]              \n",
      "__________________________________________________________________________________________________\n",
      "dropout_11 (Dropout)            (None, 16, 16, 24)   0           conv2d_12[0][0]                  \n",
      "__________________________________________________________________________________________________\n",
      "concatenate_10 (Concatenate)    (None, 16, 16, 72)   0           concatenate_9[0][0]              \n",
      "                                                                 dropout_11[0][0]                 \n",
      "__________________________________________________________________________________________________\n",
      "batch_normalization_12 (BatchNo (None, 16, 16, 72)   288         concatenate_10[0][0]             \n",
      "__________________________________________________________________________________________________\n",
      "activation_12 (Activation)      (None, 16, 16, 72)   0           batch_normalization_12[0][0]     \n",
      "__________________________________________________________________________________________________\n",
      "conv2d_13 (Conv2D)              (None, 16, 16, 24)   15552       activation_12[0][0]              \n",
      "__________________________________________________________________________________________________\n",
      "dropout_12 (Dropout)            (None, 16, 16, 24)   0           conv2d_13[0][0]                  \n",
      "__________________________________________________________________________________________________\n",
      "concatenate_11 (Concatenate)    (None, 16, 16, 96)   0           concatenate_10[0][0]             \n",
      "                                                                 dropout_12[0][0]                 \n",
      "__________________________________________________________________________________________________\n",
      "batch_normalization_13 (BatchNo (None, 16, 16, 96)   384         concatenate_11[0][0]             \n",
      "__________________________________________________________________________________________________\n",
      "activation_13 (Activation)      (None, 16, 16, 96)   0           batch_normalization_13[0][0]     \n",
      "__________________________________________________________________________________________________\n",
      "conv2d_14 (Conv2D)              (None, 16, 16, 24)   20736       activation_13[0][0]              \n",
      "__________________________________________________________________________________________________\n",
      "dropout_13 (Dropout)            (None, 16, 16, 24)   0           conv2d_14[0][0]                  \n",
      "__________________________________________________________________________________________________\n",
      "concatenate_12 (Concatenate)    (None, 16, 16, 120)  0           concatenate_11[0][0]             \n",
      "                                                                 dropout_13[0][0]                 \n",
      "__________________________________________________________________________________________________\n",
      "batch_normalization_14 (BatchNo (None, 16, 16, 120)  480         concatenate_12[0][0]             \n",
      "__________________________________________________________________________________________________\n",
      "activation_14 (Activation)      (None, 16, 16, 120)  0           batch_normalization_14[0][0]     \n",
      "__________________________________________________________________________________________________\n",
      "conv2d_15 (Conv2D)              (None, 16, 16, 24)   25920       activation_14[0][0]              \n",
      "__________________________________________________________________________________________________\n",
      "dropout_14 (Dropout)            (None, 16, 16, 24)   0           conv2d_15[0][0]                  \n",
      "__________________________________________________________________________________________________\n",
      "concatenate_13 (Concatenate)    (None, 16, 16, 144)  0           concatenate_12[0][0]             \n",
      "                                                                 dropout_14[0][0]                 \n",
      "__________________________________________________________________________________________________\n",
      "batch_normalization_15 (BatchNo (None, 16, 16, 144)  576         concatenate_13[0][0]             \n",
      "__________________________________________________________________________________________________\n",
      "activation_15 (Activation)      (None, 16, 16, 144)  0           batch_normalization_15[0][0]     \n",
      "__________________________________________________________________________________________________\n",
      "conv2d_16 (Conv2D)              (None, 16, 16, 24)   31104       activation_15[0][0]              \n",
      "__________________________________________________________________________________________________\n",
      "dropout_15 (Dropout)            (None, 16, 16, 24)   0           conv2d_16[0][0]                  \n",
      "__________________________________________________________________________________________________\n",
      "concatenate_14 (Concatenate)    (None, 16, 16, 168)  0           concatenate_13[0][0]             \n",
      "                                                                 dropout_15[0][0]                 \n",
      "__________________________________________________________________________________________________\n",
      "batch_normalization_16 (BatchNo (None, 16, 16, 168)  672         concatenate_14[0][0]             \n",
      "__________________________________________________________________________________________________\n",
      "activation_16 (Activation)      (None, 16, 16, 168)  0           batch_normalization_16[0][0]     \n",
      "__________________________________________________________________________________________________\n",
      "conv2d_17 (Conv2D)              (None, 16, 16, 24)   36288       activation_16[0][0]              \n",
      "__________________________________________________________________________________________________\n",
      "dropout_16 (Dropout)            (None, 16, 16, 24)   0           conv2d_17[0][0]                  \n",
      "__________________________________________________________________________________________________\n",
      "concatenate_15 (Concatenate)    (None, 16, 16, 192)  0           concatenate_14[0][0]             \n",
      "                                                                 dropout_16[0][0]                 \n",
      "__________________________________________________________________________________________________\n",
      "batch_normalization_17 (BatchNo (None, 16, 16, 192)  768         concatenate_15[0][0]             \n",
      "__________________________________________________________________________________________________\n",
      "activation_17 (Activation)      (None, 16, 16, 192)  0           batch_normalization_17[0][0]     \n",
      "__________________________________________________________________________________________________\n",
      "conv2d_18 (Conv2D)              (None, 16, 16, 24)   41472       activation_17[0][0]              \n",
      "__________________________________________________________________________________________________\n",
      "dropout_17 (Dropout)            (None, 16, 16, 24)   0           conv2d_18[0][0]                  \n",
      "__________________________________________________________________________________________________\n",
      "concatenate_16 (Concatenate)    (None, 16, 16, 216)  0           concatenate_15[0][0]             \n",
      "                                                                 dropout_17[0][0]                 \n",
      "__________________________________________________________________________________________________\n",
      "batch_normalization_18 (BatchNo (None, 16, 16, 216)  864         concatenate_16[0][0]             \n",
      "__________________________________________________________________________________________________\n",
      "activation_18 (Activation)      (None, 16, 16, 216)  0           batch_normalization_18[0][0]     \n",
      "__________________________________________________________________________________________________\n",
      "conv2d_19 (Conv2D)              (None, 16, 16, 24)   46656       activation_18[0][0]              \n",
      "__________________________________________________________________________________________________\n",
      "dropout_18 (Dropout)            (None, 16, 16, 24)   0           conv2d_19[0][0]                  \n",
      "__________________________________________________________________________________________________\n",
      "concatenate_17 (Concatenate)    (None, 16, 16, 240)  0           concatenate_16[0][0]             \n",
      "                                                                 dropout_18[0][0]                 \n",
      "__________________________________________________________________________________________________\n",
      "batch_normalization_19 (BatchNo (None, 16, 16, 240)  960         concatenate_17[0][0]             \n",
      "__________________________________________________________________________________________________\n",
      "activation_19 (Activation)      (None, 16, 16, 240)  0           batch_normalization_19[0][0]     \n",
      "__________________________________________________________________________________________________\n",
      "conv2d_20 (Conv2D)              (None, 16, 16, 24)   5760        activation_19[0][0]              \n",
      "__________________________________________________________________________________________________\n",
      "dropout_19 (Dropout)            (None, 16, 16, 24)   0           conv2d_20[0][0]                  \n",
      "__________________________________________________________________________________________________\n",
      "average_pooling2d_1 (AveragePoo (None, 8, 8, 24)     0           dropout_19[0][0]                 \n",
      "__________________________________________________________________________________________________\n",
      "batch_normalization_20 (BatchNo (None, 8, 8, 24)     96          average_pooling2d_1[0][0]        \n",
      "__________________________________________________________________________________________________\n",
      "activation_20 (Activation)      (None, 8, 8, 24)     0           batch_normalization_20[0][0]     \n",
      "__________________________________________________________________________________________________\n",
      "conv2d_21 (Conv2D)              (None, 8, 8, 24)     5184        activation_20[0][0]              \n",
      "__________________________________________________________________________________________________\n",
      "dropout_20 (Dropout)            (None, 8, 8, 24)     0           conv2d_21[0][0]                  \n",
      "__________________________________________________________________________________________________\n",
      "concatenate_18 (Concatenate)    (None, 8, 8, 48)     0           average_pooling2d_1[0][0]        \n",
      "                                                                 dropout_20[0][0]                 \n",
      "__________________________________________________________________________________________________\n",
      "batch_normalization_21 (BatchNo (None, 8, 8, 48)     192         concatenate_18[0][0]             \n",
      "__________________________________________________________________________________________________\n",
      "activation_21 (Activation)      (None, 8, 8, 48)     0           batch_normalization_21[0][0]     \n",
      "__________________________________________________________________________________________________\n",
      "conv2d_22 (Conv2D)              (None, 8, 8, 24)     10368       activation_21[0][0]              \n",
      "__________________________________________________________________________________________________\n",
      "dropout_21 (Dropout)            (None, 8, 8, 24)     0           conv2d_22[0][0]                  \n",
      "__________________________________________________________________________________________________\n",
      "concatenate_19 (Concatenate)    (None, 8, 8, 72)     0           concatenate_18[0][0]             \n",
      "                                                                 dropout_21[0][0]                 \n",
      "__________________________________________________________________________________________________\n",
      "batch_normalization_22 (BatchNo (None, 8, 8, 72)     288         concatenate_19[0][0]             \n",
      "__________________________________________________________________________________________________\n",
      "activation_22 (Activation)      (None, 8, 8, 72)     0           batch_normalization_22[0][0]     \n",
      "__________________________________________________________________________________________________\n",
      "conv2d_23 (Conv2D)              (None, 8, 8, 24)     15552       activation_22[0][0]              \n",
      "__________________________________________________________________________________________________\n",
      "dropout_22 (Dropout)            (None, 8, 8, 24)     0           conv2d_23[0][0]                  \n",
      "__________________________________________________________________________________________________\n",
      "concatenate_20 (Concatenate)    (None, 8, 8, 96)     0           concatenate_19[0][0]             \n",
      "                                                                 dropout_22[0][0]                 \n",
      "__________________________________________________________________________________________________\n",
      "batch_normalization_23 (BatchNo (None, 8, 8, 96)     384         concatenate_20[0][0]             \n",
      "__________________________________________________________________________________________________\n",
      "activation_23 (Activation)      (None, 8, 8, 96)     0           batch_normalization_23[0][0]     \n",
      "__________________________________________________________________________________________________\n",
      "conv2d_24 (Conv2D)              (None, 8, 8, 24)     20736       activation_23[0][0]              \n",
      "__________________________________________________________________________________________________\n",
      "dropout_23 (Dropout)            (None, 8, 8, 24)     0           conv2d_24[0][0]                  \n",
      "__________________________________________________________________________________________________\n",
      "concatenate_21 (Concatenate)    (None, 8, 8, 120)    0           concatenate_20[0][0]             \n",
      "                                                                 dropout_23[0][0]                 \n",
      "__________________________________________________________________________________________________\n",
      "batch_normalization_24 (BatchNo (None, 8, 8, 120)    480         concatenate_21[0][0]             \n",
      "__________________________________________________________________________________________________\n",
      "activation_24 (Activation)      (None, 8, 8, 120)    0           batch_normalization_24[0][0]     \n",
      "__________________________________________________________________________________________________\n",
      "conv2d_25 (Conv2D)              (None, 8, 8, 24)     25920       activation_24[0][0]              \n",
      "__________________________________________________________________________________________________\n",
      "dropout_24 (Dropout)            (None, 8, 8, 24)     0           conv2d_25[0][0]                  \n",
      "__________________________________________________________________________________________________\n",
      "concatenate_22 (Concatenate)    (None, 8, 8, 144)    0           concatenate_21[0][0]             \n",
      "                                                                 dropout_24[0][0]                 \n",
      "__________________________________________________________________________________________________\n",
      "batch_normalization_25 (BatchNo (None, 8, 8, 144)    576         concatenate_22[0][0]             \n",
      "__________________________________________________________________________________________________\n",
      "activation_25 (Activation)      (None, 8, 8, 144)    0           batch_normalization_25[0][0]     \n",
      "__________________________________________________________________________________________________\n",
      "conv2d_26 (Conv2D)              (None, 8, 8, 24)     31104       activation_25[0][0]              \n",
      "__________________________________________________________________________________________________\n",
      "dropout_25 (Dropout)            (None, 8, 8, 24)     0           conv2d_26[0][0]                  \n",
      "__________________________________________________________________________________________________\n",
      "concatenate_23 (Concatenate)    (None, 8, 8, 168)    0           concatenate_22[0][0]             \n",
      "                                                                 dropout_25[0][0]                 \n",
      "__________________________________________________________________________________________________\n",
      "batch_normalization_26 (BatchNo (None, 8, 8, 168)    672         concatenate_23[0][0]             \n",
      "__________________________________________________________________________________________________\n",
      "activation_26 (Activation)      (None, 8, 8, 168)    0           batch_normalization_26[0][0]     \n",
      "__________________________________________________________________________________________________\n",
      "conv2d_27 (Conv2D)              (None, 8, 8, 24)     36288       activation_26[0][0]              \n",
      "__________________________________________________________________________________________________\n",
      "dropout_26 (Dropout)            (None, 8, 8, 24)     0           conv2d_27[0][0]                  \n",
      "__________________________________________________________________________________________________\n",
      "concatenate_24 (Concatenate)    (None, 8, 8, 192)    0           concatenate_23[0][0]             \n",
      "                                                                 dropout_26[0][0]                 \n",
      "__________________________________________________________________________________________________\n",
      "batch_normalization_27 (BatchNo (None, 8, 8, 192)    768         concatenate_24[0][0]             \n",
      "__________________________________________________________________________________________________\n",
      "activation_27 (Activation)      (None, 8, 8, 192)    0           batch_normalization_27[0][0]     \n",
      "__________________________________________________________________________________________________\n",
      "conv2d_28 (Conv2D)              (None, 8, 8, 24)     41472       activation_27[0][0]              \n",
      "__________________________________________________________________________________________________\n",
      "dropout_27 (Dropout)            (None, 8, 8, 24)     0           conv2d_28[0][0]                  \n",
      "__________________________________________________________________________________________________\n",
      "concatenate_25 (Concatenate)    (None, 8, 8, 216)    0           concatenate_24[0][0]             \n",
      "                                                                 dropout_27[0][0]                 \n",
      "__________________________________________________________________________________________________\n",
      "batch_normalization_28 (BatchNo (None, 8, 8, 216)    864         concatenate_25[0][0]             \n",
      "__________________________________________________________________________________________________\n",
      "activation_28 (Activation)      (None, 8, 8, 216)    0           batch_normalization_28[0][0]     \n",
      "__________________________________________________________________________________________________\n",
      "conv2d_29 (Conv2D)              (None, 8, 8, 24)     46656       activation_28[0][0]              \n",
      "__________________________________________________________________________________________________\n",
      "dropout_28 (Dropout)            (None, 8, 8, 24)     0           conv2d_29[0][0]                  \n",
      "__________________________________________________________________________________________________\n",
      "concatenate_26 (Concatenate)    (None, 8, 8, 240)    0           concatenate_25[0][0]             \n",
      "                                                                 dropout_28[0][0]                 \n",
      "__________________________________________________________________________________________________\n",
      "batch_normalization_29 (BatchNo (None, 8, 8, 240)    960         concatenate_26[0][0]             \n",
      "__________________________________________________________________________________________________\n",
      "activation_29 (Activation)      (None, 8, 8, 240)    0           batch_normalization_29[0][0]     \n",
      "__________________________________________________________________________________________________\n",
      "conv2d_30 (Conv2D)              (None, 8, 8, 24)     5760        activation_29[0][0]              \n",
      "__________________________________________________________________________________________________\n",
      "dropout_29 (Dropout)            (None, 8, 8, 24)     0           conv2d_30[0][0]                  \n",
      "__________________________________________________________________________________________________\n",
      "average_pooling2d_2 (AveragePoo (None, 4, 4, 24)     0           dropout_29[0][0]                 \n",
      "__________________________________________________________________________________________________\n",
      "batch_normalization_30 (BatchNo (None, 4, 4, 24)     96          average_pooling2d_2[0][0]        \n",
      "__________________________________________________________________________________________________\n",
      "activation_30 (Activation)      (None, 4, 4, 24)     0           batch_normalization_30[0][0]     \n",
      "__________________________________________________________________________________________________\n",
      "conv2d_31 (Conv2D)              (None, 4, 4, 24)     5184        activation_30[0][0]              \n",
      "__________________________________________________________________________________________________\n",
      "dropout_30 (Dropout)            (None, 4, 4, 24)     0           conv2d_31[0][0]                  \n",
      "__________________________________________________________________________________________________\n",
      "concatenate_27 (Concatenate)    (None, 4, 4, 48)     0           average_pooling2d_2[0][0]        \n",
      "                                                                 dropout_30[0][0]                 \n",
      "__________________________________________________________________________________________________\n",
      "batch_normalization_31 (BatchNo (None, 4, 4, 48)     192         concatenate_27[0][0]             \n",
      "__________________________________________________________________________________________________\n",
      "activation_31 (Activation)      (None, 4, 4, 48)     0           batch_normalization_31[0][0]     \n",
      "__________________________________________________________________________________________________\n",
      "conv2d_32 (Conv2D)              (None, 4, 4, 24)     10368       activation_31[0][0]              \n",
      "__________________________________________________________________________________________________\n",
      "dropout_31 (Dropout)            (None, 4, 4, 24)     0           conv2d_32[0][0]                  \n",
      "__________________________________________________________________________________________________\n",
      "concatenate_28 (Concatenate)    (None, 4, 4, 72)     0           concatenate_27[0][0]             \n",
      "                                                                 dropout_31[0][0]                 \n",
      "__________________________________________________________________________________________________\n",
      "batch_normalization_32 (BatchNo (None, 4, 4, 72)     288         concatenate_28[0][0]             \n",
      "__________________________________________________________________________________________________\n",
      "activation_32 (Activation)      (None, 4, 4, 72)     0           batch_normalization_32[0][0]     \n",
      "__________________________________________________________________________________________________\n",
      "conv2d_33 (Conv2D)              (None, 4, 4, 24)     15552       activation_32[0][0]              \n",
      "__________________________________________________________________________________________________\n",
      "dropout_32 (Dropout)            (None, 4, 4, 24)     0           conv2d_33[0][0]                  \n",
      "__________________________________________________________________________________________________\n",
      "concatenate_29 (Concatenate)    (None, 4, 4, 96)     0           concatenate_28[0][0]             \n",
      "                                                                 dropout_32[0][0]                 \n",
      "__________________________________________________________________________________________________\n",
      "batch_normalization_33 (BatchNo (None, 4, 4, 96)     384         concatenate_29[0][0]             \n",
      "__________________________________________________________________________________________________\n",
      "activation_33 (Activation)      (None, 4, 4, 96)     0           batch_normalization_33[0][0]     \n",
      "__________________________________________________________________________________________________\n",
      "conv2d_34 (Conv2D)              (None, 4, 4, 24)     20736       activation_33[0][0]              \n",
      "__________________________________________________________________________________________________\n",
      "dropout_33 (Dropout)            (None, 4, 4, 24)     0           conv2d_34[0][0]                  \n",
      "__________________________________________________________________________________________________\n",
      "concatenate_30 (Concatenate)    (None, 4, 4, 120)    0           concatenate_29[0][0]             \n",
      "                                                                 dropout_33[0][0]                 \n",
      "__________________________________________________________________________________________________\n",
      "batch_normalization_34 (BatchNo (None, 4, 4, 120)    480         concatenate_30[0][0]             \n",
      "__________________________________________________________________________________________________\n",
      "activation_34 (Activation)      (None, 4, 4, 120)    0           batch_normalization_34[0][0]     \n",
      "__________________________________________________________________________________________________\n",
      "conv2d_35 (Conv2D)              (None, 4, 4, 24)     25920       activation_34[0][0]              \n",
      "__________________________________________________________________________________________________\n",
      "dropout_34 (Dropout)            (None, 4, 4, 24)     0           conv2d_35[0][0]                  \n",
      "__________________________________________________________________________________________________\n",
      "concatenate_31 (Concatenate)    (None, 4, 4, 144)    0           concatenate_30[0][0]             \n",
      "                                                                 dropout_34[0][0]                 \n",
      "__________________________________________________________________________________________________\n",
      "batch_normalization_35 (BatchNo (None, 4, 4, 144)    576         concatenate_31[0][0]             \n",
      "__________________________________________________________________________________________________\n",
      "activation_35 (Activation)      (None, 4, 4, 144)    0           batch_normalization_35[0][0]     \n",
      "__________________________________________________________________________________________________\n",
      "conv2d_36 (Conv2D)              (None, 4, 4, 24)     31104       activation_35[0][0]              \n",
      "__________________________________________________________________________________________________\n",
      "dropout_35 (Dropout)            (None, 4, 4, 24)     0           conv2d_36[0][0]                  \n",
      "__________________________________________________________________________________________________\n",
      "concatenate_32 (Concatenate)    (None, 4, 4, 168)    0           concatenate_31[0][0]             \n",
      "                                                                 dropout_35[0][0]                 \n",
      "__________________________________________________________________________________________________\n",
      "batch_normalization_36 (BatchNo (None, 4, 4, 168)    672         concatenate_32[0][0]             \n",
      "__________________________________________________________________________________________________\n",
      "activation_36 (Activation)      (None, 4, 4, 168)    0           batch_normalization_36[0][0]     \n",
      "__________________________________________________________________________________________________\n",
      "conv2d_37 (Conv2D)              (None, 4, 4, 24)     36288       activation_36[0][0]              \n",
      "__________________________________________________________________________________________________\n",
      "dropout_36 (Dropout)            (None, 4, 4, 24)     0           conv2d_37[0][0]                  \n",
      "__________________________________________________________________________________________________\n",
      "concatenate_33 (Concatenate)    (None, 4, 4, 192)    0           concatenate_32[0][0]             \n",
      "                                                                 dropout_36[0][0]                 \n",
      "__________________________________________________________________________________________________\n",
      "batch_normalization_37 (BatchNo (None, 4, 4, 192)    768         concatenate_33[0][0]             \n",
      "__________________________________________________________________________________________________\n",
      "activation_37 (Activation)      (None, 4, 4, 192)    0           batch_normalization_37[0][0]     \n",
      "__________________________________________________________________________________________________\n",
      "conv2d_38 (Conv2D)              (None, 4, 4, 24)     41472       activation_37[0][0]              \n",
      "__________________________________________________________________________________________________\n",
      "dropout_37 (Dropout)            (None, 4, 4, 24)     0           conv2d_38[0][0]                  \n",
      "__________________________________________________________________________________________________\n",
      "concatenate_34 (Concatenate)    (None, 4, 4, 216)    0           concatenate_33[0][0]             \n",
      "                                                                 dropout_37[0][0]                 \n",
      "__________________________________________________________________________________________________\n",
      "batch_normalization_38 (BatchNo (None, 4, 4, 216)    864         concatenate_34[0][0]             \n",
      "__________________________________________________________________________________________________\n",
      "activation_38 (Activation)      (None, 4, 4, 216)    0           batch_normalization_38[0][0]     \n",
      "__________________________________________________________________________________________________\n",
      "conv2d_39 (Conv2D)              (None, 4, 4, 24)     46656       activation_38[0][0]              \n",
      "__________________________________________________________________________________________________\n",
      "dropout_38 (Dropout)            (None, 4, 4, 24)     0           conv2d_39[0][0]                  \n",
      "__________________________________________________________________________________________________\n",
      "concatenate_35 (Concatenate)    (None, 4, 4, 240)    0           concatenate_34[0][0]             \n",
      "                                                                 dropout_38[0][0]                 \n",
      "__________________________________________________________________________________________________\n",
      "batch_normalization_39 (BatchNo (None, 4, 4, 240)    960         concatenate_35[0][0]             \n",
      "__________________________________________________________________________________________________\n",
      "activation_39 (Activation)      (None, 4, 4, 240)    0           batch_normalization_39[0][0]     \n",
      "__________________________________________________________________________________________________\n",
      "average_pooling2d_3 (AveragePoo (None, 2, 2, 240)    0           activation_39[0][0]              \n",
      "__________________________________________________________________________________________________\n",
      "conv2d_40 (Conv2D)              (None, 2, 2, 10)     2400        average_pooling2d_3[0][0]        \n",
      "__________________________________________________________________________________________________\n",
      "global_max_pooling2d (GlobalMax (None, 10)           0           conv2d_40[0][0]                  \n",
      "__________________________________________________________________________________________________\n",
      "activation_40 (Activation)      (None, 10)           0           global_max_pooling2d[0][0]       \n",
      "==================================================================================================\n",
      "Total params: 974,568\n",
      "Trainable params: 964,008\n",
      "Non-trainable params: 10,560\n",
      "__________________________________________________________________________________________________\n"
     ]
    }
   ],
   "source": [
    "model = Model(inputs=[input], outputs=[output])\n",
    "model.summary()"
   ]
  },
  {
   "cell_type": "code",
   "execution_count": 0,
   "metadata": {
    "colab": {},
    "colab_type": "code",
    "id": "b4XOsW3ahSkL"
   },
   "outputs": [],
   "source": [
    "# determine Loss function and Optimizer\n",
    "\n",
    "model.compile(loss='categorical_crossentropy',\n",
    "              optimizer=Adam(),\n",
    "              metrics=['accuracy'])"
   ]
  },
  {
   "cell_type": "code",
   "execution_count": 0,
   "metadata": {
    "colab": {
     "base_uri": "https://localhost:8080/",
     "height": 411
    },
    "colab_type": "code",
    "id": "crhGk7kEhXAz",
    "outputId": "45b9e70a-f6e0-4080-da71-560b5ed4e0df",
    "scrolled": true
   },
   "outputs": [
    {
     "name": "stdout",
     "output_type": "stream",
     "text": [
      "Train on 50000 samples, validate on 10000 samples\n",
      "Epoch 1/10\n",
      "50000/50000 [==============================] - 112s 2ms/sample - loss: 1.7266 - acc: 0.3533 - val_loss: 1.5696 - val_acc: 0.4313\n",
      "Epoch 2/10\n",
      "50000/50000 [==============================] - 96s 2ms/sample - loss: 1.3710 - acc: 0.4956 - val_loss: 1.6232 - val_acc: 0.4712\n",
      "Epoch 3/10\n",
      "50000/50000 [==============================] - 96s 2ms/sample - loss: 1.2011 - acc: 0.5626 - val_loss: 1.2632 - val_acc: 0.5566\n",
      "Epoch 4/10\n",
      "50000/50000 [==============================] - 96s 2ms/sample - loss: 1.0969 - acc: 0.6025 - val_loss: 1.2591 - val_acc: 0.5634\n",
      "Epoch 5/10\n",
      "50000/50000 [==============================] - 95s 2ms/sample - loss: 1.0390 - acc: 0.6257 - val_loss: 1.2728 - val_acc: 0.5842\n",
      "Epoch 6/10\n",
      "50000/50000 [==============================] - 96s 2ms/sample - loss: 0.9857 - acc: 0.6452 - val_loss: 1.4487 - val_acc: 0.5634\n",
      "Epoch 7/10\n",
      "50000/50000 [==============================] - 96s 2ms/sample - loss: 0.9501 - acc: 0.6597 - val_loss: 1.9306 - val_acc: 0.4998\n",
      "Epoch 8/10\n",
      "50000/50000 [==============================] - 96s 2ms/sample - loss: 0.9204 - acc: 0.6683 - val_loss: 1.0015 - val_acc: 0.6638\n",
      "Epoch 9/10\n",
      "50000/50000 [==============================] - 96s 2ms/sample - loss: 0.8858 - acc: 0.6805 - val_loss: 1.3980 - val_acc: 0.5892\n",
      "Epoch 10/10\n",
      "50000/50000 [==============================] - 96s 2ms/sample - loss: 0.8614 - acc: 0.6891 - val_loss: 1.3597 - val_acc: 0.5937\n"
     ]
    },
    {
     "data": {
      "text/plain": [
       "<tensorflow.python.keras.callbacks.History at 0x7f368f86a518>"
      ]
     },
     "execution_count": 11,
     "metadata": {
      "tags": []
     },
     "output_type": "execute_result"
    }
   ],
   "source": [
    "model.fit(X_train, y_train,\n",
    "                    batch_size=batch_size,\n",
    "                    epochs=epochs,\n",
    "                    verbose=1, \n",
    "                    validation_data=(X_test, y_test))"
   ]
  },
  {
   "cell_type": "code",
   "execution_count": 0,
   "metadata": {
    "colab": {
     "base_uri": "https://localhost:8080/",
     "height": 68
    },
    "colab_type": "code",
    "id": "ZcWydmIVhZGr",
    "outputId": "6df3f972-f809-44b5-faa8-c25ea1afdcc9"
   },
   "outputs": [
    {
     "name": "stdout",
     "output_type": "stream",
     "text": [
      "10000/10000 [==============================] - 8s 848us/sample - loss: 1.3597 - acc: 0.5937\n",
      "Test loss: 1.3597363298416139\n",
      "Test accuracy: 0.5937\n"
     ]
    }
   ],
   "source": [
    "# Test the model\n",
    "score = model.evaluate(X_test, y_test, verbose=1)\n",
    "print('Test loss:', score[0])\n",
    "print('Test accuracy:', score[1])"
   ]
  },
  {
   "cell_type": "code",
   "execution_count": 0,
   "metadata": {
    "colab": {},
    "colab_type": "code",
    "id": "UE3lF6EH1r_L"
   },
   "outputs": [],
   "source": [
    "# Save the trained weights in to .h5 format\n",
    "model.save_weights(\"DNST_model.h5\")\n",
    "print(\"Saved model to disk\")"
   ]
  },
  {
   "cell_type": "code",
   "execution_count": 0,
   "metadata": {
    "colab": {},
    "colab_type": "code",
    "id": "o1NXStrB8AcL"
   },
   "outputs": [],
   "source": [
    "# ['Augmentation','l','num_filters','compression','Optimizer','Test Accuracy']\n",
    "\n",
    "final_tab.add_row([None,l, num_filter, compression,'Adam',0.59])\n"
   ]
  },
  {
   "cell_type": "code",
   "execution_count": 0,
   "metadata": {
    "colab": {
     "base_uri": "https://localhost:8080/",
     "height": 102
    },
    "colab_type": "code",
    "id": "MdHgBd1p9Ib5",
    "outputId": "009e72de-f1f8-4744-8dd6-2afb61e61329"
   },
   "outputs": [
    {
     "name": "stdout",
     "output_type": "stream",
     "text": [
      "+--------------+----+-------------+-------------+-----------+---------------+\n",
      "| Augmentation | l  | num_filters | compression | Optimizer | Test Accuracy |\n",
      "+--------------+----+-------------+-------------+-----------+---------------+\n",
      "|     None     | 12 |      12     |     0.5     |    Adam   |      0.59     |\n",
      "+--------------+----+-------------+-------------+-----------+---------------+\n"
     ]
    }
   ],
   "source": [
    "print(final_tab)"
   ]
  },
  {
   "cell_type": "markdown",
   "metadata": {
    "colab_type": "text",
    "id": "mEGSwJFMXObb"
   },
   "source": [
    "# DenseNet Function"
   ]
  },
  {
   "cell_type": "code",
   "execution_count": 0,
   "metadata": {
    "colab": {},
    "colab_type": "code",
    "id": "tb4fp1L6Xiyx"
   },
   "outputs": [],
   "source": [
    "def dense_net(xtrain,xtest, optim = Adam(),k_size=(3,3), b_size = batch_size, epoch = epochs):\n",
    "          print('b_size:{} epochs:{}'.format(b_size,epoch))\n",
    "          input = layers.Input(shape=(img_height, img_width, channel,))\n",
    "          First_Conv2D = layers.Conv2D(num_filter, (3,3), use_bias=False ,padding='same')(input)\n",
    "\n",
    "          First_Block = denseblock(First_Conv2D, num_filter, dropout_rate)\n",
    "          First_Transition = transition(First_Block, num_filter, dropout_rate)\n",
    "\n",
    "          Second_Block = denseblock(First_Transition, num_filter, dropout_rate)\n",
    "          Second_Transition = transition(Second_Block, num_filter, dropout_rate)\n",
    "\n",
    "          Third_Block = denseblock(Second_Transition, num_filter, dropout_rate)\n",
    "          Third_Transition = transition(Third_Block, num_filter, dropout_rate)\n",
    "\n",
    "          Last_Block = denseblock(Third_Transition,  num_filter, dropout_rate)\n",
    "          output = output_layer(Last_Block)\n",
    "\n",
    "\n",
    "          model = Model(inputs=[input], outputs=[output])\n",
    "         \n",
    "          model.compile(loss='categorical_crossentropy',\n",
    "                        optimizer=Adam(),\n",
    "                        metrics=['accuracy'])\n",
    "\n",
    "          model.fit(xtrain, y_train,\n",
    "                              batch_size=batch_size,\n",
    "                              epochs=epochs,\n",
    "                              verbose=1, \n",
    "                              validation_data=(xtest, y_test))\n",
    "\n",
    "\n",
    "\n",
    "\n",
    "\n",
    "          score = model.evaluate(xtest, y_test, verbose=1)\n",
    "          print('Test loss:', score[0])\n",
    "          print('Test accuracy:', score[1])\n",
    "\n",
    "          return model\n",
    "          \n"
   ]
  },
  {
   "cell_type": "markdown",
   "metadata": {
    "colab_type": "text",
    "id": "2fLA3SqPZKQz"
   },
   "source": [
    "## Image Augmentation Techniques\n",
    "`Some of the augmentation techniques are as follows`\n",
    "<ol>\n",
    "<li>Vertical Shift Augmentation</li>\n",
    "<li>Horizontal Shift Augmentation</li>\n",
    "<li>Vertical Flip Augmentation</li>\n",
    "<li>Horizontal Flip Augmentation</li>\n",
    "</ol>"
   ]
  },
  {
   "cell_type": "markdown",
   "metadata": {
    "colab_type": "text",
    "id": "wkzL7VAtaCEH"
   },
   "source": [
    "## Vertical and Horizontal Shift Augmentation:\n",
    "`A shift to an image means moving all pixels of the image in one direction, vertically,horizontally while keeping the image dimensions the same.`"
   ]
  },
  {
   "cell_type": "code",
   "execution_count": 0,
   "metadata": {
    "colab": {},
    "colab_type": "code",
    "id": "Hx9ImbHRuolR"
   },
   "outputs": [],
   "source": [
    "# Reff https://machinelearningmastery.com/how-to-configure-image-data-augmentation-when-training-deep-learning-neural-networks/\n",
    "\n",
    "def vertical_horizontal_shift(arr_imgs):\n",
    "\n",
    "      # convert to numpy array\n",
    "      d = arr_imgs.copy()\n",
    "      \n",
    "      for i in tqdm(range(d.shape[0]), position=0):\n",
    "          data = d[i]\n",
    "          # expand dimension to one sample\n",
    "          samples = expand_dims(data, 0)\n",
    "          # create image data augmentation generator\n",
    "          datagen = ImageDataGenerator(width_shift_range=[-15,15], height_shift_range=[-15,15])\n",
    "          # prepare iterator\n",
    "          it = datagen.flow(samples, batch_size=1)\n",
    "          # generate samples and plot\n",
    "          # define subplot\n",
    "          # pyplot.subplot(330 + 1 + i)\n",
    "          # generate batch of images\n",
    "          for j in range(9):\n",
    "              batch = it.next()     \n",
    "              if j == 0:\n",
    "\n",
    "                  # convert to unsigned integers for viewing\n",
    "                  image = batch[0].astype('uint8')\n",
    "                  d[i] = image\n",
    "                  # plot raw pixel data\n",
    "                  break\n",
    "      return d"
   ]
  },
  {
   "cell_type": "markdown",
   "metadata": {
    "colab_type": "text",
    "id": "1bH8hpC65q2p"
   },
   "source": [
    "### Original Image"
   ]
  },
  {
   "cell_type": "code",
   "execution_count": 0,
   "metadata": {
    "colab": {
     "base_uri": "https://localhost:8080/",
     "height": 286
    },
    "colab_type": "code",
    "id": "7cSu54lQ5hxl",
    "outputId": "1e495ecb-0b94-4b48-a454-785db5ecf396"
   },
   "outputs": [
    {
     "data": {
      "text/plain": [
       "<matplotlib.image.AxesImage at 0x7fecfc932240>"
      ]
     },
     "execution_count": 17,
     "metadata": {
      "tags": []
     },
     "output_type": "execute_result"
    },
    {
     "data": {
      "image/png": "[encoded data removed]",
      "text/plain": [
       "<Figure size 432x288 with 1 Axes>"
      ]
     },
     "metadata": {
      "tags": []
     },
     "output_type": "display_data"
    }
   ],
   "source": [
    "pyplot.imshow(X_test[0])"
   ]
  },
  {
   "cell_type": "markdown",
   "metadata": {
    "colab_type": "text",
    "id": "vXJmDkai54fZ"
   },
   "source": [
    "### After Vertical and Horizontal Shift"
   ]
  },
  {
   "cell_type": "code",
   "execution_count": 0,
   "metadata": {
    "colab": {
     "base_uri": "https://localhost:8080/",
     "height": 303
    },
    "colab_type": "code",
    "id": "Vse1a-Vg53tL",
    "outputId": "cd4aa02a-e730-4fb1-e2d0-292fe407c473"
   },
   "outputs": [
    {
     "name": "stderr",
     "output_type": "stream",
     "text": [
      "100%|██████████| 10000/10000 [00:58<00:00, 169.87it/s]\n"
     ]
    },
    {
     "data": {
      "text/plain": [
       "<matplotlib.image.AxesImage at 0x7fe0a7a5a278>"
      ]
     },
     "execution_count": 25,
     "metadata": {
      "tags": []
     },
     "output_type": "execute_result"
    },
    {
     "data": {
      "image/png": "[encoded data removed]",
      "text/plain": [
       "<Figure size 432x288 with 1 Axes>"
      ]
     },
     "metadata": {
      "tags": []
     },
     "output_type": "display_data"
    }
   ],
   "source": [
    "pyplot.imshow(vertical_horizontal_shift(X_test)[0])"
   ]
  },
  {
   "cell_type": "markdown",
   "metadata": {
    "colab_type": "text",
    "id": "3zhJ8Q3f6gI2"
   },
   "source": [
    "## Applying vertical and horizontal shift on vertical and horizontal shift"
   ]
  },
  {
   "cell_type": "code",
   "execution_count": 0,
   "metadata": {
    "colab": {
     "base_uri": "https://localhost:8080/",
     "height": 51
    },
    "colab_type": "code",
    "id": "FAau4lVB31aX",
    "outputId": "10792969-0ce9-4f79-96e5-55fbc8c4ff7b"
   },
   "outputs": [
    {
     "name": "stderr",
     "output_type": "stream",
     "text": [
      "100%|██████████| 50000/50000 [00:42<00:00, 1170.97it/s]\n",
      "100%|██████████| 10000/10000 [00:08<00:00, 1207.90it/s]\n"
     ]
    }
   ],
   "source": [
    "v_h_shift_train = vertical_horizontal_shift(X_train)\n",
    "v_h_shift_test  = vertical_horizontal_shift(X_test)\n"
   ]
  },
  {
   "cell_type": "code",
   "execution_count": 0,
   "metadata": {
    "colab": {
     "base_uri": "https://localhost:8080/",
     "height": 286
    },
    "colab_type": "code",
    "id": "Zkqh6fPpJ6XO",
    "outputId": "77db44ce-ac4b-4d8b-c43f-0250d787f6d6"
   },
   "outputs": [
    {
     "data": {
      "text/plain": [
       "<matplotlib.image.AxesImage at 0x7fe0a43b8550>"
      ]
     },
     "execution_count": 48,
     "metadata": {
      "tags": []
     },
     "output_type": "execute_result"
    },
    {
     "data": {
      "image/png": "[encoded data removed]",
      "text/plain": [
       "<Figure size 432x288 with 1 Axes>"
      ]
     },
     "metadata": {
      "tags": []
     },
     "output_type": "display_data"
    }
   ],
   "source": [
    "pyplot.imshow(X_test[12])"
   ]
  },
  {
   "cell_type": "code",
   "execution_count": 0,
   "metadata": {
    "colab": {
     "base_uri": "https://localhost:8080/",
     "height": 286
    },
    "colab_type": "code",
    "id": "zRjA5my5JpWr",
    "outputId": "859d3ce0-db3f-48bf-cd5a-74c9e3d04d26"
   },
   "outputs": [
    {
     "data": {
      "text/plain": [
       "<matplotlib.image.AxesImage at 0x7fe0a33e3438>"
      ]
     },
     "execution_count": 49,
     "metadata": {
      "tags": []
     },
     "output_type": "execute_result"
    },
    {
     "data": {
      "image/png": "[encoded data removed]",
      "text/plain": [
       "<Figure size 432x288 with 1 Axes>"
      ]
     },
     "metadata": {
      "tags": []
     },
     "output_type": "display_data"
    }
   ],
   "source": [
    "pyplot.imshow(v_h_shift_test[12])"
   ]
  },
  {
   "cell_type": "markdown",
   "metadata": {
    "colab_type": "text",
    "id": "vNtVqMdFRViw"
   },
   "source": [
    "### DenseNet with Adam Optimizer on  Vertical Horizantal Shift Data"
   ]
  },
  {
   "cell_type": "code",
   "execution_count": 0,
   "metadata": {
    "colab": {
     "base_uri": "https://localhost:8080/",
     "height": 442
    },
    "colab_type": "code",
    "id": "I2Yb1OJQGD9g",
    "outputId": "76011b78-f509-4b51-fab2-bc38c74e7eae"
   },
   "outputs": [
    {
     "name": "stdout",
     "output_type": "stream",
     "text": [
      "b_size:64 epochs:10\n",
      "Train on 50000 samples, validate on 10000 samples\n",
      "Epoch 1/10\n",
      "50000/50000 [==============================] - 191s 4ms/sample - loss: 2.0386 - acc: 0.2355 - val_loss: 1.9912 - val_acc: 0.2963\n",
      "Epoch 2/10\n",
      "50000/50000 [==============================] - 174s 3ms/sample - loss: 1.8141 - acc: 0.3226 - val_loss: 1.7621 - val_acc: 0.3535\n",
      "Epoch 3/10\n",
      "50000/50000 [==============================] - 174s 3ms/sample - loss: 1.6705 - acc: 0.3824 - val_loss: 1.9284 - val_acc: 0.3487\n",
      "Epoch 4/10\n",
      "50000/50000 [==============================] - 174s 3ms/sample - loss: 1.5842 - acc: 0.4157 - val_loss: 1.6201 - val_acc: 0.4319\n",
      "Epoch 5/10\n",
      "50000/50000 [==============================] - 174s 3ms/sample - loss: 1.5244 - acc: 0.4409 - val_loss: 1.7455 - val_acc: 0.4045\n",
      "Epoch 6/10\n",
      "50000/50000 [==============================] - 174s 3ms/sample - loss: 1.4734 - acc: 0.4619 - val_loss: 1.5040 - val_acc: 0.4666\n",
      "Epoch 7/10\n",
      "50000/50000 [==============================] - 174s 3ms/sample - loss: 1.4372 - acc: 0.4787 - val_loss: 1.6663 - val_acc: 0.4400\n",
      "Epoch 8/10\n",
      "50000/50000 [==============================] - 174s 3ms/sample - loss: 1.4007 - acc: 0.4926 - val_loss: 1.6158 - val_acc: 0.4545\n",
      "Epoch 9/10\n",
      "50000/50000 [==============================] - 174s 3ms/sample - loss: 1.3735 - acc: 0.5033 - val_loss: 1.4835 - val_acc: 0.4785\n",
      "Epoch 10/10\n",
      "50000/50000 [==============================] - 174s 3ms/sample - loss: 1.3441 - acc: 0.5166 - val_loss: 1.5579 - val_acc: 0.4632\n",
      "10000/10000 [==============================] - 11s 1ms/sample - loss: 1.5579 - acc: 0.4632\n",
      "Test loss: 1.5579216079711915\n",
      "Test accuracy: 0.4632\n"
     ]
    }
   ],
   "source": [
    "v_h_shift_model = dense_net(v_h_shift_train, v_h_shift_test)"
   ]
  },
  {
   "cell_type": "code",
   "execution_count": 0,
   "metadata": {
    "colab": {},
    "colab_type": "code",
    "id": "Q07A6xHf9O3a"
   },
   "outputs": [],
   "source": [
    "final_tab.add_row(['Vertical_Horizantal_Shift',l, num_filter, compression,'Adam',0.42])"
   ]
  },
  {
   "cell_type": "markdown",
   "metadata": {
    "colab_type": "text",
    "id": "tTcPMXeyRkek"
   },
   "source": [
    "### DenseNet with Nadam Optimizer on  Vertical Horizantal Shift Data"
   ]
  },
  {
   "cell_type": "code",
   "execution_count": 0,
   "metadata": {
    "colab": {
     "base_uri": "https://localhost:8080/",
     "height": 425
    },
    "colab_type": "code",
    "id": "Xnkr9dfBBe6C",
    "outputId": "d43d6cae-81f0-4f49-8da7-43f085b658b5"
   },
   "outputs": [
    {
     "name": "stdout",
     "output_type": "stream",
     "text": [
      "Train on 50000 samples, validate on 10000 samples\n",
      "Epoch 1/10\n",
      "50000/50000 [==============================] - 105s 2ms/sample - loss: 2.1528 - acc: 0.1884 - val_loss: 2.3496 - val_acc: 0.1900\n",
      "Epoch 2/10\n",
      "50000/50000 [==============================] - 95s 2ms/sample - loss: 2.0143 - acc: 0.2405 - val_loss: 2.0252 - val_acc: 0.2460\n",
      "Epoch 3/10\n",
      "50000/50000 [==============================] - 96s 2ms/sample - loss: 1.8841 - acc: 0.2924 - val_loss: 2.0804 - val_acc: 0.2567\n",
      "Epoch 4/10\n",
      "50000/50000 [==============================] - 96s 2ms/sample - loss: 1.7920 - acc: 0.3263 - val_loss: 1.9178 - val_acc: 0.3146\n",
      "Epoch 5/10\n",
      "50000/50000 [==============================] - 96s 2ms/sample - loss: 1.7242 - acc: 0.3547 - val_loss: 1.7486 - val_acc: 0.3612\n",
      "Epoch 6/10\n",
      "50000/50000 [==============================] - 96s 2ms/sample - loss: 1.6726 - acc: 0.3753 - val_loss: 1.7488 - val_acc: 0.3691\n",
      "Epoch 7/10\n",
      "50000/50000 [==============================] - 96s 2ms/sample - loss: 1.6298 - acc: 0.3925 - val_loss: 1.7267 - val_acc: 0.3831\n",
      "Epoch 8/10\n",
      "50000/50000 [==============================] - 96s 2ms/sample - loss: 1.5924 - acc: 0.4099 - val_loss: 1.7654 - val_acc: 0.3777\n",
      "Epoch 9/10\n",
      "50000/50000 [==============================] - 96s 2ms/sample - loss: 1.5621 - acc: 0.4232 - val_loss: 1.6809 - val_acc: 0.4004\n",
      "Epoch 10/10\n",
      "50000/50000 [==============================] - 96s 2ms/sample - loss: 1.5330 - acc: 0.4333 - val_loss: 1.5949 - val_acc: 0.4122\n",
      "10000/10000 [==============================] - 8s 757us/sample - loss: 1.5949 - acc: 0.4122\n",
      "Test loss: 1.5949444211959838\n",
      "Test accuracy: 0.4122\n"
     ]
    }
   ],
   "source": [
    "v_h_shift_model_nadam = dense_net(v_h_shift_train, v_h_shift_test, optim=Nadam())"
   ]
  },
  {
   "cell_type": "code",
   "execution_count": 0,
   "metadata": {
    "colab": {},
    "colab_type": "code",
    "id": "5TJuB50hIfkV"
   },
   "outputs": [],
   "source": [
    "final_tab.add_row(['Vertical_Horizantal_Shift',l, num_filter, compression,'Nadam',0.41])"
   ]
  },
  {
   "cell_type": "markdown",
   "metadata": {
    "colab_type": "text",
    "id": "ICeWlG3qAot8"
   },
   "source": [
    "# Horizontal and Vertical Flip Augmentation\n",
    "\n",
    "`An image flip means reversing the rows or columns of pixels in the case of a vertical or horizontal flip respectively.`"
   ]
  },
  {
   "cell_type": "code",
   "execution_count": 0,
   "metadata": {
    "colab": {},
    "colab_type": "code",
    "id": "yPeV2xzkA9OV"
   },
   "outputs": [],
   "source": [
    "# Reff https://machinelearningmastery.com/how-to-configure-image-data-augmentation-when-training-deep-learning-neural-networks/\n",
    "\n",
    "\n",
    "def vertical_horizontal_flip(arr_imgs):\n",
    "\n",
    "      # convert to numpy array\n",
    "      d = arr_imgs.copy()\n",
    "      \n",
    "      for i in tqdm(range(d.shape[0])):\n",
    "          data = d[i]\n",
    "          # expand dimension to one sample\n",
    "          samples = expand_dims(data, 0)\n",
    "          # create image data augmentation generator\n",
    "          datagen = ImageDataGenerator(vertical_flip=True, horizontal_flip=True)\n",
    "          # prepare iterator\n",
    "          it = datagen.flow(samples, batch_size=1)\n",
    "          # generate samples and plot\n",
    "          # define subplot\n",
    "          # pyplot.subplot(330 + 1 + i)\n",
    "          # generate batch of images\n",
    "          for j in range(9):\n",
    "            batch = it.next()\n",
    "            if j == 2:\n",
    "              # convert to unsigned integers for viewing\n",
    "              image = batch[0].astype('uint8')\n",
    "              d[i] = image\n",
    "              break\n",
    "            # plot raw pixel data\n",
    "      return d"
   ]
  },
  {
   "cell_type": "code",
   "execution_count": 0,
   "metadata": {
    "colab": {},
    "colab_type": "code",
    "id": "KS9mBbNzVffY"
   },
   "outputs": [],
   "source": []
  },
  {
   "cell_type": "markdown",
   "metadata": {
    "colab_type": "text",
    "id": "PpeQ9sYLSQ34"
   },
   "source": [
    "### DenseNet with Optimizer on  Vertical Horizantal Flip Data"
   ]
  },
  {
   "cell_type": "code",
   "execution_count": 0,
   "metadata": {
    "colab": {
     "base_uri": "https://localhost:8080/",
     "height": 51
    },
    "colab_type": "code",
    "id": "yS1cElhhBey9",
    "outputId": "1fc489d8-d38c-432b-959c-137a47331ac0"
   },
   "outputs": [
    {
     "name": "stderr",
     "output_type": "stream",
     "text": [
      "100%|██████████| 50000/50000 [00:25<00:00, 1929.50it/s]\n",
      "100%|██████████| 10000/10000 [00:05<00:00, 1898.82it/s]\n"
     ]
    }
   ],
   "source": [
    "v_h_flip_xtrain = vertical_horizontal_flip(X_train)\n",
    "v_h_flip_xtest  = vertical_horizontal_flip(X_test)"
   ]
  },
  {
   "cell_type": "markdown",
   "metadata": {
    "colab_type": "text",
    "id": "Ov-4CBNMS1Dg"
   },
   "source": [
    "#### Before Flipping"
   ]
  },
  {
   "cell_type": "code",
   "execution_count": 0,
   "metadata": {
    "colab": {
     "base_uri": "https://localhost:8080/",
     "height": 286
    },
    "colab_type": "code",
    "id": "iI2X3pAkSTjn",
    "outputId": "f8080b94-dc41-4e7a-8441-b5fa38add8e9"
   },
   "outputs": [
    {
     "data": {
      "text/plain": [
       "<matplotlib.image.AxesImage at 0x7fe0530cf400>"
      ]
     },
     "execution_count": 63,
     "metadata": {
      "tags": []
     },
     "output_type": "execute_result"
    },
    {
     "data": {
      "image/png": "[encoded data removed]",
      "text/plain": [
       "<Figure size 432x288 with 1 Axes>"
      ]
     },
     "metadata": {
      "tags": []
     },
     "output_type": "display_data"
    }
   ],
   "source": [
    "pyplot.imshow(X_train[2])"
   ]
  },
  {
   "cell_type": "markdown",
   "metadata": {
    "colab_type": "text",
    "id": "Kywt6iXVS36A"
   },
   "source": [
    "#### After Flipping"
   ]
  },
  {
   "cell_type": "code",
   "execution_count": 0,
   "metadata": {
    "colab": {
     "base_uri": "https://localhost:8080/",
     "height": 286
    },
    "colab_type": "code",
    "id": "CGFS-18lSZiM",
    "outputId": "f9bb7292-6356-4d4b-a76f-a2da7c1369c0"
   },
   "outputs": [
    {
     "data": {
      "text/plain": [
       "<matplotlib.image.AxesImage at 0x7fe053061550>"
      ]
     },
     "execution_count": 64,
     "metadata": {
      "tags": []
     },
     "output_type": "execute_result"
    },
    {
     "data": {
      "image/png": "[encoded data removed]",
      "text/plain": [
       "<Figure size 432x288 with 1 Axes>"
      ]
     },
     "metadata": {
      "tags": []
     },
     "output_type": "display_data"
    }
   ],
   "source": [
    "pyplot.imshow(v_h_flip_xtrain[2])"
   ]
  },
  {
   "cell_type": "code",
   "execution_count": 0,
   "metadata": {
    "colab": {
     "base_uri": "https://localhost:8080/",
     "height": 425
    },
    "colab_type": "code",
    "id": "4s2uJQmqNBBA",
    "outputId": "4c809804-2093-40b5-f60c-0d065fca56aa"
   },
   "outputs": [
    {
     "name": "stdout",
     "output_type": "stream",
     "text": [
      "Train on 50000 samples, validate on 10000 samples\n",
      "Epoch 1/10\n",
      "50000/50000 [==============================] - 107s 2ms/sample - loss: 1.7911 - acc: 0.3097 - val_loss: 1.6606 - val_acc: 0.3809\n",
      "Epoch 2/10\n",
      "50000/50000 [==============================] - 96s 2ms/sample - loss: 1.5231 - acc: 0.4242 - val_loss: 1.6694 - val_acc: 0.4135\n",
      "Epoch 3/10\n",
      "50000/50000 [==============================] - 96s 2ms/sample - loss: 1.3828 - acc: 0.4865 - val_loss: 1.4306 - val_acc: 0.4768\n",
      "Epoch 4/10\n",
      "50000/50000 [==============================] - 96s 2ms/sample - loss: 1.2782 - acc: 0.5326 - val_loss: 1.4148 - val_acc: 0.5241\n",
      "Epoch 5/10\n",
      "50000/50000 [==============================] - 96s 2ms/sample - loss: 1.1989 - acc: 0.5606 - val_loss: 1.3927 - val_acc: 0.5238\n",
      "Epoch 6/10\n",
      "50000/50000 [==============================] - 96s 2ms/sample - loss: 1.1467 - acc: 0.5804 - val_loss: 1.4058 - val_acc: 0.5260\n",
      "Epoch 7/10\n",
      "50000/50000 [==============================] - 96s 2ms/sample - loss: 1.1055 - acc: 0.5982 - val_loss: 1.7325 - val_acc: 0.4948\n",
      "Epoch 8/10\n",
      "50000/50000 [==============================] - 96s 2ms/sample - loss: 1.0689 - acc: 0.6086 - val_loss: 1.3379 - val_acc: 0.5305\n",
      "Epoch 9/10\n",
      "50000/50000 [==============================] - 96s 2ms/sample - loss: 1.0425 - acc: 0.6206 - val_loss: 1.4536 - val_acc: 0.5383\n",
      "Epoch 10/10\n",
      "50000/50000 [==============================] - 96s 2ms/sample - loss: 1.0203 - acc: 0.6314 - val_loss: 1.3940 - val_acc: 0.5526\n",
      "10000/10000 [==============================] - 8s 824us/sample - loss: 1.3940 - acc: 0.5526\n",
      "Test loss: 1.3939515771865845\n",
      "Test accuracy: 0.5526\n"
     ]
    }
   ],
   "source": [
    "v_h_flip_model = dense_net(v_h_flip_xtrain, v_h_flip_xtest)"
   ]
  },
  {
   "cell_type": "code",
   "execution_count": 0,
   "metadata": {
    "colab": {},
    "colab_type": "code",
    "id": "M-GtMshXd_ck"
   },
   "outputs": [],
   "source": [
    "final_tab.add_row(['Vertical_Horizantal_Flip',l, num_filter, compression,'Adam',0.55])\n"
   ]
  },
  {
   "cell_type": "markdown",
   "metadata": {
    "colab_type": "text",
    "id": "QpbJS8BwXEjH"
   },
   "source": [
    "### DenseNet with Nadam Optimizer on  Vertical Horizantal Flip Data"
   ]
  },
  {
   "cell_type": "code",
   "execution_count": 0,
   "metadata": {
    "colab": {
     "base_uri": "https://localhost:8080/",
     "height": 425
    },
    "colab_type": "code",
    "id": "_xj9ZlRRNA76",
    "outputId": "dff2d39a-1395-4a70-b9a6-cc87e372be36"
   },
   "outputs": [
    {
     "name": "stdout",
     "output_type": "stream",
     "text": [
      "Train on 50000 samples, validate on 10000 samples\n",
      "Epoch 1/10\n",
      "50000/50000 [==============================] - 108s 2ms/sample - loss: 1.8078 - acc: 0.3088 - val_loss: 1.7010 - val_acc: 0.3601\n",
      "Epoch 2/10\n",
      "50000/50000 [==============================] - 96s 2ms/sample - loss: 1.5287 - acc: 0.4237 - val_loss: 1.4924 - val_acc: 0.4579\n",
      "Epoch 3/10\n",
      "50000/50000 [==============================] - 96s 2ms/sample - loss: 1.4101 - acc: 0.4767 - val_loss: 1.5825 - val_acc: 0.4363\n",
      "Epoch 4/10\n",
      "50000/50000 [==============================] - 96s 2ms/sample - loss: 1.3354 - acc: 0.5046 - val_loss: 1.4079 - val_acc: 0.4948\n",
      "Epoch 5/10\n",
      "50000/50000 [==============================] - 96s 2ms/sample - loss: 1.2751 - acc: 0.5342 - val_loss: 1.5963 - val_acc: 0.4315\n",
      "Epoch 6/10\n",
      "50000/50000 [==============================] - 96s 2ms/sample - loss: 1.2214 - acc: 0.5540 - val_loss: 1.3639 - val_acc: 0.5135\n",
      "Epoch 7/10\n",
      "50000/50000 [==============================] - 96s 2ms/sample - loss: 1.1718 - acc: 0.5729 - val_loss: 1.3339 - val_acc: 0.5423\n",
      "Epoch 8/10\n",
      "50000/50000 [==============================] - 96s 2ms/sample - loss: 1.1302 - acc: 0.5892 - val_loss: 1.2992 - val_acc: 0.5498\n",
      "Epoch 9/10\n",
      "50000/50000 [==============================] - 96s 2ms/sample - loss: 1.1001 - acc: 0.6005 - val_loss: 1.2659 - val_acc: 0.5631\n",
      "Epoch 10/10\n",
      "50000/50000 [==============================] - 96s 2ms/sample - loss: 1.0706 - acc: 0.6119 - val_loss: 1.1701 - val_acc: 0.5946\n",
      "10000/10000 [==============================] - 8s 823us/sample - loss: 1.1701 - acc: 0.5946\n",
      "Test loss: 1.1700947647094726\n",
      "Test accuracy: 0.5946\n"
     ]
    }
   ],
   "source": [
    "v_h_flip_model_nadam = dense_net(v_h_flip_xtrain, v_h_flip_xtest, optim = Nadam())"
   ]
  },
  {
   "cell_type": "code",
   "execution_count": 0,
   "metadata": {
    "colab": {},
    "colab_type": "code",
    "id": "VEYShehajAEA"
   },
   "outputs": [],
   "source": [
    "final_tab.add_row(['Vertical_Horizantal_Flip',l, num_filter, compression,'Nadam',0.59])"
   ]
  },
  {
   "cell_type": "markdown",
   "metadata": {
    "colab_type": "text",
    "id": "3BgFIK3BbrWv"
   },
   "source": [
    "## Brightness Augmentation\n",
    "`The brightness of the image can be augmented by either randomly darkening images, brightening images, or both.`\n"
   ]
  },
  {
   "cell_type": "code",
   "execution_count": 0,
   "metadata": {
    "colab": {},
    "colab_type": "code",
    "id": "hYbPcfFRNA4I"
   },
   "outputs": [],
   "source": [
    "def brightness(arr_imgs):\n",
    "\n",
    "      # convert to numpy array\n",
    "      d = arr_imgs.copy()\n",
    "      \n",
    "      for i in tqdm(range(d.shape[0])):\n",
    "          data = d[i]\n",
    "          # expand dimension to one sample\n",
    "          samples = expand_dims(data, 0)\n",
    "          # create image data augmentation generator\n",
    "          datagen = ImageDataGenerator(brightness_range=[0.5,0.6])\n",
    "          # prepare iterator\n",
    "          it = datagen.flow(samples, batch_size=1)\n",
    "          # generate samples and plot\n",
    "          # define subplot\n",
    "          # pyplot.subplot(330 + 1 + i)\n",
    "          # generate batch of images\n",
    "          for j in range(9):\n",
    "            batch = it.next()\n",
    "            if j == 8:\n",
    "              # convert to unsigned integers for viewing\n",
    "              image = batch[0].astype('uint8')\n",
    "              d[i] = image\n",
    "              break\n",
    "            # plot raw pixel data\n",
    "      return d"
   ]
  },
  {
   "cell_type": "code",
   "execution_count": 0,
   "metadata": {
    "colab": {
     "base_uri": "https://localhost:8080/",
     "height": 51
    },
    "colab_type": "code",
    "id": "F9A6gLUWNAy0",
    "outputId": "cdf122b2-6737-4cf4-e028-c07c096bceda"
   },
   "outputs": [
    {
     "name": "stderr",
     "output_type": "stream",
     "text": [
      "100%|██████████| 50000/50000 [02:29<00:00, 333.62it/s]\n",
      "100%|██████████| 10000/10000 [00:30<00:00, 328.29it/s]\n"
     ]
    }
   ],
   "source": [
    "bright_xtrain = brightness(X_train)\n",
    "bright_xtest = brightness(X_test)"
   ]
  },
  {
   "cell_type": "code",
   "execution_count": 0,
   "metadata": {
    "colab": {
     "base_uri": "https://localhost:8080/",
     "height": 286
    },
    "colab_type": "code",
    "id": "bYchQpVpgORm",
    "outputId": "296b5393-97e0-485c-c396-1c83c99ab606"
   },
   "outputs": [
    {
     "data": {
      "text/plain": [
       "<matplotlib.image.AxesImage at 0x7fe04e823518>"
      ]
     },
     "execution_count": 84,
     "metadata": {
      "tags": []
     },
     "output_type": "execute_result"
    },
    {
     "data": {
      "image/png": "[encoded data removed]",
      "text/plain": [
       "<Figure size 432x288 with 1 Axes>"
      ]
     },
     "metadata": {
      "tags": []
     },
     "output_type": "display_data"
    }
   ],
   "source": [
    "pyplot.imshow(X_train[2])"
   ]
  },
  {
   "cell_type": "code",
   "execution_count": 0,
   "metadata": {
    "colab": {
     "base_uri": "https://localhost:8080/",
     "height": 286
    },
    "colab_type": "code",
    "id": "fEIATdskgVJw",
    "outputId": "d965ad57-18e9-4a07-9f75-794e67e2c499"
   },
   "outputs": [
    {
     "data": {
      "text/plain": [
       "<matplotlib.image.AxesImage at 0x7fe04dbf18d0>"
      ]
     },
     "execution_count": 91,
     "metadata": {
      "tags": []
     },
     "output_type": "execute_result"
    },
    {
     "data": {
      "image/png": "[encoded data removed]",
      "text/plain": [
       "<Figure size 432x288 with 1 Axes>"
      ]
     },
     "metadata": {
      "tags": []
     },
     "output_type": "display_data"
    }
   ],
   "source": [
    "pyplot.imshow(bright_xtrain[2])"
   ]
  },
  {
   "cell_type": "markdown",
   "metadata": {
    "colab_type": "text",
    "id": "TLC6Et9nhXLf"
   },
   "source": [
    "### DenseNet with Adam Optimizer on Brightness Augmentation Data"
   ]
  },
  {
   "cell_type": "code",
   "execution_count": 0,
   "metadata": {
    "colab": {
     "base_uri": "https://localhost:8080/",
     "height": 425
    },
    "colab_type": "code",
    "id": "O5j-XB6XccZ6",
    "outputId": "20e8c29b-dbcc-4ee5-8312-380d6154a347"
   },
   "outputs": [
    {
     "name": "stdout",
     "output_type": "stream",
     "text": [
      "Train on 50000 samples, validate on 10000 samples\n",
      "Epoch 1/10\n",
      "50000/50000 [==============================] - 110s 2ms/sample - loss: 1.7495 - acc: 0.3368 - val_loss: 2.0044 - val_acc: 0.3110\n",
      "Epoch 2/10\n",
      "50000/50000 [==============================] - 97s 2ms/sample - loss: 1.3959 - acc: 0.4854 - val_loss: 1.5577 - val_acc: 0.4708\n",
      "Epoch 3/10\n",
      "50000/50000 [==============================] - 97s 2ms/sample - loss: 1.2084 - acc: 0.5608 - val_loss: 1.2202 - val_acc: 0.5645\n",
      "Epoch 4/10\n",
      "50000/50000 [==============================] - 96s 2ms/sample - loss: 1.0993 - acc: 0.6017 - val_loss: 1.3322 - val_acc: 0.5412\n",
      "Epoch 5/10\n",
      "50000/50000 [==============================] - 96s 2ms/sample - loss: 1.0283 - acc: 0.6269 - val_loss: 1.1301 - val_acc: 0.6099\n",
      "Epoch 6/10\n",
      "50000/50000 [==============================] - 97s 2ms/sample - loss: 0.9844 - acc: 0.6458 - val_loss: 1.2942 - val_acc: 0.5640\n",
      "Epoch 7/10\n",
      "50000/50000 [==============================] - 96s 2ms/sample - loss: 0.9409 - acc: 0.6628 - val_loss: 1.1198 - val_acc: 0.6105\n",
      "Epoch 8/10\n",
      "50000/50000 [==============================] - 97s 2ms/sample - loss: 0.9053 - acc: 0.6769 - val_loss: 1.5355 - val_acc: 0.5591\n",
      "Epoch 9/10\n",
      "50000/50000 [==============================] - 96s 2ms/sample - loss: 0.8834 - acc: 0.6845 - val_loss: 1.2051 - val_acc: 0.6246\n",
      "Epoch 10/10\n",
      "50000/50000 [==============================] - 96s 2ms/sample - loss: 0.8541 - acc: 0.6950 - val_loss: 0.9743 - val_acc: 0.6735\n",
      "10000/10000 [==============================] - 8s 782us/sample - loss: 0.9743 - acc: 0.6735\n",
      "Test loss: 0.9742989232063294\n",
      "Test accuracy: 0.6735\n"
     ]
    }
   ],
   "source": [
    "bright_model = dense_net(bright_xtrain, bright_xtest)"
   ]
  },
  {
   "cell_type": "code",
   "execution_count": 0,
   "metadata": {
    "colab": {},
    "colab_type": "code",
    "id": "zIWyuLKvnJ-i"
   },
   "outputs": [],
   "source": [
    "final_tab.add_row(['Brightness',l, num_filter, compression,'Adam',0.67])"
   ]
  },
  {
   "cell_type": "markdown",
   "metadata": {
    "colab_type": "text",
    "id": "e6dkVkiFhqa7"
   },
   "source": [
    "### DenseNet with Nadam Optimizer on Brightness Augmentation Data"
   ]
  },
  {
   "cell_type": "code",
   "execution_count": 0,
   "metadata": {
    "colab": {
     "base_uri": "https://localhost:8080/",
     "height": 425
    },
    "colab_type": "code",
    "id": "SBc2hm9occC6",
    "outputId": "b5e8efd2-8b37-4f95-cd88-52fc6aa10916"
   },
   "outputs": [
    {
     "name": "stdout",
     "output_type": "stream",
     "text": [
      "Train on 50000 samples, validate on 10000 samples\n",
      "Epoch 1/10\n",
      "50000/50000 [==============================] - 112s 2ms/sample - loss: 1.7422 - acc: 0.3393 - val_loss: 1.6212 - val_acc: 0.4032\n",
      "Epoch 2/10\n",
      "50000/50000 [==============================] - 97s 2ms/sample - loss: 1.3962 - acc: 0.4847 - val_loss: 1.5139 - val_acc: 0.4873\n",
      "Epoch 3/10\n",
      "50000/50000 [==============================] - 97s 2ms/sample - loss: 1.2154 - acc: 0.5559 - val_loss: 1.1808 - val_acc: 0.5713\n",
      "Epoch 4/10\n",
      "50000/50000 [==============================] - 96s 2ms/sample - loss: 1.1144 - acc: 0.5982 - val_loss: 1.2420 - val_acc: 0.5821\n",
      "Epoch 5/10\n",
      "50000/50000 [==============================] - 96s 2ms/sample - loss: 1.0450 - acc: 0.6246 - val_loss: 1.0905 - val_acc: 0.6186\n",
      "Epoch 6/10\n",
      "50000/50000 [==============================] - 96s 2ms/sample - loss: 0.9883 - acc: 0.6453 - val_loss: 1.2437 - val_acc: 0.5991\n",
      "Epoch 7/10\n",
      "50000/50000 [==============================] - 96s 2ms/sample - loss: 0.9478 - acc: 0.6600 - val_loss: 1.3254 - val_acc: 0.5601\n",
      "Epoch 8/10\n",
      "50000/50000 [==============================] - 96s 2ms/sample - loss: 0.9093 - acc: 0.6746 - val_loss: 1.1406 - val_acc: 0.6206\n",
      "Epoch 9/10\n",
      "50000/50000 [==============================] - 96s 2ms/sample - loss: 0.8846 - acc: 0.6830 - val_loss: 0.9157 - val_acc: 0.6844\n",
      "Epoch 10/10\n",
      "50000/50000 [==============================] - 96s 2ms/sample - loss: 0.8584 - acc: 0.6917 - val_loss: 0.9772 - val_acc: 0.6706\n",
      "10000/10000 [==============================] - 9s 924us/sample - loss: 0.9772 - acc: 0.6706\n",
      "Test loss: 0.9772336851119995\n",
      "Test accuracy: 0.6706\n"
     ]
    }
   ],
   "source": [
    "bright_model_nadam = dense_net(bright_xtrain, bright_xtest, optim=Nadam())"
   ]
  },
  {
   "cell_type": "code",
   "execution_count": 0,
   "metadata": {
    "colab": {},
    "colab_type": "code",
    "id": "auaraTQQnWbd"
   },
   "outputs": [],
   "source": [
    "final_tab.add_row(['Brightness',l, num_filter, compression,'Nadam',0.67])"
   ]
  },
  {
   "cell_type": "markdown",
   "metadata": {
    "colab_type": "text",
    "id": "RTrAKbFfsyBV"
   },
   "source": [
    "## Feature Standardization\n"
   ]
  },
  {
   "cell_type": "code",
   "execution_count": 0,
   "metadata": {
    "colab": {},
    "colab_type": "code",
    "id": "cMHzMip_nQHz"
   },
   "outputs": [],
   "source": [
    "def standard(arr_imgs):\n",
    "\n",
    "      # convert to numpy array\n",
    "      d = arr_imgs.copy()\n",
    "      \n",
    "      for i in tqdm(range(d.shape[0])):\n",
    "          data = d[i]\n",
    "          # expand dimension to one sample\n",
    "          samples = expand_dims(data, 0)\n",
    "          # create image data augmentation generator\n",
    "          datagen = ImageDataGenerator(featurewise_center=True, featurewise_std_normalization=True)\n",
    "          # prepare iterator\n",
    "          it = datagen.flow(samples, batch_size=1)\n",
    "          # generate samples and plot\n",
    "          # define subplot\n",
    "          # pyplot.subplot(330 + 1 + i)\n",
    "          # generate batch of images\n",
    "          for j in range(9):\n",
    "              batch = it.next()\n",
    "              if j == 5:\n",
    "                # convert to unsigned integers for viewing\n",
    "                image = batch[0].astype('uint8')\n",
    "                d[i] = image\n",
    "                break\n",
    "                # plot raw pixel data\n",
    "      return d"
   ]
  },
  {
   "cell_type": "code",
   "execution_count": 0,
   "metadata": {
    "colab": {
     "base_uri": "https://localhost:8080/",
     "height": 122
    },
    "colab_type": "code",
    "id": "U59Z5oImnQD6",
    "outputId": "eb620740-d755-4787-8c4c-a3fc094d00dc"
   },
   "outputs": [
    {
     "name": "stderr",
     "output_type": "stream",
     "text": [
      "  0%|          | 0/10000 [00:00<?, ?it/s]/usr/local/lib/python3.6/dist-packages/keras_preprocessing/image/image_data_generator.py:716: UserWarning: This ImageDataGenerator specifies `featurewise_center`, but it hasn't been fit on any training data. Fit it first by calling `.fit(numpy_data)`.\n",
      "  warnings.warn('This ImageDataGenerator specifies '\n",
      "/usr/local/lib/python3.6/dist-packages/keras_preprocessing/image/image_data_generator.py:724: UserWarning: This ImageDataGenerator specifies `featurewise_std_normalization`, but it hasn't been fit on any training data. Fit it first by calling `.fit(numpy_data)`.\n",
      "  warnings.warn('This ImageDataGenerator specifies '\n",
      "100%|██████████| 10000/10000 [00:08<00:00, 1211.73it/s]\n"
     ]
    }
   ],
   "source": [
    "# stand_xtrain = standard(X_train)\n",
    "stand_xtest  = standard(X_test)"
   ]
  },
  {
   "cell_type": "markdown",
   "metadata": {
    "colab_type": "text",
    "id": "QtjfDipu66je"
   },
   "source": [
    "### DenseNet with Adam Optimizer on Standardized Data"
   ]
  },
  {
   "cell_type": "code",
   "execution_count": 0,
   "metadata": {
    "colab": {
     "base_uri": "https://localhost:8080/",
     "height": 425
    },
    "colab_type": "code",
    "id": "aYByEpMNnP_E",
    "outputId": "b47273d8-072a-4201-99a0-6927227c2659"
   },
   "outputs": [
    {
     "name": "stdout",
     "output_type": "stream",
     "text": [
      "Train on 50000 samples, validate on 10000 samples\n",
      "Epoch 1/10\n",
      "50000/50000 [==============================] - 116s 2ms/sample - loss: 1.7418 - acc: 0.3469 - val_loss: 1.5594 - val_acc: 0.4418\n",
      "Epoch 2/10\n",
      "50000/50000 [==============================] - 98s 2ms/sample - loss: 1.3799 - acc: 0.4947 - val_loss: 1.6403 - val_acc: 0.4437\n",
      "Epoch 3/10\n",
      "50000/50000 [==============================] - 98s 2ms/sample - loss: 1.2129 - acc: 0.5580 - val_loss: 1.1566 - val_acc: 0.5843\n",
      "Epoch 4/10\n",
      "50000/50000 [==============================] - 97s 2ms/sample - loss: 1.1102 - acc: 0.6008 - val_loss: 1.2747 - val_acc: 0.5612\n",
      "Epoch 5/10\n",
      "50000/50000 [==============================] - 97s 2ms/sample - loss: 1.0414 - acc: 0.6250 - val_loss: 1.2837 - val_acc: 0.5759\n",
      "Epoch 6/10\n",
      "50000/50000 [==============================] - 97s 2ms/sample - loss: 0.9909 - acc: 0.6446 - val_loss: 1.2212 - val_acc: 0.5953\n",
      "Epoch 7/10\n",
      "50000/50000 [==============================] - 98s 2ms/sample - loss: 0.9481 - acc: 0.6585 - val_loss: 1.1835 - val_acc: 0.6058\n",
      "Epoch 8/10\n",
      "50000/50000 [==============================] - 98s 2ms/sample - loss: 0.9093 - acc: 0.6741 - val_loss: 1.0955 - val_acc: 0.6406\n",
      "Epoch 9/10\n",
      "50000/50000 [==============================] - 98s 2ms/sample - loss: 0.8840 - acc: 0.6811 - val_loss: 0.8493 - val_acc: 0.6984\n",
      "Epoch 10/10\n",
      "50000/50000 [==============================] - 97s 2ms/sample - loss: 0.8602 - acc: 0.6903 - val_loss: 1.0805 - val_acc: 0.6348\n",
      "10000/10000 [==============================] - 11s 1ms/sample - loss: 1.0805 - acc: 0.6348\n",
      "Test loss: 1.0804764985084534\n",
      "Test accuracy: 0.6348\n"
     ]
    }
   ],
   "source": [
    "stand_model = dense_net(stand_xtrain, stand_xtest)"
   ]
  },
  {
   "cell_type": "code",
   "execution_count": 0,
   "metadata": {
    "colab": {},
    "colab_type": "code",
    "id": "gqmVBORiwN7n"
   },
   "outputs": [],
   "source": [
    "final_tab.add_row(['Standardized',l, num_filter, compression,'Adam',0.63])"
   ]
  },
  {
   "cell_type": "markdown",
   "metadata": {
    "colab_type": "text",
    "id": "08jwnvVT75xB"
   },
   "source": [
    "## DenseNet with Nadam Optimizer on Standardized Data"
   ]
  },
  {
   "cell_type": "code",
   "execution_count": 0,
   "metadata": {
    "colab": {
     "base_uri": "https://localhost:8080/",
     "height": 425
    },
    "colab_type": "code",
    "id": "5yn_9jT_7Gwv",
    "outputId": "a537d9a0-ff17-4c94-d375-304d6e83b6d2"
   },
   "outputs": [
    {
     "name": "stdout",
     "output_type": "stream",
     "text": [
      "Train on 50000 samples, validate on 10000 samples\n",
      "Epoch 1/10\n",
      "50000/50000 [==============================] - 117s 2ms/sample - loss: 1.7193 - acc: 0.3541 - val_loss: 2.2187 - val_acc: 0.3326\n",
      "Epoch 2/10\n",
      "50000/50000 [==============================] - 98s 2ms/sample - loss: 1.3688 - acc: 0.4973 - val_loss: 1.5857 - val_acc: 0.4589\n",
      "Epoch 3/10\n",
      "50000/50000 [==============================] - 98s 2ms/sample - loss: 1.2211 - acc: 0.5536 - val_loss: 1.5198 - val_acc: 0.5076\n",
      "Epoch 4/10\n",
      "50000/50000 [==============================] - 98s 2ms/sample - loss: 1.1158 - acc: 0.5921 - val_loss: 1.4742 - val_acc: 0.5246\n",
      "Epoch 5/10\n",
      "50000/50000 [==============================] - 98s 2ms/sample - loss: 1.0399 - acc: 0.6241 - val_loss: 1.0491 - val_acc: 0.6400\n",
      "Epoch 6/10\n",
      "50000/50000 [==============================] - 98s 2ms/sample - loss: 0.9917 - acc: 0.6427 - val_loss: 1.0171 - val_acc: 0.6433\n",
      "Epoch 7/10\n",
      "50000/50000 [==============================] - 98s 2ms/sample - loss: 0.9490 - acc: 0.6574 - val_loss: 1.4362 - val_acc: 0.5504\n",
      "Epoch 8/10\n",
      "50000/50000 [==============================] - 98s 2ms/sample - loss: 0.9109 - acc: 0.6737 - val_loss: 1.0236 - val_acc: 0.6586\n",
      "Epoch 9/10\n",
      "50000/50000 [==============================] - 98s 2ms/sample - loss: 0.8778 - acc: 0.6854 - val_loss: 1.4910 - val_acc: 0.5662\n",
      "Epoch 10/10\n",
      "50000/50000 [==============================] - 98s 2ms/sample - loss: 0.8548 - acc: 0.6942 - val_loss: 0.9976 - val_acc: 0.6743\n",
      "10000/10000 [==============================] - 10s 1ms/sample - loss: 0.9976 - acc: 0.6743\n",
      "Test loss: 0.9975716045379639\n",
      "Test accuracy: 0.6743\n"
     ]
    }
   ],
   "source": [
    "stand_model_nadam = dense_net(stand_xtrain,stand_xtest, optim = Nadam())"
   ]
  },
  {
   "cell_type": "code",
   "execution_count": 0,
   "metadata": {
    "colab": {},
    "colab_type": "code",
    "id": "y0O0neDn4IPZ"
   },
   "outputs": [],
   "source": [
    "final_tab.add_row(['Standardized',l, num_filter, compression,'Nadam',0.63])"
   ]
  },
  {
   "cell_type": "markdown",
   "metadata": {
    "colab_type": "text",
    "id": "wnuJBO633qR8"
   },
   "source": [
    "<strong>Now lets try with changing some of the parameters</strong>"
   ]
  },
  {
   "cell_type": "code",
   "execution_count": 0,
   "metadata": {
    "colab": {},
    "colab_type": "code",
    "id": "dz7Mda7o7Grq"
   },
   "outputs": [],
   "source": [
    "l = 8\n",
    "num_filter = 38\n",
    "compression = 1"
   ]
  },
  {
   "cell_type": "markdown",
   "metadata": {
    "colab_type": "text",
    "id": "47mjuCSO58db"
   },
   "source": [
    "## DenseNet with Adam Optimizer on Vertical Horizantal Shift"
   ]
  },
  {
   "cell_type": "code",
   "execution_count": 0,
   "metadata": {
    "colab": {
     "base_uri": "https://localhost:8080/",
     "height": 425
    },
    "colab_type": "code",
    "id": "PvopMqwLkQOE",
    "outputId": "fe24862f-18b3-446f-d512-ec3ff86e840e"
   },
   "outputs": [
    {
     "name": "stdout",
     "output_type": "stream",
     "text": [
      "Train on 50000 samples, validate on 10000 samples\n",
      "Epoch 1/10\n",
      "50000/50000 [==============================] - 295s 6ms/sample - loss: 1.9932 - acc: 0.2628 - val_loss: 2.8806 - val_acc: 0.2111\n",
      "Epoch 2/10\n",
      "50000/50000 [==============================] - 269s 5ms/sample - loss: 1.6862 - acc: 0.3815 - val_loss: 1.8009 - val_acc: 0.3622\n",
      "Epoch 3/10\n",
      "50000/50000 [==============================] - 269s 5ms/sample - loss: 1.5389 - acc: 0.4382 - val_loss: 1.7920 - val_acc: 0.4283\n",
      "Epoch 4/10\n",
      "50000/50000 [==============================] - 269s 5ms/sample - loss: 1.4265 - acc: 0.4839 - val_loss: 1.6365 - val_acc: 0.4426\n",
      "Epoch 5/10\n",
      "50000/50000 [==============================] - 269s 5ms/sample - loss: 1.3483 - acc: 0.5146 - val_loss: 1.5748 - val_acc: 0.4719\n",
      "Epoch 6/10\n",
      "50000/50000 [==============================] - 270s 5ms/sample - loss: 1.2871 - acc: 0.5360 - val_loss: 1.4691 - val_acc: 0.4993\n",
      "Epoch 7/10\n",
      "50000/50000 [==============================] - 270s 5ms/sample - loss: 1.2317 - acc: 0.5591 - val_loss: 1.5214 - val_acc: 0.4985\n",
      "Epoch 8/10\n",
      "50000/50000 [==============================] - 271s 5ms/sample - loss: 1.1819 - acc: 0.5803 - val_loss: 1.5452 - val_acc: 0.5099\n",
      "Epoch 9/10\n",
      "50000/50000 [==============================] - 271s 5ms/sample - loss: 1.1379 - acc: 0.5932 - val_loss: 1.6148 - val_acc: 0.4963\n",
      "Epoch 10/10\n",
      "50000/50000 [==============================] - 271s 5ms/sample - loss: 1.1026 - acc: 0.6052 - val_loss: 1.5244 - val_acc: 0.5223\n",
      "10000/10000 [==============================] - 20s 2ms/sample - loss: 1.5244 - acc: 0.5223\n",
      "Test loss: 1.5243553981781006\n",
      "Test accuracy: 0.5223\n"
     ]
    }
   ],
   "source": [
    "v_h_shift_model2 = dense_net(v_h_shift_train,v_h_shift_test)"
   ]
  },
  {
   "cell_type": "code",
   "execution_count": 0,
   "metadata": {
    "colab": {},
    "colab_type": "code",
    "id": "pB53d8ZK6Uj4"
   },
   "outputs": [],
   "source": [
    "final_tab.add_row(['Vertical_Horizantal_shift',l, num_filter, compression,'Adam',0.52])"
   ]
  },
  {
   "cell_type": "markdown",
   "metadata": {
    "colab_type": "text",
    "id": "IdiUK8diB98D"
   },
   "source": [
    "## DenseNet with Nadam Optimizer on Vertical Horizantal Shift"
   ]
  },
  {
   "cell_type": "code",
   "execution_count": 0,
   "metadata": {
    "colab": {
     "base_uri": "https://localhost:8080/",
     "height": 425
    },
    "colab_type": "code",
    "id": "dFsHxrEL6Ty-",
    "outputId": "4c803c02-b2ab-42fe-d2a9-b1e418aaf750"
   },
   "outputs": [
    {
     "name": "stdout",
     "output_type": "stream",
     "text": [
      "Train on 50000 samples, validate on 10000 samples\n",
      "Epoch 1/10\n",
      "50000/50000 [==============================] - 288s 6ms/sample - loss: 1.9957 - acc: 0.2672 - val_loss: 2.0370 - val_acc: 0.2677\n",
      "Epoch 2/10\n",
      "50000/50000 [==============================] - 270s 5ms/sample - loss: 1.6974 - acc: 0.3788 - val_loss: 5.1156 - val_acc: 0.1736\n",
      "Epoch 3/10\n",
      "50000/50000 [==============================] - 270s 5ms/sample - loss: 1.5542 - acc: 0.4349 - val_loss: 1.7738 - val_acc: 0.3912\n",
      "Epoch 4/10\n",
      "50000/50000 [==============================] - 270s 5ms/sample - loss: 1.4505 - acc: 0.4729 - val_loss: 2.0385 - val_acc: 0.3929\n",
      "Epoch 5/10\n",
      "50000/50000 [==============================] - 270s 5ms/sample - loss: 1.3684 - acc: 0.5075 - val_loss: 1.6887 - val_acc: 0.4409\n",
      "Epoch 6/10\n",
      "50000/50000 [==============================] - 270s 5ms/sample - loss: 1.3042 - acc: 0.5300 - val_loss: 1.4545 - val_acc: 0.5053\n",
      "Epoch 7/10\n",
      "50000/50000 [==============================] - 270s 5ms/sample - loss: 1.2509 - acc: 0.5508 - val_loss: 1.8779 - val_acc: 0.4289\n",
      "Epoch 8/10\n",
      "50000/50000 [==============================] - 270s 5ms/sample - loss: 1.2035 - acc: 0.5672 - val_loss: 1.8281 - val_acc: 0.4424\n",
      "Epoch 9/10\n",
      "50000/50000 [==============================] - 270s 5ms/sample - loss: 1.1597 - acc: 0.5850 - val_loss: 3.2673 - val_acc: 0.3621\n",
      "Epoch 10/10\n",
      "50000/50000 [==============================] - 271s 5ms/sample - loss: 1.1192 - acc: 0.6013 - val_loss: 1.4267 - val_acc: 0.5364\n",
      "10000/10000 [==============================] - 19s 2ms/sample - loss: 1.4267 - acc: 0.5364\n",
      "Test loss: 1.426656289100647\n",
      "Test accuracy: 0.5364\n"
     ]
    }
   ],
   "source": [
    "v_h_shift_model2_nadam = dense_net(v_h_shift_train,v_h_shift_test,optim=Nadam())"
   ]
  },
  {
   "cell_type": "code",
   "execution_count": 0,
   "metadata": {
    "colab": {},
    "colab_type": "code",
    "id": "F2G6UazikQKq"
   },
   "outputs": [],
   "source": [
    "final_tab.add_row(['Vertical_Horizantal_shift',l, num_filter, compression,'Nadam',0.53])"
   ]
  },
  {
   "cell_type": "markdown",
   "metadata": {
    "colab_type": "text",
    "id": "conES9h8COby"
   },
   "source": [
    "## DenseNet with Adam Optimizer on Vertical Horizantal Flip"
   ]
  },
  {
   "cell_type": "code",
   "execution_count": 0,
   "metadata": {
    "colab": {
     "base_uri": "https://localhost:8080/",
     "height": 425
    },
    "colab_type": "code",
    "id": "XKCHfsMeCcKW",
    "outputId": "bdf660d4-deb7-4e75-f39c-7280a73c59d5"
   },
   "outputs": [
    {
     "name": "stdout",
     "output_type": "stream",
     "text": [
      "Train on 50000 samples, validate on 10000 samples\n",
      "Epoch 1/10\n",
      "50000/50000 [==============================] - 292s 6ms/sample - loss: 1.5497 - acc: 0.4271 - val_loss: 2.2234 - val_acc: 0.3542\n",
      "Epoch 2/10\n",
      "50000/50000 [==============================] - 271s 5ms/sample - loss: 1.1109 - acc: 0.6005 - val_loss: 1.9077 - val_acc: 0.4839\n",
      "Epoch 3/10\n",
      "50000/50000 [==============================] - 271s 5ms/sample - loss: 0.9230 - acc: 0.6673 - val_loss: 1.4761 - val_acc: 0.5829\n",
      "Epoch 4/10\n",
      "50000/50000 [==============================] - 271s 5ms/sample - loss: 0.8136 - acc: 0.7084 - val_loss: 1.4341 - val_acc: 0.5631\n",
      "Epoch 5/10\n",
      "50000/50000 [==============================] - 271s 5ms/sample - loss: 0.7315 - acc: 0.7382 - val_loss: 1.2017 - val_acc: 0.6418\n",
      "Epoch 6/10\n",
      "50000/50000 [==============================] - 271s 5ms/sample - loss: 0.6601 - acc: 0.7642 - val_loss: 1.3863 - val_acc: 0.6156\n",
      "Epoch 7/10\n",
      "50000/50000 [==============================] - 271s 5ms/sample - loss: 0.6100 - acc: 0.7844 - val_loss: 0.9802 - val_acc: 0.7015\n",
      "Epoch 8/10\n",
      "50000/50000 [==============================] - 271s 5ms/sample - loss: 0.5659 - acc: 0.7992 - val_loss: 1.0941 - val_acc: 0.6696\n",
      "Epoch 9/10\n",
      "50000/50000 [==============================] - 271s 5ms/sample - loss: 0.5260 - acc: 0.8134 - val_loss: 0.8848 - val_acc: 0.7286\n",
      "Epoch 10/10\n",
      "50000/50000 [==============================] - 271s 5ms/sample - loss: 0.4873 - acc: 0.8256 - val_loss: 1.0112 - val_acc: 0.7244\n",
      "10000/10000 [==============================] - 20s 2ms/sample - loss: 1.0112 - acc: 0.7244\n",
      "Test loss: 1.0111705540180207\n",
      "Test accuracy: 0.7244\n"
     ]
    }
   ],
   "source": [
    "v_h_flip_model2 = dense_net(v_h_flip_xtrain,v_h_flip_xtest)"
   ]
  },
  {
   "cell_type": "code",
   "execution_count": 0,
   "metadata": {
    "colab": {},
    "colab_type": "code",
    "id": "mDQUt4TQCb_U"
   },
   "outputs": [],
   "source": [
    "final_tab.add_row(['Vertical_Horizantal_flip',l, num_filter, compression,'Adam',0.72])"
   ]
  },
  {
   "cell_type": "markdown",
   "metadata": {
    "colab_type": "text",
    "id": "StuxVcQfC4xx"
   },
   "source": [
    "## DenseNet with Nadam Optimizer on Vertical Horizantal Flip"
   ]
  },
  {
   "cell_type": "code",
   "execution_count": 0,
   "metadata": {
    "colab": {
     "base_uri": "https://localhost:8080/",
     "height": 425
    },
    "colab_type": "code",
    "id": "SrAv7eKFC8Zi",
    "outputId": "66a0df4a-51a0-41aa-b88b-38cf2d5ae6a8"
   },
   "outputs": [
    {
     "name": "stdout",
     "output_type": "stream",
     "text": [
      "Train on 50000 samples, validate on 10000 samples\n",
      "Epoch 1/10\n",
      "50000/50000 [==============================] - 293s 6ms/sample - loss: 1.5328 - acc: 0.4368 - val_loss: 1.8540 - val_acc: 0.3984\n",
      "Epoch 2/10\n",
      "50000/50000 [==============================] - 272s 5ms/sample - loss: 1.0911 - acc: 0.6057 - val_loss: 1.1753 - val_acc: 0.6160\n",
      "Epoch 3/10\n",
      "50000/50000 [==============================] - 272s 5ms/sample - loss: 0.9227 - acc: 0.6685 - val_loss: 1.1697 - val_acc: 0.6228\n",
      "Epoch 4/10\n",
      "50000/50000 [==============================] - 272s 5ms/sample - loss: 0.8073 - acc: 0.7112 - val_loss: 2.4143 - val_acc: 0.4619\n",
      "Epoch 5/10\n",
      "50000/50000 [==============================] - 272s 5ms/sample - loss: 0.7319 - acc: 0.7377 - val_loss: 1.4257 - val_acc: 0.6086\n",
      "Epoch 6/10\n",
      "50000/50000 [==============================] - 272s 5ms/sample - loss: 0.6665 - acc: 0.7597 - val_loss: 1.1833 - val_acc: 0.6594\n",
      "Epoch 7/10\n",
      "50000/50000 [==============================] - 272s 5ms/sample - loss: 0.6127 - acc: 0.7821 - val_loss: 1.2028 - val_acc: 0.6588\n",
      "Epoch 8/10\n",
      "50000/50000 [==============================] - 272s 5ms/sample - loss: 0.5698 - acc: 0.7967 - val_loss: 0.8314 - val_acc: 0.7259\n",
      "Epoch 9/10\n",
      "50000/50000 [==============================] - 271s 5ms/sample - loss: 0.5264 - acc: 0.8124 - val_loss: 0.8623 - val_acc: 0.7422\n",
      "Epoch 10/10\n",
      "50000/50000 [==============================] - 271s 5ms/sample - loss: 0.4910 - acc: 0.8264 - val_loss: 1.1797 - val_acc: 0.6763\n",
      "10000/10000 [==============================] - 18s 2ms/sample - loss: 1.1797 - acc: 0.6763\n",
      "Test loss: 1.1797264897346496\n",
      "Test accuracy: 0.6763\n"
     ]
    }
   ],
   "source": [
    "v_h_flip_model2_nadam = dense_net(v_h_flip_xtrain,v_h_flip_xtest,optim=Nadam())"
   ]
  },
  {
   "cell_type": "code",
   "execution_count": 0,
   "metadata": {
    "colab": {},
    "colab_type": "code",
    "id": "tYBaNcYJC8U_"
   },
   "outputs": [],
   "source": [
    "final_tab.add_row(['Vertical_Horizantal_flip',l, num_filter, compression,'Nadam',0.67])"
   ]
  },
  {
   "cell_type": "markdown",
   "metadata": {
    "colab_type": "text",
    "id": "g1SRk3SFFNI8"
   },
   "source": [
    "## DenseNet with Adam Optimizer on Brightness"
   ]
  },
  {
   "cell_type": "code",
   "execution_count": 0,
   "metadata": {
    "colab": {
     "base_uri": "https://localhost:8080/",
     "height": 425
    },
    "colab_type": "code",
    "id": "KEn217TqFUBg",
    "outputId": "7eb62419-d912-4e55-91bf-9d11b41240f9"
   },
   "outputs": [
    {
     "name": "stdout",
     "output_type": "stream",
     "text": [
      "Train on 50000 samples, validate on 10000 samples\n",
      "Epoch 1/10\n",
      "50000/50000 [==============================] - 262s 5ms/sample - loss: 1.3957 - acc: 0.4889 - val_loss: 2.1067 - val_acc: 0.4403\n",
      "Epoch 2/10\n",
      "50000/50000 [==============================] - 247s 5ms/sample - loss: 0.8968 - acc: 0.6821 - val_loss: 1.0364 - val_acc: 0.6581\n",
      "Epoch 3/10\n",
      "50000/50000 [==============================] - 246s 5ms/sample - loss: 0.7104 - acc: 0.7495 - val_loss: 0.9763 - val_acc: 0.6957\n",
      "Epoch 4/10\n",
      "50000/50000 [==============================] - 246s 5ms/sample - loss: 0.6112 - acc: 0.7871 - val_loss: 1.1059 - val_acc: 0.6766\n",
      "Epoch 5/10\n",
      "50000/50000 [==============================] - 247s 5ms/sample - loss: 0.5337 - acc: 0.8115 - val_loss: 1.3122 - val_acc: 0.6740\n",
      "Epoch 6/10\n",
      "50000/50000 [==============================] - 247s 5ms/sample - loss: 0.4847 - acc: 0.8298 - val_loss: 1.0951 - val_acc: 0.7134\n",
      "Epoch 7/10\n",
      "50000/50000 [==============================] - 247s 5ms/sample - loss: 0.4338 - acc: 0.8492 - val_loss: 0.7656 - val_acc: 0.7695\n",
      "Epoch 8/10\n",
      "50000/50000 [==============================] - 247s 5ms/sample - loss: 0.3972 - acc: 0.8608 - val_loss: 0.9332 - val_acc: 0.7533\n",
      "Epoch 9/10\n",
      "50000/50000 [==============================] - 247s 5ms/sample - loss: 0.3658 - acc: 0.8720 - val_loss: 0.8406 - val_acc: 0.7652\n",
      "Epoch 10/10\n",
      "50000/50000 [==============================] - 247s 5ms/sample - loss: 0.3417 - acc: 0.8804 - val_loss: 0.7648 - val_acc: 0.7923\n",
      "10000/10000 [==============================] - 15s 2ms/sample - loss: 0.7648 - acc: 0.7923\n",
      "Test loss: 0.7648081164598465\n",
      "Test accuracy: 0.7923\n"
     ]
    }
   ],
   "source": [
    "bright_model2 = dense_net(bright_xtrain, bright_xtest)"
   ]
  },
  {
   "cell_type": "code",
   "execution_count": 0,
   "metadata": {
    "colab": {},
    "colab_type": "code",
    "id": "pXg3eV7VFlH5"
   },
   "outputs": [],
   "source": [
    "final_tab.add_row(['Brightness',l, num_filter, compression,'Adam',0.79])"
   ]
  },
  {
   "cell_type": "markdown",
   "metadata": {
    "colab_type": "text",
    "id": "5UYh4fu4Flu4"
   },
   "source": [
    "## DenseNet with Nadam Optimizer on Brightness"
   ]
  },
  {
   "cell_type": "code",
   "execution_count": 0,
   "metadata": {
    "colab": {
     "base_uri": "https://localhost:8080/",
     "height": 425
    },
    "colab_type": "code",
    "id": "K4j0yShhFtbC",
    "outputId": "f525352f-18a9-4c2f-bccd-f242f6bbd6c7"
   },
   "outputs": [
    {
     "name": "stdout",
     "output_type": "stream",
     "text": [
      "Train on 50000 samples, validate on 10000 samples\n",
      "Epoch 1/10\n",
      "50000/50000 [==============================] - 252s 5ms/sample - loss: 1.3535 - acc: 0.5083 - val_loss: 2.6686 - val_acc: 0.3786\n",
      "Epoch 2/10\n",
      "50000/50000 [==============================] - 247s 5ms/sample - loss: 0.8746 - acc: 0.6905 - val_loss: 1.4745 - val_acc: 0.5859\n",
      "Epoch 3/10\n",
      "50000/50000 [==============================] - 247s 5ms/sample - loss: 0.7027 - acc: 0.7521 - val_loss: 1.2347 - val_acc: 0.6524\n",
      "Epoch 4/10\n",
      "50000/50000 [==============================] - 247s 5ms/sample - loss: 0.6028 - acc: 0.7891 - val_loss: 0.9355 - val_acc: 0.7102\n",
      "Epoch 5/10\n",
      "50000/50000 [==============================] - 247s 5ms/sample - loss: 0.5348 - acc: 0.8140 - val_loss: 0.7049 - val_acc: 0.7758\n",
      "Epoch 6/10\n",
      "50000/50000 [==============================] - 246s 5ms/sample - loss: 0.4797 - acc: 0.8329 - val_loss: 0.8034 - val_acc: 0.7683\n",
      "Epoch 7/10\n",
      "50000/50000 [==============================] - 246s 5ms/sample - loss: 0.4343 - acc: 0.8484 - val_loss: 1.1576 - val_acc: 0.6972\n",
      "Epoch 8/10\n",
      "50000/50000 [==============================] - 246s 5ms/sample - loss: 0.4059 - acc: 0.8565 - val_loss: 0.6769 - val_acc: 0.8014\n",
      "Epoch 9/10\n",
      "50000/50000 [==============================] - 246s 5ms/sample - loss: 0.3660 - acc: 0.8709 - val_loss: 0.9298 - val_acc: 0.7320\n",
      "Epoch 10/10\n",
      "50000/50000 [==============================] - 247s 5ms/sample - loss: 0.3360 - acc: 0.8828 - val_loss: 1.2232 - val_acc: 0.7018\n",
      "10000/10000 [==============================] - 15s 1ms/sample - loss: 1.2232 - acc: 0.7018\n",
      "Test loss: 1.2232139734268188\n",
      "Test accuracy: 0.7018\n"
     ]
    }
   ],
   "source": [
    "bright_model2_nadam = dense_net(bright_xtrain, bright_xtest, optim=Nadam())"
   ]
  },
  {
   "cell_type": "code",
   "execution_count": 0,
   "metadata": {
    "colab": {},
    "colab_type": "code",
    "id": "-Qiew8mCFtXY"
   },
   "outputs": [],
   "source": [
    "final_tab.add_row(['Brightness',l, num_filter, compression,'Nadam',0.70])"
   ]
  },
  {
   "cell_type": "markdown",
   "metadata": {
    "colab_type": "text",
    "id": "3gCJagB5GYRN"
   },
   "source": [
    "## DenseNet with Adam Optimizer on Standardized Data"
   ]
  },
  {
   "cell_type": "code",
   "execution_count": 0,
   "metadata": {
    "colab": {
     "base_uri": "https://localhost:8080/",
     "height": 425
    },
    "colab_type": "code",
    "id": "aGz3ioKZFtSv",
    "outputId": "347a8cbd-f086-4a65-d73c-2e80607a0308"
   },
   "outputs": [
    {
     "name": "stdout",
     "output_type": "stream",
     "text": [
      "Train on 50000 samples, validate on 10000 samples\n",
      "Epoch 1/10\n",
      "50000/50000 [==============================] - 290s 6ms/sample - loss: 1.3630 - acc: 0.5059 - val_loss: 1.8054 - val_acc: 0.4663\n",
      "Epoch 2/10\n",
      "50000/50000 [==============================] - 271s 5ms/sample - loss: 0.8947 - acc: 0.6818 - val_loss: 2.0782 - val_acc: 0.5325\n",
      "Epoch 3/10\n",
      "50000/50000 [==============================] - 272s 5ms/sample - loss: 0.7168 - acc: 0.7482 - val_loss: 1.2432 - val_acc: 0.6331\n",
      "Epoch 4/10\n",
      "50000/50000 [==============================] - 271s 5ms/sample - loss: 0.6117 - acc: 0.7844 - val_loss: 1.6101 - val_acc: 0.6382\n",
      "Epoch 5/10\n",
      "50000/50000 [==============================] - 271s 5ms/sample - loss: 0.5369 - acc: 0.8114 - val_loss: 1.1828 - val_acc: 0.6678\n",
      "Epoch 6/10\n",
      "50000/50000 [==============================] - 271s 5ms/sample - loss: 0.4824 - acc: 0.8326 - val_loss: 0.9018 - val_acc: 0.7418\n",
      "Epoch 7/10\n",
      "50000/50000 [==============================] - 271s 5ms/sample - loss: 0.4367 - acc: 0.8485 - val_loss: 1.2826 - val_acc: 0.6894\n",
      "Epoch 8/10\n",
      "50000/50000 [==============================] - 271s 5ms/sample - loss: 0.3977 - acc: 0.8611 - val_loss: 0.7730 - val_acc: 0.7711\n",
      "Epoch 9/10\n",
      "50000/50000 [==============================] - 271s 5ms/sample - loss: 0.3629 - acc: 0.8738 - val_loss: 1.0036 - val_acc: 0.7356\n",
      "Epoch 10/10\n",
      "50000/50000 [==============================] - 271s 5ms/sample - loss: 0.3349 - acc: 0.8831 - val_loss: 0.8019 - val_acc: 0.7713\n",
      "10000/10000 [==============================] - 19s 2ms/sample - loss: 0.8019 - acc: 0.7713\n",
      "Test loss: 0.8018832360267639\n",
      "Test accuracy: 0.7713\n"
     ]
    }
   ],
   "source": [
    "stand_model2 = dense_net(stand_xtrain,stand_xtest)"
   ]
  },
  {
   "cell_type": "code",
   "execution_count": 0,
   "metadata": {
    "colab": {},
    "colab_type": "code",
    "id": "W4FSvoU1FtO5"
   },
   "outputs": [],
   "source": [
    "final_tab.add_row(['Standardized',l, num_filter, compression,'Adam',0.77])"
   ]
  },
  {
   "cell_type": "markdown",
   "metadata": {
    "colab_type": "text",
    "id": "ai4lWW2QGp6K"
   },
   "source": [
    "## DenseNet with Nadam Optimizer on Standardized Data"
   ]
  },
  {
   "cell_type": "code",
   "execution_count": 0,
   "metadata": {
    "colab": {
     "base_uri": "https://localhost:8080/",
     "height": 425
    },
    "colab_type": "code",
    "id": "GygSr8NZFtKi",
    "outputId": "7e061ca2-5d1a-469f-8608-e6ae4cc61fc5"
   },
   "outputs": [
    {
     "name": "stdout",
     "output_type": "stream",
     "text": [
      "Train on 50000 samples, validate on 10000 samples\n",
      "Epoch 1/10\n",
      "50000/50000 [==============================] - 291s 6ms/sample - loss: 1.3426 - acc: 0.5116 - val_loss: 1.8898 - val_acc: 0.4669\n",
      "Epoch 2/10\n",
      "50000/50000 [==============================] - 272s 5ms/sample - loss: 0.8734 - acc: 0.6906 - val_loss: 2.5935 - val_acc: 0.4521\n",
      "Epoch 3/10\n",
      "50000/50000 [==============================] - 272s 5ms/sample - loss: 0.7015 - acc: 0.7531 - val_loss: 1.2029 - val_acc: 0.6608\n",
      "Epoch 4/10\n",
      "50000/50000 [==============================] - 273s 5ms/sample - loss: 0.5990 - acc: 0.7908 - val_loss: 1.4715 - val_acc: 0.6416\n",
      "Epoch 5/10\n",
      "50000/50000 [==============================] - 273s 5ms/sample - loss: 0.5287 - acc: 0.8131 - val_loss: 0.6723 - val_acc: 0.7890\n",
      "Epoch 6/10\n",
      "50000/50000 [==============================] - 273s 5ms/sample - loss: 0.4771 - acc: 0.8332 - val_loss: 2.1752 - val_acc: 0.5709\n",
      "Epoch 7/10\n",
      "50000/50000 [==============================] - 272s 5ms/sample - loss: 0.4321 - acc: 0.8491 - val_loss: 0.9137 - val_acc: 0.7556\n",
      "Epoch 8/10\n",
      "50000/50000 [==============================] - 271s 5ms/sample - loss: 0.3960 - acc: 0.8619 - val_loss: 0.5650 - val_acc: 0.8256\n",
      "Epoch 9/10\n",
      "50000/50000 [==============================] - 271s 5ms/sample - loss: 0.3607 - acc: 0.8754 - val_loss: 0.7361 - val_acc: 0.7944\n",
      "Epoch 10/10\n",
      "50000/50000 [==============================] - 271s 5ms/sample - loss: 0.3387 - acc: 0.8808 - val_loss: 0.6667 - val_acc: 0.8088\n",
      "10000/10000 [==============================] - 20s 2ms/sample - loss: 0.6667 - acc: 0.8088\n",
      "Test loss: 0.6666583400726318\n",
      "Test accuracy: 0.8088\n"
     ]
    }
   ],
   "source": [
    "stand_model2_nadam = dense_net(stand_xtrain,stand_xtest, optim = Nadam())"
   ]
  },
  {
   "cell_type": "code",
   "execution_count": 0,
   "metadata": {
    "colab": {},
    "colab_type": "code",
    "id": "xi8rPjuTHJGJ"
   },
   "outputs": [],
   "source": [
    "final_tab.add_row(['Standardized',l, num_filter, compression,'Nadam',0.80])"
   ]
  },
  {
   "cell_type": "code",
   "execution_count": 0,
   "metadata": {
    "colab": {
     "base_uri": "https://localhost:8080/",
     "height": 374
    },
    "colab_type": "code",
    "id": "8kPheLf7C8Q1",
    "outputId": "fe7ae051-2c19-450c-85dd-d90405e0ac20"
   },
   "outputs": [
    {
     "name": "stdout",
     "output_type": "stream",
     "text": [
      "+---------------------------+----+-------------+-------------+-----------+---------------+\n",
      "|        Augmentation       | l  | num_filters | compression | Optimizer | Test Accuracy |\n",
      "+---------------------------+----+-------------+-------------+-----------+---------------+\n",
      "|            None           | 12 |      12     |     0.5     |    Adam   |      0.59     |\n",
      "| Vertical_Horizantal_Shift | 12 |      12     |     0.5     |    Adam   |      0.41     |\n",
      "| Vertical_Horizantal_Shift | 12 |      12     |     0.5     |   Nadam   |     0.409     |\n",
      "|  Vertical_Horizantal_Flip | 12 |      12     |     0.5     |    Adam   |     0.604     |\n",
      "|  Vertical_Horizantal_Flip | 12 |      12     |     0.5     |   Nadam   |      0.61     |\n",
      "|         Brightness        | 12 |      12     |     0.5     |    Adam   |      0.66     |\n",
      "|         Brightness        | 12 |      12     |     0.5     |   Nadam   |      0.67     |\n",
      "|        Standardized       | 12 |      12     |     0.5     |    Adam   |      0.63     |\n",
      "|        Standardized       | 12 |      12     |     0.5     |   Nadam   |      0.63     |\n",
      "| Vertical_Horizantal_shift | 8  |      38     |      1      |    Adam   |      0.52     |\n",
      "| Vertical_Horizantal_shift | 8  |      38     |      1      |   Nadam   |      0.53     |\n",
      "|  Vertical_Horizantal_flip | 8  |      38     |      1      |    Adam   |      0.72     |\n",
      "|  Vertical_Horizantal_flip | 8  |      38     |      1      |   Nadam   |      0.67     |\n",
      "|         Brightness        | 8  |      38     |      1      |    Adam   |      0.79     |\n",
      "|         Brightness        | 8  |      38     |      1      |   Nadam   |      0.7      |\n",
      "|        Standardized       | 8  |      38     |      1      |    Adam   |      0.77     |\n",
      "|        Standardized       | 8  |      38     |      1      |   Nadam   |      0.8      |\n",
      "+---------------------------+----+-------------+-------------+-----------+---------------+\n"
     ]
    }
   ],
   "source": [
    "print(final_tab)"
   ]
  },
  {
   "cell_type": "markdown",
   "metadata": {
    "colab_type": "text",
    "id": "VWOnAydG4iwq"
   },
   "source": [
    "### Observations:\n",
    "\n",
    "<strong>If we observe the test accuracy when l =8, no_filters = 38, compression = 1 is higher so we shall use these changed parameters</strong>"
   ]
  },
  {
   "cell_type": "markdown",
   "metadata": {
    "colab_type": "text",
    "id": "bWkowdD45woY"
   },
   "source": [
    "<strong>We shall add the image augmentation which influenced the test accuracy lot i.e brightness,standardization, flipping</strong>"
   ]
  },
  {
   "cell_type": "code",
   "execution_count": 0,
   "metadata": {
    "colab": {},
    "colab_type": "code",
    "id": "xD0cQXI_YTOD"
   },
   "outputs": [],
   "source": []
  },
  {
   "cell_type": "code",
   "execution_count": 11,
   "metadata": {
    "colab": {
     "base_uri": "https://localhost:8080/",
     "height": 52
    },
    "colab_type": "code",
    "id": "-GcEs3Lrww8N",
    "outputId": "867c12ce-16e6-47c1-cbfb-960828e8e43d"
   },
   "outputs": [
    {
     "name": "stdout",
     "output_type": "stream",
     "text": [
      "CPU times: user 178 µs, sys: 35 µs, total: 213 µs\n",
      "Wall time: 218 µs\n"
     ]
    }
   ],
   "source": [
    "%%time\n",
    "\n",
    "datagen = ImageDataGenerator(\n",
    "    \n",
    "    brightness_range=[0.5,1.9],\n",
    "    featurewise_center=True, featurewise_std_normalization=True,\n",
    "    width_shift_range = 0.125,\n",
    "    horizontal_flip=True,vertical_flip=True,rotation_range=15,\n",
    "    fill_mode='nearest'\n",
    ")"
   ]
  },
  {
   "cell_type": "code",
   "execution_count": 0,
   "metadata": {
    "colab": {
     "base_uri": "https://localhost:8080/",
     "height": 356
    },
    "colab_type": "code",
    "id": "IKe2P6RA7Ihh",
    "outputId": "305172c4-8bc8-4a72-cd9e-957ca86b7c14"
   },
   "outputs": [
    {
     "name": "stderr",
     "output_type": "stream",
     "text": [
      "/usr/local/lib/python3.6/dist-packages/keras_preprocessing/image/image_data_generator.py:716: UserWarning: This ImageDataGenerator specifies `featurewise_center`, but it hasn't been fit on any training data. Fit it first by calling `.fit(numpy_data)`.\n",
      "  warnings.warn('This ImageDataGenerator specifies '\n",
      "/usr/local/lib/python3.6/dist-packages/keras_preprocessing/image/image_data_generator.py:724: UserWarning: This ImageDataGenerator specifies `featurewise_std_normalization`, but it hasn't been fit on any training data. Fit it first by calling `.fit(numpy_data)`.\n",
      "  warnings.warn('This ImageDataGenerator specifies '\n"
     ]
    },
    {
     "data": {
      "image/png": "[encoded data removed]",
      "text/plain": [
       "<Figure size 432x288 with 9 Axes>"
      ]
     },
     "metadata": {
      "tags": []
     },
     "output_type": "display_data"
    }
   ],
   "source": [
    "\n",
    "for X_batch, y_batch in datagen.flow(X_train[:9], y_train[:9], batch_size=9):\n",
    "    for i in range(0, 9):\n",
    "        plt.subplot(330 + 1 + i)\n",
    "        \n",
    "        plt.imshow(X_batch[i].astype('uint8'), cmap=plt.get_cmap('prism'))\n",
    "    plt.show()\n",
    "    break"
   ]
  },
  {
   "cell_type": "code",
   "execution_count": 0,
   "metadata": {
    "colab": {},
    "colab_type": "code",
    "id": "bN7MmkHOoFq-"
   },
   "outputs": [],
   "source": [
    "l"
   ]
  },
  {
   "cell_type": "code",
   "execution_count": 0,
   "metadata": {
    "colab": {},
    "colab_type": "code",
    "id": "h57HoIyvgOjz"
   },
   "outputs": [],
   "source": [
    "def dense_net2(xtrain,xtest, optim = Adam(),k_size=(3,3), b_size = batch_size, epoch = epochs):\n",
    "          print('b_size:{} epochs:{} '.format(b_size,epoch))\n",
    "          input = layers.Input(shape=(img_height, img_width, channel,))\n",
    "          First_Conv2D = layers.Conv2D(num_filter, (3,3), use_bias=False ,padding='same')(input)\n",
    "\n",
    "          First_Block = denseblock(First_Conv2D, num_filter, dropout_rate)\n",
    "          First_Transition = transition(First_Block, num_filter, dropout_rate)\n",
    "\n",
    "          Second_Block = denseblock(First_Transition, num_filter, dropout_rate)\n",
    "          Second_Transition = transition(Second_Block, num_filter, dropout_rate)\n",
    "\n",
    "          Third_Block = denseblock(Second_Transition, num_filter, dropout_rate)\n",
    "          Third_Transition = transition(Third_Block, num_filter, dropout_rate)\n",
    "\n",
    "          Last_Block = denseblock(Third_Transition,  num_filter, dropout_rate)\n",
    "          output = output_layer(Last_Block)\n",
    "        \n",
    "\n",
    "          model = Model(inputs=[input], outputs=[output])\n",
    "\n",
    "          reduce_lr = ReduceLROnPlateau(monitor = 'val_loss', factor = 0.1, patience = 5, min_lr = 0.000001)\n",
    "\n",
    "          # early_stop = EarlyStopping(monitor = \"val_loss\", patience = 10)\n",
    "\n",
    "          def decay_fn(epoch, lr):\n",
    "              if epoch < 50:\n",
    "                  return 0.001\n",
    "              elif epoch >= 50 and epoch < 75:\n",
    "                  return 0.0001\n",
    "              else:\n",
    "                  return 0.00001\n",
    "\n",
    "          lr_scheduler = LearningRateScheduler(decay_fn)\n",
    "\n",
    "          csv_logger = CSVLogger('training.log')\n",
    "\n",
    "\n",
    "\n",
    "\n",
    "          checkpoint = ModelCheckpoint('gdrive/My Drive/cnnoncifar/models/model-{epoch:03d}-{acc:03f}-{val_acc:03f}.h5',\n",
    "                                       verbose=1, monitor='val_acc',save_best_only=True, mode='auto')  \n",
    "\n",
    "         \n",
    "\n",
    "\n",
    "          model.compile(loss='categorical_crossentropy',\n",
    "                        optimizer=Adam(),\n",
    "                        metrics=['accuracy'])\n",
    "\n",
    "          # model.fit(xtrain, y_train,\n",
    "          #                     batch_size=batch_size,\n",
    "          #                     epochs=epochs,\n",
    "          #                     verbose=1, \n",
    "          #                     validation_data=(xtest, y_test))\n",
    "          print(model.summary())\n",
    "          model.fit_generator(\n",
    "            datagen.flow(xtrain, y_train, batch_size=b_size),\n",
    "            steps_per_epoch=(len(xtrain)/batch_size)*5,              \n",
    "            epochs=epoch,\n",
    "            verbose = 1,\n",
    "            validation_data=(xtest, y_test),callbacks=[checkpoint])\n",
    "\n",
    "\n",
    "\n",
    "          score = model.evaluate(xtest, y_test, verbose=1)\n",
    "          print('Test loss:', score[0])\n",
    "          print('Test accuracy:', score[1])\n",
    "\n",
    "          return model\n",
    "          \n"
   ]
  },
  {
   "cell_type": "code",
   "execution_count": 0,
   "metadata": {
    "colab": {},
    "colab_type": "code",
    "id": "JfWa-vxxC652"
   },
   "outputs": [],
   "source": [
    "# l = 8\n",
    "# num_filter = 27\n",
    "compression = 1.041\n",
    "# \n",
    "# \n",
    "\n",
    "\n",
    "# no of layers in dense block\n",
    "l = 9 \n",
    "# growth rate k\n",
    "num_filter = 24\n"
   ]
  },
  {
   "cell_type": "code",
   "execution_count": 0,
   "metadata": {
    "colab": {
     "base_uri": "https://localhost:8080/",
     "height": 1000
    },
    "colab_type": "code",
    "id": "QPgSkHRpgSGm",
    "outputId": "92b38c06-4a2a-4143-b5a9-171c2efd5ed5"
   },
   "outputs": [
    {
     "name": "stdout",
     "output_type": "stream",
     "text": [
      "b_size:128 epochs:150 \n",
      "input (?, 4, 4, 240)\n",
      "Batch (?, 4, 4, 240)\n",
      "relu (?, 4, 4, 240)\n",
      "Model: \"model_2\"\n",
      "__________________________________________________________________________________________________\n",
      "Layer (type)                    Output Shape         Param #     Connected to                     \n",
      "==================================================================================================\n",
      "input_3 (InputLayer)            [(None, 32, 32, 3)]  0                                            \n",
      "__________________________________________________________________________________________________\n",
      "conv2d_82 (Conv2D)              (None, 32, 32, 24)   648         input_3[0][0]                    \n",
      "__________________________________________________________________________________________________\n",
      "batch_normalization_80 (BatchNo (None, 32, 32, 24)   96          conv2d_82[0][0]                  \n",
      "__________________________________________________________________________________________________\n",
      "activation_82 (Activation)      (None, 32, 32, 24)   0           batch_normalization_80[0][0]     \n",
      "__________________________________________________________________________________________________\n",
      "conv2d_83 (Conv2D)              (None, 32, 32, 24)   5184        activation_82[0][0]              \n",
      "__________________________________________________________________________________________________\n",
      "dropout_78 (Dropout)            (None, 32, 32, 24)   0           conv2d_83[0][0]                  \n",
      "__________________________________________________________________________________________________\n",
      "concatenate_72 (Concatenate)    (None, 32, 32, 48)   0           conv2d_82[0][0]                  \n",
      "                                                                 dropout_78[0][0]                 \n",
      "__________________________________________________________________________________________________\n",
      "batch_normalization_81 (BatchNo (None, 32, 32, 48)   192         concatenate_72[0][0]             \n",
      "__________________________________________________________________________________________________\n",
      "activation_83 (Activation)      (None, 32, 32, 48)   0           batch_normalization_81[0][0]     \n",
      "__________________________________________________________________________________________________\n",
      "conv2d_84 (Conv2D)              (None, 32, 32, 24)   10368       activation_83[0][0]              \n",
      "__________________________________________________________________________________________________\n",
      "dropout_79 (Dropout)            (None, 32, 32, 24)   0           conv2d_84[0][0]                  \n",
      "__________________________________________________________________________________________________\n",
      "concatenate_73 (Concatenate)    (None, 32, 32, 72)   0           concatenate_72[0][0]             \n",
      "                                                                 dropout_79[0][0]                 \n",
      "__________________________________________________________________________________________________\n",
      "batch_normalization_82 (BatchNo (None, 32, 32, 72)   288         concatenate_73[0][0]             \n",
      "__________________________________________________________________________________________________\n",
      "activation_84 (Activation)      (None, 32, 32, 72)   0           batch_normalization_82[0][0]     \n",
      "__________________________________________________________________________________________________\n",
      "conv2d_85 (Conv2D)              (None, 32, 32, 24)   15552       activation_84[0][0]              \n",
      "__________________________________________________________________________________________________\n",
      "dropout_80 (Dropout)            (None, 32, 32, 24)   0           conv2d_85[0][0]                  \n",
      "__________________________________________________________________________________________________\n",
      "concatenate_74 (Concatenate)    (None, 32, 32, 96)   0           concatenate_73[0][0]             \n",
      "                                                                 dropout_80[0][0]                 \n",
      "__________________________________________________________________________________________________\n",
      "batch_normalization_83 (BatchNo (None, 32, 32, 96)   384         concatenate_74[0][0]             \n",
      "__________________________________________________________________________________________________\n",
      "activation_85 (Activation)      (None, 32, 32, 96)   0           batch_normalization_83[0][0]     \n",
      "__________________________________________________________________________________________________\n",
      "conv2d_86 (Conv2D)              (None, 32, 32, 24)   20736       activation_85[0][0]              \n",
      "__________________________________________________________________________________________________\n",
      "dropout_81 (Dropout)            (None, 32, 32, 24)   0           conv2d_86[0][0]                  \n",
      "__________________________________________________________________________________________________\n",
      "concatenate_75 (Concatenate)    (None, 32, 32, 120)  0           concatenate_74[0][0]             \n",
      "                                                                 dropout_81[0][0]                 \n",
      "__________________________________________________________________________________________________\n",
      "batch_normalization_84 (BatchNo (None, 32, 32, 120)  480         concatenate_75[0][0]             \n",
      "__________________________________________________________________________________________________\n",
      "activation_86 (Activation)      (None, 32, 32, 120)  0           batch_normalization_84[0][0]     \n",
      "__________________________________________________________________________________________________\n",
      "conv2d_87 (Conv2D)              (None, 32, 32, 24)   25920       activation_86[0][0]              \n",
      "__________________________________________________________________________________________________\n",
      "dropout_82 (Dropout)            (None, 32, 32, 24)   0           conv2d_87[0][0]                  \n",
      "__________________________________________________________________________________________________\n",
      "concatenate_76 (Concatenate)    (None, 32, 32, 144)  0           concatenate_75[0][0]             \n",
      "                                                                 dropout_82[0][0]                 \n",
      "__________________________________________________________________________________________________\n",
      "batch_normalization_85 (BatchNo (None, 32, 32, 144)  576         concatenate_76[0][0]             \n",
      "__________________________________________________________________________________________________\n",
      "activation_87 (Activation)      (None, 32, 32, 144)  0           batch_normalization_85[0][0]     \n",
      "__________________________________________________________________________________________________\n",
      "conv2d_88 (Conv2D)              (None, 32, 32, 24)   31104       activation_87[0][0]              \n",
      "__________________________________________________________________________________________________\n",
      "dropout_83 (Dropout)            (None, 32, 32, 24)   0           conv2d_88[0][0]                  \n",
      "__________________________________________________________________________________________________\n",
      "concatenate_77 (Concatenate)    (None, 32, 32, 168)  0           concatenate_76[0][0]             \n",
      "                                                                 dropout_83[0][0]                 \n",
      "__________________________________________________________________________________________________\n",
      "batch_normalization_86 (BatchNo (None, 32, 32, 168)  672         concatenate_77[0][0]             \n",
      "__________________________________________________________________________________________________\n",
      "activation_88 (Activation)      (None, 32, 32, 168)  0           batch_normalization_86[0][0]     \n",
      "__________________________________________________________________________________________________\n",
      "conv2d_89 (Conv2D)              (None, 32, 32, 24)   36288       activation_88[0][0]              \n",
      "__________________________________________________________________________________________________\n",
      "dropout_84 (Dropout)            (None, 32, 32, 24)   0           conv2d_89[0][0]                  \n",
      "__________________________________________________________________________________________________\n",
      "concatenate_78 (Concatenate)    (None, 32, 32, 192)  0           concatenate_77[0][0]             \n",
      "                                                                 dropout_84[0][0]                 \n",
      "__________________________________________________________________________________________________\n",
      "batch_normalization_87 (BatchNo (None, 32, 32, 192)  768         concatenate_78[0][0]             \n",
      "__________________________________________________________________________________________________\n",
      "activation_89 (Activation)      (None, 32, 32, 192)  0           batch_normalization_87[0][0]     \n",
      "__________________________________________________________________________________________________\n",
      "conv2d_90 (Conv2D)              (None, 32, 32, 24)   41472       activation_89[0][0]              \n",
      "__________________________________________________________________________________________________\n",
      "dropout_85 (Dropout)            (None, 32, 32, 24)   0           conv2d_90[0][0]                  \n",
      "__________________________________________________________________________________________________\n",
      "concatenate_79 (Concatenate)    (None, 32, 32, 216)  0           concatenate_78[0][0]             \n",
      "                                                                 dropout_85[0][0]                 \n",
      "__________________________________________________________________________________________________\n",
      "batch_normalization_88 (BatchNo (None, 32, 32, 216)  864         concatenate_79[0][0]             \n",
      "__________________________________________________________________________________________________\n",
      "activation_90 (Activation)      (None, 32, 32, 216)  0           batch_normalization_88[0][0]     \n",
      "__________________________________________________________________________________________________\n",
      "conv2d_91 (Conv2D)              (None, 32, 32, 24)   46656       activation_90[0][0]              \n",
      "__________________________________________________________________________________________________\n",
      "dropout_86 (Dropout)            (None, 32, 32, 24)   0           conv2d_91[0][0]                  \n",
      "__________________________________________________________________________________________________\n",
      "concatenate_80 (Concatenate)    (None, 32, 32, 240)  0           concatenate_79[0][0]             \n",
      "                                                                 dropout_86[0][0]                 \n",
      "__________________________________________________________________________________________________\n",
      "batch_normalization_89 (BatchNo (None, 32, 32, 240)  960         concatenate_80[0][0]             \n",
      "__________________________________________________________________________________________________\n",
      "activation_91 (Activation)      (None, 32, 32, 240)  0           batch_normalization_89[0][0]     \n",
      "__________________________________________________________________________________________________\n",
      "conv2d_92 (Conv2D)              (None, 32, 32, 24)   5760        activation_91[0][0]              \n",
      "__________________________________________________________________________________________________\n",
      "dropout_87 (Dropout)            (None, 32, 32, 24)   0           conv2d_92[0][0]                  \n",
      "__________________________________________________________________________________________________\n",
      "average_pooling2d_8 (AveragePoo (None, 16, 16, 24)   0           dropout_87[0][0]                 \n",
      "__________________________________________________________________________________________________\n",
      "batch_normalization_90 (BatchNo (None, 16, 16, 24)   96          average_pooling2d_8[0][0]        \n",
      "__________________________________________________________________________________________________\n",
      "activation_92 (Activation)      (None, 16, 16, 24)   0           batch_normalization_90[0][0]     \n",
      "__________________________________________________________________________________________________\n",
      "conv2d_93 (Conv2D)              (None, 16, 16, 24)   5184        activation_92[0][0]              \n",
      "__________________________________________________________________________________________________\n",
      "dropout_88 (Dropout)            (None, 16, 16, 24)   0           conv2d_93[0][0]                  \n",
      "__________________________________________________________________________________________________\n",
      "concatenate_81 (Concatenate)    (None, 16, 16, 48)   0           average_pooling2d_8[0][0]        \n",
      "                                                                 dropout_88[0][0]                 \n",
      "__________________________________________________________________________________________________\n",
      "batch_normalization_91 (BatchNo (None, 16, 16, 48)   192         concatenate_81[0][0]             \n",
      "__________________________________________________________________________________________________\n",
      "activation_93 (Activation)      (None, 16, 16, 48)   0           batch_normalization_91[0][0]     \n",
      "__________________________________________________________________________________________________\n",
      "conv2d_94 (Conv2D)              (None, 16, 16, 24)   10368       activation_93[0][0]              \n",
      "__________________________________________________________________________________________________\n",
      "dropout_89 (Dropout)            (None, 16, 16, 24)   0           conv2d_94[0][0]                  \n",
      "__________________________________________________________________________________________________\n",
      "concatenate_82 (Concatenate)    (None, 16, 16, 72)   0           concatenate_81[0][0]             \n",
      "                                                                 dropout_89[0][0]                 \n",
      "__________________________________________________________________________________________________\n",
      "batch_normalization_92 (BatchNo (None, 16, 16, 72)   288         concatenate_82[0][0]             \n",
      "__________________________________________________________________________________________________\n",
      "activation_94 (Activation)      (None, 16, 16, 72)   0           batch_normalization_92[0][0]     \n",
      "__________________________________________________________________________________________________\n",
      "conv2d_95 (Conv2D)              (None, 16, 16, 24)   15552       activation_94[0][0]              \n",
      "__________________________________________________________________________________________________\n",
      "dropout_90 (Dropout)            (None, 16, 16, 24)   0           conv2d_95[0][0]                  \n",
      "__________________________________________________________________________________________________\n",
      "concatenate_83 (Concatenate)    (None, 16, 16, 96)   0           concatenate_82[0][0]             \n",
      "                                                                 dropout_90[0][0]                 \n",
      "__________________________________________________________________________________________________\n",
      "batch_normalization_93 (BatchNo (None, 16, 16, 96)   384         concatenate_83[0][0]             \n",
      "__________________________________________________________________________________________________\n",
      "activation_95 (Activation)      (None, 16, 16, 96)   0           batch_normalization_93[0][0]     \n",
      "__________________________________________________________________________________________________\n",
      "conv2d_96 (Conv2D)              (None, 16, 16, 24)   20736       activation_95[0][0]              \n",
      "__________________________________________________________________________________________________\n",
      "dropout_91 (Dropout)            (None, 16, 16, 24)   0           conv2d_96[0][0]                  \n",
      "__________________________________________________________________________________________________\n",
      "concatenate_84 (Concatenate)    (None, 16, 16, 120)  0           concatenate_83[0][0]             \n",
      "                                                                 dropout_91[0][0]                 \n",
      "__________________________________________________________________________________________________\n",
      "batch_normalization_94 (BatchNo (None, 16, 16, 120)  480         concatenate_84[0][0]             \n",
      "__________________________________________________________________________________________________\n",
      "activation_96 (Activation)      (None, 16, 16, 120)  0           batch_normalization_94[0][0]     \n",
      "__________________________________________________________________________________________________\n",
      "conv2d_97 (Conv2D)              (None, 16, 16, 24)   25920       activation_96[0][0]              \n",
      "__________________________________________________________________________________________________\n",
      "dropout_92 (Dropout)            (None, 16, 16, 24)   0           conv2d_97[0][0]                  \n",
      "__________________________________________________________________________________________________\n",
      "concatenate_85 (Concatenate)    (None, 16, 16, 144)  0           concatenate_84[0][0]             \n",
      "                                                                 dropout_92[0][0]                 \n",
      "__________________________________________________________________________________________________\n",
      "batch_normalization_95 (BatchNo (None, 16, 16, 144)  576         concatenate_85[0][0]             \n",
      "__________________________________________________________________________________________________\n",
      "activation_97 (Activation)      (None, 16, 16, 144)  0           batch_normalization_95[0][0]     \n",
      "__________________________________________________________________________________________________\n",
      "conv2d_98 (Conv2D)              (None, 16, 16, 24)   31104       activation_97[0][0]              \n",
      "__________________________________________________________________________________________________\n",
      "dropout_93 (Dropout)            (None, 16, 16, 24)   0           conv2d_98[0][0]                  \n",
      "__________________________________________________________________________________________________\n",
      "concatenate_86 (Concatenate)    (None, 16, 16, 168)  0           concatenate_85[0][0]             \n",
      "                                                                 dropout_93[0][0]                 \n",
      "__________________________________________________________________________________________________\n",
      "batch_normalization_96 (BatchNo (None, 16, 16, 168)  672         concatenate_86[0][0]             \n",
      "__________________________________________________________________________________________________\n",
      "activation_98 (Activation)      (None, 16, 16, 168)  0           batch_normalization_96[0][0]     \n",
      "__________________________________________________________________________________________________\n",
      "conv2d_99 (Conv2D)              (None, 16, 16, 24)   36288       activation_98[0][0]              \n",
      "__________________________________________________________________________________________________\n",
      "dropout_94 (Dropout)            (None, 16, 16, 24)   0           conv2d_99[0][0]                  \n",
      "__________________________________________________________________________________________________\n",
      "concatenate_87 (Concatenate)    (None, 16, 16, 192)  0           concatenate_86[0][0]             \n",
      "                                                                 dropout_94[0][0]                 \n",
      "__________________________________________________________________________________________________\n",
      "batch_normalization_97 (BatchNo (None, 16, 16, 192)  768         concatenate_87[0][0]             \n",
      "__________________________________________________________________________________________________\n",
      "activation_99 (Activation)      (None, 16, 16, 192)  0           batch_normalization_97[0][0]     \n",
      "__________________________________________________________________________________________________\n",
      "conv2d_100 (Conv2D)             (None, 16, 16, 24)   41472       activation_99[0][0]              \n",
      "__________________________________________________________________________________________________\n",
      "dropout_95 (Dropout)            (None, 16, 16, 24)   0           conv2d_100[0][0]                 \n",
      "__________________________________________________________________________________________________\n",
      "concatenate_88 (Concatenate)    (None, 16, 16, 216)  0           concatenate_87[0][0]             \n",
      "                                                                 dropout_95[0][0]                 \n",
      "__________________________________________________________________________________________________\n",
      "batch_normalization_98 (BatchNo (None, 16, 16, 216)  864         concatenate_88[0][0]             \n",
      "__________________________________________________________________________________________________\n",
      "activation_100 (Activation)     (None, 16, 16, 216)  0           batch_normalization_98[0][0]     \n",
      "__________________________________________________________________________________________________\n",
      "conv2d_101 (Conv2D)             (None, 16, 16, 24)   46656       activation_100[0][0]             \n",
      "__________________________________________________________________________________________________\n",
      "dropout_96 (Dropout)            (None, 16, 16, 24)   0           conv2d_101[0][0]                 \n",
      "__________________________________________________________________________________________________\n",
      "concatenate_89 (Concatenate)    (None, 16, 16, 240)  0           concatenate_88[0][0]             \n",
      "                                                                 dropout_96[0][0]                 \n",
      "__________________________________________________________________________________________________\n",
      "batch_normalization_99 (BatchNo (None, 16, 16, 240)  960         concatenate_89[0][0]             \n",
      "__________________________________________________________________________________________________\n",
      "activation_101 (Activation)     (None, 16, 16, 240)  0           batch_normalization_99[0][0]     \n",
      "__________________________________________________________________________________________________\n",
      "conv2d_102 (Conv2D)             (None, 16, 16, 24)   5760        activation_101[0][0]             \n",
      "__________________________________________________________________________________________________\n",
      "dropout_97 (Dropout)            (None, 16, 16, 24)   0           conv2d_102[0][0]                 \n",
      "__________________________________________________________________________________________________\n",
      "average_pooling2d_9 (AveragePoo (None, 8, 8, 24)     0           dropout_97[0][0]                 \n",
      "__________________________________________________________________________________________________\n",
      "batch_normalization_100 (BatchN (None, 8, 8, 24)     96          average_pooling2d_9[0][0]        \n",
      "__________________________________________________________________________________________________\n",
      "activation_102 (Activation)     (None, 8, 8, 24)     0           batch_normalization_100[0][0]    \n",
      "__________________________________________________________________________________________________\n",
      "conv2d_103 (Conv2D)             (None, 8, 8, 24)     5184        activation_102[0][0]             \n",
      "__________________________________________________________________________________________________\n",
      "dropout_98 (Dropout)            (None, 8, 8, 24)     0           conv2d_103[0][0]                 \n",
      "__________________________________________________________________________________________________\n",
      "concatenate_90 (Concatenate)    (None, 8, 8, 48)     0           average_pooling2d_9[0][0]        \n",
      "                                                                 dropout_98[0][0]                 \n",
      "__________________________________________________________________________________________________\n",
      "batch_normalization_101 (BatchN (None, 8, 8, 48)     192         concatenate_90[0][0]             \n",
      "__________________________________________________________________________________________________\n",
      "activation_103 (Activation)     (None, 8, 8, 48)     0           batch_normalization_101[0][0]    \n",
      "__________________________________________________________________________________________________\n",
      "conv2d_104 (Conv2D)             (None, 8, 8, 24)     10368       activation_103[0][0]             \n",
      "__________________________________________________________________________________________________\n",
      "dropout_99 (Dropout)            (None, 8, 8, 24)     0           conv2d_104[0][0]                 \n",
      "__________________________________________________________________________________________________\n",
      "concatenate_91 (Concatenate)    (None, 8, 8, 72)     0           concatenate_90[0][0]             \n",
      "                                                                 dropout_99[0][0]                 \n",
      "__________________________________________________________________________________________________\n",
      "batch_normalization_102 (BatchN (None, 8, 8, 72)     288         concatenate_91[0][0]             \n",
      "__________________________________________________________________________________________________\n",
      "activation_104 (Activation)     (None, 8, 8, 72)     0           batch_normalization_102[0][0]    \n",
      "__________________________________________________________________________________________________\n",
      "conv2d_105 (Conv2D)             (None, 8, 8, 24)     15552       activation_104[0][0]             \n",
      "__________________________________________________________________________________________________\n",
      "dropout_100 (Dropout)           (None, 8, 8, 24)     0           conv2d_105[0][0]                 \n",
      "__________________________________________________________________________________________________\n",
      "concatenate_92 (Concatenate)    (None, 8, 8, 96)     0           concatenate_91[0][0]             \n",
      "                                                                 dropout_100[0][0]                \n",
      "__________________________________________________________________________________________________\n",
      "batch_normalization_103 (BatchN (None, 8, 8, 96)     384         concatenate_92[0][0]             \n",
      "__________________________________________________________________________________________________\n",
      "activation_105 (Activation)     (None, 8, 8, 96)     0           batch_normalization_103[0][0]    \n",
      "__________________________________________________________________________________________________\n",
      "conv2d_106 (Conv2D)             (None, 8, 8, 24)     20736       activation_105[0][0]             \n",
      "__________________________________________________________________________________________________\n",
      "dropout_101 (Dropout)           (None, 8, 8, 24)     0           conv2d_106[0][0]                 \n",
      "__________________________________________________________________________________________________\n",
      "concatenate_93 (Concatenate)    (None, 8, 8, 120)    0           concatenate_92[0][0]             \n",
      "                                                                 dropout_101[0][0]                \n",
      "__________________________________________________________________________________________________\n",
      "batch_normalization_104 (BatchN (None, 8, 8, 120)    480         concatenate_93[0][0]             \n",
      "__________________________________________________________________________________________________\n",
      "activation_106 (Activation)     (None, 8, 8, 120)    0           batch_normalization_104[0][0]    \n",
      "__________________________________________________________________________________________________\n",
      "conv2d_107 (Conv2D)             (None, 8, 8, 24)     25920       activation_106[0][0]             \n",
      "__________________________________________________________________________________________________\n",
      "dropout_102 (Dropout)           (None, 8, 8, 24)     0           conv2d_107[0][0]                 \n",
      "__________________________________________________________________________________________________\n",
      "concatenate_94 (Concatenate)    (None, 8, 8, 144)    0           concatenate_93[0][0]             \n",
      "                                                                 dropout_102[0][0]                \n",
      "__________________________________________________________________________________________________\n",
      "batch_normalization_105 (BatchN (None, 8, 8, 144)    576         concatenate_94[0][0]             \n",
      "__________________________________________________________________________________________________\n",
      "activation_107 (Activation)     (None, 8, 8, 144)    0           batch_normalization_105[0][0]    \n",
      "__________________________________________________________________________________________________\n",
      "conv2d_108 (Conv2D)             (None, 8, 8, 24)     31104       activation_107[0][0]             \n",
      "__________________________________________________________________________________________________\n",
      "dropout_103 (Dropout)           (None, 8, 8, 24)     0           conv2d_108[0][0]                 \n",
      "__________________________________________________________________________________________________\n",
      "concatenate_95 (Concatenate)    (None, 8, 8, 168)    0           concatenate_94[0][0]             \n",
      "                                                                 dropout_103[0][0]                \n",
      "__________________________________________________________________________________________________\n",
      "batch_normalization_106 (BatchN (None, 8, 8, 168)    672         concatenate_95[0][0]             \n",
      "__________________________________________________________________________________________________\n",
      "activation_108 (Activation)     (None, 8, 8, 168)    0           batch_normalization_106[0][0]    \n",
      "__________________________________________________________________________________________________\n",
      "conv2d_109 (Conv2D)             (None, 8, 8, 24)     36288       activation_108[0][0]             \n",
      "__________________________________________________________________________________________________\n",
      "dropout_104 (Dropout)           (None, 8, 8, 24)     0           conv2d_109[0][0]                 \n",
      "__________________________________________________________________________________________________\n",
      "concatenate_96 (Concatenate)    (None, 8, 8, 192)    0           concatenate_95[0][0]             \n",
      "                                                                 dropout_104[0][0]                \n",
      "__________________________________________________________________________________________________\n",
      "batch_normalization_107 (BatchN (None, 8, 8, 192)    768         concatenate_96[0][0]             \n",
      "__________________________________________________________________________________________________\n",
      "activation_109 (Activation)     (None, 8, 8, 192)    0           batch_normalization_107[0][0]    \n",
      "__________________________________________________________________________________________________\n",
      "conv2d_110 (Conv2D)             (None, 8, 8, 24)     41472       activation_109[0][0]             \n",
      "__________________________________________________________________________________________________\n",
      "dropout_105 (Dropout)           (None, 8, 8, 24)     0           conv2d_110[0][0]                 \n",
      "__________________________________________________________________________________________________\n",
      "concatenate_97 (Concatenate)    (None, 8, 8, 216)    0           concatenate_96[0][0]             \n",
      "                                                                 dropout_105[0][0]                \n",
      "__________________________________________________________________________________________________\n",
      "batch_normalization_108 (BatchN (None, 8, 8, 216)    864         concatenate_97[0][0]             \n",
      "__________________________________________________________________________________________________\n",
      "activation_110 (Activation)     (None, 8, 8, 216)    0           batch_normalization_108[0][0]    \n",
      "__________________________________________________________________________________________________\n",
      "conv2d_111 (Conv2D)             (None, 8, 8, 24)     46656       activation_110[0][0]             \n",
      "__________________________________________________________________________________________________\n",
      "dropout_106 (Dropout)           (None, 8, 8, 24)     0           conv2d_111[0][0]                 \n",
      "__________________________________________________________________________________________________\n",
      "concatenate_98 (Concatenate)    (None, 8, 8, 240)    0           concatenate_97[0][0]             \n",
      "                                                                 dropout_106[0][0]                \n",
      "__________________________________________________________________________________________________\n",
      "batch_normalization_109 (BatchN (None, 8, 8, 240)    960         concatenate_98[0][0]             \n",
      "__________________________________________________________________________________________________\n",
      "activation_111 (Activation)     (None, 8, 8, 240)    0           batch_normalization_109[0][0]    \n",
      "__________________________________________________________________________________________________\n",
      "conv2d_112 (Conv2D)             (None, 8, 8, 24)     5760        activation_111[0][0]             \n",
      "__________________________________________________________________________________________________\n",
      "dropout_107 (Dropout)           (None, 8, 8, 24)     0           conv2d_112[0][0]                 \n",
      "__________________________________________________________________________________________________\n",
      "average_pooling2d_10 (AveragePo (None, 4, 4, 24)     0           dropout_107[0][0]                \n",
      "__________________________________________________________________________________________________\n",
      "batch_normalization_110 (BatchN (None, 4, 4, 24)     96          average_pooling2d_10[0][0]       \n",
      "__________________________________________________________________________________________________\n",
      "activation_112 (Activation)     (None, 4, 4, 24)     0           batch_normalization_110[0][0]    \n",
      "__________________________________________________________________________________________________\n",
      "conv2d_113 (Conv2D)             (None, 4, 4, 24)     5184        activation_112[0][0]             \n",
      "__________________________________________________________________________________________________\n",
      "dropout_108 (Dropout)           (None, 4, 4, 24)     0           conv2d_113[0][0]                 \n",
      "__________________________________________________________________________________________________\n",
      "concatenate_99 (Concatenate)    (None, 4, 4, 48)     0           average_pooling2d_10[0][0]       \n",
      "                                                                 dropout_108[0][0]                \n",
      "__________________________________________________________________________________________________\n",
      "batch_normalization_111 (BatchN (None, 4, 4, 48)     192         concatenate_99[0][0]             \n",
      "__________________________________________________________________________________________________\n",
      "activation_113 (Activation)     (None, 4, 4, 48)     0           batch_normalization_111[0][0]    \n",
      "__________________________________________________________________________________________________\n",
      "conv2d_114 (Conv2D)             (None, 4, 4, 24)     10368       activation_113[0][0]             \n",
      "__________________________________________________________________________________________________\n",
      "dropout_109 (Dropout)           (None, 4, 4, 24)     0           conv2d_114[0][0]                 \n",
      "__________________________________________________________________________________________________\n",
      "concatenate_100 (Concatenate)   (None, 4, 4, 72)     0           concatenate_99[0][0]             \n",
      "                                                                 dropout_109[0][0]                \n",
      "__________________________________________________________________________________________________\n",
      "batch_normalization_112 (BatchN (None, 4, 4, 72)     288         concatenate_100[0][0]            \n",
      "__________________________________________________________________________________________________\n",
      "activation_114 (Activation)     (None, 4, 4, 72)     0           batch_normalization_112[0][0]    \n",
      "__________________________________________________________________________________________________\n",
      "conv2d_115 (Conv2D)             (None, 4, 4, 24)     15552       activation_114[0][0]             \n",
      "__________________________________________________________________________________________________\n",
      "dropout_110 (Dropout)           (None, 4, 4, 24)     0           conv2d_115[0][0]                 \n",
      "__________________________________________________________________________________________________\n",
      "concatenate_101 (Concatenate)   (None, 4, 4, 96)     0           concatenate_100[0][0]            \n",
      "                                                                 dropout_110[0][0]                \n",
      "__________________________________________________________________________________________________\n",
      "batch_normalization_113 (BatchN (None, 4, 4, 96)     384         concatenate_101[0][0]            \n",
      "__________________________________________________________________________________________________\n",
      "activation_115 (Activation)     (None, 4, 4, 96)     0           batch_normalization_113[0][0]    \n",
      "__________________________________________________________________________________________________\n",
      "conv2d_116 (Conv2D)             (None, 4, 4, 24)     20736       activation_115[0][0]             \n",
      "__________________________________________________________________________________________________\n",
      "dropout_111 (Dropout)           (None, 4, 4, 24)     0           conv2d_116[0][0]                 \n",
      "__________________________________________________________________________________________________\n",
      "concatenate_102 (Concatenate)   (None, 4, 4, 120)    0           concatenate_101[0][0]            \n",
      "                                                                 dropout_111[0][0]                \n",
      "__________________________________________________________________________________________________\n",
      "batch_normalization_114 (BatchN (None, 4, 4, 120)    480         concatenate_102[0][0]            \n",
      "__________________________________________________________________________________________________\n",
      "activation_116 (Activation)     (None, 4, 4, 120)    0           batch_normalization_114[0][0]    \n",
      "__________________________________________________________________________________________________\n",
      "conv2d_117 (Conv2D)             (None, 4, 4, 24)     25920       activation_116[0][0]             \n",
      "__________________________________________________________________________________________________\n",
      "dropout_112 (Dropout)           (None, 4, 4, 24)     0           conv2d_117[0][0]                 \n",
      "__________________________________________________________________________________________________\n",
      "concatenate_103 (Concatenate)   (None, 4, 4, 144)    0           concatenate_102[0][0]            \n",
      "                                                                 dropout_112[0][0]                \n",
      "__________________________________________________________________________________________________\n",
      "batch_normalization_115 (BatchN (None, 4, 4, 144)    576         concatenate_103[0][0]            \n",
      "__________________________________________________________________________________________________\n",
      "activation_117 (Activation)     (None, 4, 4, 144)    0           batch_normalization_115[0][0]    \n",
      "__________________________________________________________________________________________________\n",
      "conv2d_118 (Conv2D)             (None, 4, 4, 24)     31104       activation_117[0][0]             \n",
      "__________________________________________________________________________________________________\n",
      "dropout_113 (Dropout)           (None, 4, 4, 24)     0           conv2d_118[0][0]                 \n",
      "__________________________________________________________________________________________________\n",
      "concatenate_104 (Concatenate)   (None, 4, 4, 168)    0           concatenate_103[0][0]            \n",
      "                                                                 dropout_113[0][0]                \n",
      "__________________________________________________________________________________________________\n",
      "batch_normalization_116 (BatchN (None, 4, 4, 168)    672         concatenate_104[0][0]            \n",
      "__________________________________________________________________________________________________\n",
      "activation_118 (Activation)     (None, 4, 4, 168)    0           batch_normalization_116[0][0]    \n",
      "__________________________________________________________________________________________________\n",
      "conv2d_119 (Conv2D)             (None, 4, 4, 24)     36288       activation_118[0][0]             \n",
      "__________________________________________________________________________________________________\n",
      "dropout_114 (Dropout)           (None, 4, 4, 24)     0           conv2d_119[0][0]                 \n",
      "__________________________________________________________________________________________________\n",
      "concatenate_105 (Concatenate)   (None, 4, 4, 192)    0           concatenate_104[0][0]            \n",
      "                                                                 dropout_114[0][0]                \n",
      "__________________________________________________________________________________________________\n",
      "batch_normalization_117 (BatchN (None, 4, 4, 192)    768         concatenate_105[0][0]            \n",
      "__________________________________________________________________________________________________\n",
      "activation_119 (Activation)     (None, 4, 4, 192)    0           batch_normalization_117[0][0]    \n",
      "__________________________________________________________________________________________________\n",
      "conv2d_120 (Conv2D)             (None, 4, 4, 24)     41472       activation_119[0][0]             \n",
      "__________________________________________________________________________________________________\n",
      "dropout_115 (Dropout)           (None, 4, 4, 24)     0           conv2d_120[0][0]                 \n",
      "__________________________________________________________________________________________________\n",
      "concatenate_106 (Concatenate)   (None, 4, 4, 216)    0           concatenate_105[0][0]            \n",
      "                                                                 dropout_115[0][0]                \n",
      "__________________________________________________________________________________________________\n",
      "batch_normalization_118 (BatchN (None, 4, 4, 216)    864         concatenate_106[0][0]            \n",
      "__________________________________________________________________________________________________\n",
      "activation_120 (Activation)     (None, 4, 4, 216)    0           batch_normalization_118[0][0]    \n",
      "__________________________________________________________________________________________________\n",
      "conv2d_121 (Conv2D)             (None, 4, 4, 24)     46656       activation_120[0][0]             \n",
      "__________________________________________________________________________________________________\n",
      "dropout_116 (Dropout)           (None, 4, 4, 24)     0           conv2d_121[0][0]                 \n",
      "__________________________________________________________________________________________________\n",
      "concatenate_107 (Concatenate)   (None, 4, 4, 240)    0           concatenate_106[0][0]            \n",
      "                                                                 dropout_116[0][0]                \n",
      "__________________________________________________________________________________________________\n",
      "batch_normalization_119 (BatchN (None, 4, 4, 240)    960         concatenate_107[0][0]            \n",
      "__________________________________________________________________________________________________\n",
      "activation_121 (Activation)     (None, 4, 4, 240)    0           batch_normalization_119[0][0]    \n",
      "__________________________________________________________________________________________________\n",
      "average_pooling2d_11 (AveragePo (None, 2, 2, 240)    0           activation_121[0][0]             \n",
      "__________________________________________________________________________________________________\n",
      "conv2d_122 (Conv2D)             (None, 2, 2, 10)     2400        average_pooling2d_11[0][0]       \n",
      "__________________________________________________________________________________________________\n",
      "global_max_pooling2d_2 (GlobalM (None, 10)           0           conv2d_122[0][0]                 \n",
      "__________________________________________________________________________________________________\n",
      "activation_122 (Activation)     (None, 10)           0           global_max_pooling2d_2[0][0]     \n",
      "==================================================================================================\n",
      "Total params: 974,568\n",
      "Trainable params: 964,008\n",
      "Non-trainable params: 10,560\n",
      "__________________________________________________________________________________________________\n",
      "None\n"
     ]
    },
    {
     "name": "stderr",
     "output_type": "stream",
     "text": [
      "/usr/local/lib/python3.6/dist-packages/keras_preprocessing/image/image_data_generator.py:716: UserWarning: This ImageDataGenerator specifies `featurewise_center`, but it hasn't been fit on any training data. Fit it first by calling `.fit(numpy_data)`.\n",
      "  warnings.warn('This ImageDataGenerator specifies '\n",
      "/usr/local/lib/python3.6/dist-packages/keras_preprocessing/image/image_data_generator.py:724: UserWarning: This ImageDataGenerator specifies `featurewise_std_normalization`, but it hasn't been fit on any training data. Fit it first by calling `.fit(numpy_data)`.\n",
      "  warnings.warn('This ImageDataGenerator specifies '\n"
     ]
    },
    {
     "name": "stdout",
     "output_type": "stream",
     "text": [
      "Epoch 1/150\n"
     ]
    },
    {
     "name": "stderr",
     "output_type": "stream",
     "text": [
      "/usr/local/lib/python3.6/dist-packages/keras_preprocessing/image/image_data_generator.py:716: UserWarning: This ImageDataGenerator specifies `featurewise_center`, but it hasn't been fit on any training data. Fit it first by calling `.fit(numpy_data)`.\n",
      "  warnings.warn('This ImageDataGenerator specifies '\n",
      "/usr/local/lib/python3.6/dist-packages/keras_preprocessing/image/image_data_generator.py:724: UserWarning: This ImageDataGenerator specifies `featurewise_std_normalization`, but it hasn't been fit on any training data. Fit it first by calling `.fit(numpy_data)`.\n",
      "  warnings.warn('This ImageDataGenerator specifies '\n",
      "/usr/local/lib/python3.6/dist-packages/keras_preprocessing/image/image_data_generator.py:716: UserWarning: This ImageDataGenerator specifies `featurewise_center`, but it hasn't been fit on any training data. Fit it first by calling `.fit(numpy_data)`.\n",
      "  warnings.warn('This ImageDataGenerator specifies '\n",
      "/usr/local/lib/python3.6/dist-packages/keras_preprocessing/image/image_data_generator.py:716: UserWarning: This ImageDataGenerator specifies `featurewise_center`, but it hasn't been fit on any training data. Fit it first by calling `.fit(numpy_data)`.\n",
      "  warnings.warn('This ImageDataGenerator specifies '\n",
      "/usr/local/lib/python3.6/dist-packages/keras_preprocessing/image/image_data_generator.py:724: UserWarning: This ImageDataGenerator specifies `featurewise_std_normalization`, but it hasn't been fit on any training data. Fit it first by calling `.fit(numpy_data)`.\n",
      "  warnings.warn('This ImageDataGenerator specifies '\n",
      "/usr/local/lib/python3.6/dist-packages/keras_preprocessing/image/image_data_generator.py:716: UserWarning: This ImageDataGenerator specifies `featurewise_center`, but it hasn't been fit on any training data. Fit it first by calling `.fit(numpy_data)`.\n",
      "  warnings.warn('This ImageDataGenerator specifies '\n",
      "/usr/local/lib/python3.6/dist-packages/keras_preprocessing/image/image_data_generator.py:724: UserWarning: This ImageDataGenerator specifies `featurewise_std_normalization`, but it hasn't been fit on any training data. Fit it first by calling `.fit(numpy_data)`.\n",
      "  warnings.warn('This ImageDataGenerator specifies '\n"
     ]
    },
    {
     "name": "stdout",
     "output_type": "stream",
     "text": [
      "1953/1953 [============================>.] - ETA: 0s - loss: 1.3263 - acc: 0.5146Epoch 1/150\n",
      "10000/1953 [=========================================================================================================================================================] - 11s 1ms/sample - loss: 2.4117 - acc: 0.4869\n",
      "\n",
      "Epoch 00001: val_acc improved from -inf to 0.48690, saving model to gdrive/My Drive/cnnoncifar/models/model-001-0.514679-0.486900.h5\n",
      "1954/1953 [==============================] - 948s 485ms/step - loss: 1.3261 - acc: 0.5147 - val_loss: 2.1875 - val_acc: 0.4869\n",
      "Epoch 2/150\n",
      "1953/1953 [============================>.] - ETA: 0s - loss: 0.9238 - acc: 0.6700Epoch 1/150\n",
      "10000/1953 [=========================================================================================================================================================] - 9s 873us/sample - loss: 1.3751 - acc: 0.6039\n",
      "\n",
      "Epoch 00002: val_acc improved from 0.48690 to 0.60390, saving model to gdrive/My Drive/cnnoncifar/models/model-002-0.670043-0.603900.h5\n",
      "1954/1953 [==============================] - 897s 459ms/step - loss: 0.9237 - acc: 0.6700 - val_loss: 1.4341 - val_acc: 0.6039\n",
      "Epoch 3/150\n",
      "1953/1953 [============================>.] - ETA: 0s - loss: 0.7871 - acc: 0.7215Epoch 1/150\n",
      "10000/1953 [=========================================================================================================================================================] - 9s 867us/sample - loss: 0.6290 - acc: 0.7389\n",
      "\n",
      "Epoch 00003: val_acc improved from 0.60390 to 0.73890, saving model to gdrive/My Drive/cnnoncifar/models/model-003-0.721513-0.738900.h5\n",
      "1954/1953 [==============================] - 896s 459ms/step - loss: 0.7871 - acc: 0.7215 - val_loss: 0.8146 - val_acc: 0.7389\n",
      "Epoch 4/150\n",
      "1953/1953 [============================>.] - ETA: 0s - loss: 0.7034 - acc: 0.7523Epoch 1/150\n",
      "10000/1953 [=========================================================================================================================================================] - 9s 867us/sample - loss: 0.7341 - acc: 0.6968\n",
      "\n",
      "Epoch 00004: val_acc did not improve from 0.73890\n",
      "1954/1953 [==============================] - 896s 459ms/step - loss: 0.7034 - acc: 0.7523 - val_loss: 0.9627 - val_acc: 0.6968\n",
      "Epoch 5/150\n",
      "1953/1953 [============================>.] - ETA: 0s - loss: 0.6418 - acc: 0.7744Epoch 1/150\n",
      "10000/1953 [=========================================================================================================================================================] - 9s 868us/sample - loss: 0.8542 - acc: 0.7726\n",
      "\n",
      "Epoch 00005: val_acc improved from 0.73890 to 0.77260, saving model to gdrive/My Drive/cnnoncifar/models/model-005-0.774404-0.772600.h5\n",
      "1954/1953 [==============================] - 895s 458ms/step - loss: 0.6418 - acc: 0.7744 - val_loss: 0.7399 - val_acc: 0.7726\n",
      "Epoch 6/150\n",
      "1953/1953 [============================>.] - ETA: 0s - loss: 0.5994 - acc: 0.7902Epoch 1/150\n",
      "10000/1953 [=========================================================================================================================================================] - 9s 866us/sample - loss: 0.5927 - acc: 0.7792\n",
      "\n",
      "Epoch 00006: val_acc improved from 0.77260 to 0.77920, saving model to gdrive/My Drive/cnnoncifar/models/model-006-0.790261-0.779200.h5\n",
      "1954/1953 [==============================] - 896s 459ms/step - loss: 0.5993 - acc: 0.7903 - val_loss: 0.6867 - val_acc: 0.7792\n",
      "Epoch 7/150\n",
      "1953/1953 [============================>.] - ETA: 0s - loss: 0.5637 - acc: 0.8025Epoch 1/150\n",
      "10000/1953 [=========================================================================================================================================================] - 9s 867us/sample - loss: 0.6857 - acc: 0.7771\n",
      "\n",
      "Epoch 00007: val_acc did not improve from 0.77920\n",
      "1954/1953 [==============================] - 896s 458ms/step - loss: 0.5638 - acc: 0.8025 - val_loss: 0.7391 - val_acc: 0.7771\n",
      "Epoch 8/150\n",
      "1953/1953 [============================>.] - ETA: 0s - loss: 0.5349 - acc: 0.8121Epoch 1/150\n",
      "10000/1953 [=========================================================================================================================================================] - 9s 870us/sample - loss: 0.5309 - acc: 0.8246\n",
      "\n",
      "Epoch 00008: val_acc improved from 0.77920 to 0.82460, saving model to gdrive/My Drive/cnnoncifar/models/model-008-0.812116-0.824600.h5\n",
      "1954/1953 [==============================] - 898s 460ms/step - loss: 0.5349 - acc: 0.8121 - val_loss: 0.5517 - val_acc: 0.8246\n",
      "Epoch 9/150\n",
      "1953/1953 [============================>.] - ETA: 0s - loss: 0.5086 - acc: 0.8211Epoch 1/150\n",
      "10000/1953 [=========================================================================================================================================================] - 9s 871us/sample - loss: 0.7793 - acc: 0.7970\n",
      "\n",
      "Epoch 00009: val_acc did not improve from 0.82460\n",
      "1954/1953 [==============================] - 896s 459ms/step - loss: 0.5086 - acc: 0.8211 - val_loss: 0.6852 - val_acc: 0.7970\n",
      "Epoch 10/150\n",
      "1953/1953 [============================>.] - ETA: 0s - loss: 0.4893 - acc: 0.8287Epoch 1/150\n",
      "10000/1953 [=========================================================================================================================================================] - 9s 869us/sample - loss: 0.7258 - acc: 0.7877\n",
      "\n",
      "Epoch 00010: val_acc did not improve from 0.82460\n",
      "1954/1953 [==============================] - 897s 459ms/step - loss: 0.4893 - acc: 0.8287 - val_loss: 0.7360 - val_acc: 0.7877\n",
      "Epoch 11/150\n",
      "1953/1953 [============================>.] - ETA: 0s - loss: 0.4712 - acc: 0.8345Epoch 1/150\n",
      "10000/1953 [=========================================================================================================================================================] - 9s 869us/sample - loss: 0.7942 - acc: 0.8304\n",
      "\n",
      "Epoch 00011: val_acc improved from 0.82460 to 0.83040, saving model to gdrive/My Drive/cnnoncifar/models/model-011-0.834511-0.830400.h5\n",
      "1954/1953 [==============================] - 897s 459ms/step - loss: 0.4712 - acc: 0.8345 - val_loss: 0.5485 - val_acc: 0.8304\n",
      "Epoch 12/150\n",
      "1953/1953 [============================>.] - ETA: 0s - loss: 0.4553 - acc: 0.8402Epoch 1/150\n",
      "10000/1953 [=========================================================================================================================================================] - 9s 871us/sample - loss: 0.4233 - acc: 0.8440\n",
      "\n",
      "Epoch 00012: val_acc improved from 0.83040 to 0.84400, saving model to gdrive/My Drive/cnnoncifar/models/model-012-0.840162-0.844000.h5\n",
      "1954/1953 [==============================] - 898s 460ms/step - loss: 0.4553 - acc: 0.8402 - val_loss: 0.4925 - val_acc: 0.8440\n",
      "Epoch 13/150\n",
      "1953/1953 [============================>.] - ETA: 0s - loss: 0.4421 - acc: 0.8453Epoch 1/150\n",
      "10000/1953 [=========================================================================================================================================================] - 9s 870us/sample - loss: 0.5550 - acc: 0.8282\n",
      "\n",
      "Epoch 00013: val_acc did not improve from 0.84400\n",
      "1954/1953 [==============================] - 897s 459ms/step - loss: 0.4421 - acc: 0.8453 - val_loss: 0.5625 - val_acc: 0.8282\n",
      "Epoch 14/150\n",
      "1953/1953 [============================>.] - ETA: 0s - loss: 0.4289 - acc: 0.8501Epoch 1/150\n",
      "10000/1953 [=========================================================================================================================================================] - 9s 875us/sample - loss: 0.5656 - acc: 0.8378\n",
      "\n",
      "Epoch 00014: val_acc did not improve from 0.84400\n",
      "1954/1953 [==============================] - 894s 457ms/step - loss: 0.4289 - acc: 0.8500 - val_loss: 0.5419 - val_acc: 0.8378\n",
      "Epoch 15/150\n",
      "1953/1953 [============================>.] - ETA: 0s - loss: 0.4160 - acc: 0.8542Epoch 1/150\n",
      "10000/1953 [=========================================================================================================================================================] - 9s 873us/sample - loss: 0.3844 - acc: 0.8407\n",
      "\n",
      "Epoch 00015: val_acc did not improve from 0.84400\n",
      "1954/1953 [==============================] - 896s 458ms/step - loss: 0.4161 - acc: 0.8542 - val_loss: 0.5108 - val_acc: 0.8407\n",
      "Epoch 16/150\n",
      "1953/1953 [============================>.] - ETA: 0s - loss: 0.4061 - acc: 0.8585Epoch 1/150\n",
      "10000/1953 [=========================================================================================================================================================] - 9s 870us/sample - loss: 0.4045 - acc: 0.8563\n",
      "\n",
      "Epoch 00016: val_acc improved from 0.84400 to 0.85630, saving model to gdrive/My Drive/cnnoncifar/models/model-016-0.858456-0.856300.h5\n",
      "1954/1953 [==============================] - 897s 459ms/step - loss: 0.4061 - acc: 0.8585 - val_loss: 0.4657 - val_acc: 0.8563\n",
      "Epoch 17/150\n",
      "1953/1953 [============================>.] - ETA: 0s - loss: 0.3976 - acc: 0.8610Epoch 1/150\n",
      "10000/1953 [=========================================================================================================================================================] - 9s 868us/sample - loss: 0.4291 - acc: 0.8581\n",
      "\n",
      "Epoch 00017: val_acc improved from 0.85630 to 0.85810, saving model to gdrive/My Drive/cnnoncifar/models/model-017-0.861049-0.858100.h5\n",
      "1954/1953 [==============================] - 896s 459ms/step - loss: 0.3975 - acc: 0.8610 - val_loss: 0.4625 - val_acc: 0.8581\n",
      "Epoch 18/150\n",
      "1953/1953 [============================>.] - ETA: 0s - loss: 0.3877 - acc: 0.8636Epoch 1/150\n",
      "10000/1953 [=========================================================================================================================================================] - 9s 864us/sample - loss: 0.5011 - acc: 0.8249\n",
      "\n",
      "Epoch 00018: val_acc did not improve from 0.85810\n",
      "1954/1953 [==============================] - 895s 458ms/step - loss: 0.3877 - acc: 0.8636 - val_loss: 0.5859 - val_acc: 0.8249\n",
      "Epoch 19/150\n",
      "1953/1953 [============================>.] - ETA: 0s - loss: 0.3804 - acc: 0.8669Epoch 1/150\n",
      "10000/1953 [=========================================================================================================================================================] - 9s 871us/sample - loss: 0.5224 - acc: 0.8575\n",
      "\n",
      "Epoch 00019: val_acc did not improve from 0.85810\n",
      "1954/1953 [==============================] - 893s 457ms/step - loss: 0.3805 - acc: 0.8669 - val_loss: 0.4739 - val_acc: 0.8575\n",
      "Epoch 20/150\n",
      "1953/1953 [============================>.] - ETA: 0s - loss: 0.3712 - acc: 0.8694Epoch 1/150\n",
      "10000/1953 [=========================================================================================================================================================] - 9s 864us/sample - loss: 0.5189 - acc: 0.8610\n",
      "\n",
      "Epoch 00020: val_acc improved from 0.85810 to 0.86100, saving model to gdrive/My Drive/cnnoncifar/models/model-020-0.869445-0.861000.h5\n",
      "1954/1953 [==============================] - 896s 458ms/step - loss: 0.3712 - acc: 0.8694 - val_loss: 0.4580 - val_acc: 0.8610\n",
      "Epoch 21/150\n",
      "1953/1953 [============================>.] - ETA: 0s - loss: 0.3651 - acc: 0.8718Epoch 1/150\n",
      "10000/1953 [=========================================================================================================================================================] - 9s 869us/sample - loss: 0.5567 - acc: 0.8217\n",
      "\n",
      "Epoch 00021: val_acc did not improve from 0.86100\n",
      "1954/1953 [==============================] - 896s 458ms/step - loss: 0.3650 - acc: 0.8718 - val_loss: 0.6434 - val_acc: 0.8217\n",
      "Epoch 22/150\n",
      "1953/1953 [============================>.] - ETA: 0s - loss: 0.3581 - acc: 0.8743Epoch 1/150\n",
      "10000/1953 [=========================================================================================================================================================] - 9s 869us/sample - loss: 0.3746 - acc: 0.8685\n",
      "\n",
      "Epoch 00022: val_acc improved from 0.86100 to 0.86850, saving model to gdrive/My Drive/cnnoncifar/models/model-022-0.874284-0.868500.h5\n",
      "1954/1953 [==============================] - 900s 461ms/step - loss: 0.3581 - acc: 0.8743 - val_loss: 0.4142 - val_acc: 0.8685\n",
      "Epoch 23/150\n",
      "1953/1953 [============================>.] - ETA: 0s - loss: 0.3504 - acc: 0.8769Epoch 1/150\n",
      "10000/1953 [=========================================================================================================================================================] - 9s 868us/sample - loss: 0.5342 - acc: 0.8205\n",
      "\n",
      "Epoch 00023: val_acc did not improve from 0.86850\n",
      "1954/1953 [==============================] - 897s 459ms/step - loss: 0.3504 - acc: 0.8769 - val_loss: 0.5972 - val_acc: 0.8205\n",
      "Epoch 24/150\n",
      "1953/1953 [============================>.] - ETA: 0s - loss: 0.3437 - acc: 0.8796Epoch 1/150\n",
      "10000/1953 [=========================================================================================================================================================] - 9s 872us/sample - loss: 0.3367 - acc: 0.8749\n",
      "\n",
      "Epoch 00024: val_acc improved from 0.86850 to 0.87490, saving model to gdrive/My Drive/cnnoncifar/models/model-024-0.879570-0.874900.h5\n",
      "1954/1953 [==============================] - 897s 459ms/step - loss: 0.3437 - acc: 0.8796 - val_loss: 0.4168 - val_acc: 0.8749\n",
      "Epoch 25/150\n",
      "1953/1953 [============================>.] - ETA: 0s - loss: 0.3399 - acc: 0.8805Epoch 1/150\n",
      "10000/1953 [=========================================================================================================================================================] - 9s 873us/sample - loss: 0.3277 - acc: 0.8692\n",
      "\n",
      "Epoch 00025: val_acc did not improve from 0.87490\n",
      "1954/1953 [==============================] - 899s 460ms/step - loss: 0.3399 - acc: 0.8805 - val_loss: 0.4483 - val_acc: 0.8692\n",
      "Epoch 26/150\n",
      "1953/1953 [============================>.] - ETA: 0s - loss: 0.3328 - acc: 0.8827Epoch 1/150\n",
      "10000/1953 [=========================================================================================================================================================] - 9s 868us/sample - loss: 0.4074 - acc: 0.8695\n",
      "\n",
      "Epoch 00026: val_acc did not improve from 0.87490\n",
      "1954/1953 [==============================] - 896s 459ms/step - loss: 0.3329 - acc: 0.8827 - val_loss: 0.4386 - val_acc: 0.8695\n",
      "Epoch 27/150\n",
      "1953/1953 [============================>.] - ETA: 0s - loss: 0.3300 - acc: 0.8841Epoch 1/150\n",
      "10000/1953 [=========================================================================================================================================================] - 9s 866us/sample - loss: 0.2969 - acc: 0.8739\n",
      "\n",
      "Epoch 00027: val_acc did not improve from 0.87490\n",
      "1954/1953 [==============================] - 895s 458ms/step - loss: 0.3300 - acc: 0.8841 - val_loss: 0.4191 - val_acc: 0.8739\n",
      "Epoch 28/150\n",
      "1953/1953 [============================>.] - ETA: 0s - loss: 0.3246 - acc: 0.8863Epoch 1/150\n",
      "10000/1953 [=========================================================================================================================================================] - 9s 870us/sample - loss: 0.3948 - acc: 0.8735\n",
      "\n",
      "Epoch 00028: val_acc did not improve from 0.87490\n",
      "1954/1953 [==============================] - 896s 458ms/step - loss: 0.3246 - acc: 0.8863 - val_loss: 0.4408 - val_acc: 0.8735\n",
      "Epoch 29/150\n",
      "1953/1953 [============================>.] - ETA: 0s - loss: 0.3203 - acc: 0.8871Epoch 1/150\n",
      "10000/1953 [=========================================================================================================================================================] - 9s 866us/sample - loss: 0.4339 - acc: 0.8747\n",
      "\n",
      "Epoch 00029: val_acc did not improve from 0.87490\n",
      "1954/1953 [==============================] - 896s 458ms/step - loss: 0.3203 - acc: 0.8871 - val_loss: 0.4207 - val_acc: 0.8747\n",
      "Epoch 30/150\n",
      "1693/1953 [=========================>....] - ETA: 1:58 - loss: 0.3151 - acc: 0.8887Buffered data was truncated after reaching the output size limit."
     ]
    }
   ],
   "source": [
    "model = dense_net2(X_train,X_test,epoch=150)"
   ]
  },
  {
   "cell_type": "markdown",
   "metadata": {
    "colab_type": "text",
    "id": "2eL6ip1VV8Yo"
   },
   "source": [
    "<strong> At epoch 33 the accuracy was 87% but because of time restrictions by google colab fitting the model is stoped any how since model is already saved at 33rd epoch we shall continue to fit from that epoch</strong>\n"
   ]
  },
  {
   "cell_type": "code",
   "execution_count": 0,
   "metadata": {
    "colab": {
     "base_uri": "https://localhost:8080/",
     "height": 161
    },
    "colab_type": "code",
    "id": "Tifc_AsqVY_O",
    "outputId": "c61dbcdf-4a57-4600-dbab-bf16628da656"
   },
   "outputs": [
    {
     "name": "stdout",
     "output_type": "stream",
     "text": [
      "1953/1953 [============================>.] - ETA: 0s - loss: 0.2364 - acc: 0.9161Epoch 1/150\n",
      "10000/1953 [=========================================================================================================================================================] - 8s 848us/sample - loss: 0.3856 - acc: 0.8887\n",
      "\n",
      "Epoch 00061: val_acc did not improve from 0.90130\n",
      "1954/1953 [==============================] - 886s 454ms/step - loss: 0.2363 - acc: 0.9161 - val_loss: 0.4000 - val_acc: 0.8887\n",
      "Epoch 62/150\n",
      "1699/1953 [=========================>....] - ETA: 1:53 - loss: 0.2356 - acc: 0.9166Buffered data was truncated after reaching the output size limit."
     ]
    }
   ],
   "source": [
    "# reduce_lr = ReduceLROnPlateau(monitor = 'val_loss', factor = 0.1, patience = 5, min_lr = 0.000001)\n",
    "\n",
    "# early_stop = EarlyStopping(monitor = \"val_loss\", patience = 10)\n",
    "\n",
    "def decay_fn(epoch, lr):\n",
    "    if epoch < 50:\n",
    "        return 0.001\n",
    "    elif epoch >= 50 and epoch < 75:\n",
    "        return 0.0001\n",
    "    else:\n",
    "        return 0.00001\n",
    "\n",
    "lr_scheduler = LearningRateScheduler(decay_fn)\n",
    "\n",
    "csv_logger = CSVLogger('training.log')\n",
    "\n",
    "\n",
    "\n",
    "\n",
    "\n",
    "checkpoint = ModelCheckpoint('gdrive/My Drive/cnnoncifar/models/model-{epoch:03d}-{acc:03f}-{val_acc:03f}.h5',\n",
    "                                       verbose=1, monitor='val_acc',save_best_only=True, mode='auto')  \n",
    "\n",
    "         \n",
    "model.load_weights('gdrive/My Drive/cnnoncifar/models/model-033-0.893153-0.879100.h5')\n",
    "\n",
    "\n",
    "model.compile(loss='categorical_crossentropy',\n",
    "              optimizer=Adam(),\n",
    "              metrics=['accuracy'])\n",
    "\n",
    "# model.fit(xtrain, y_train,\n",
    "#                     batch_size=batch_size,\n",
    "#                     epochs=epochs,\n",
    "#                     verbose=1, \n",
    "#                     validation_data=(xtest, y_test))\n",
    "print(model.summary())\n",
    "model.fit_generator(\n",
    "    datagen.flow(X_train, y_train, batch_size=batch_size), \n",
    "    steps_per_epoch=(len(X_train)/batch_size)*5,\n",
    "              \n",
    "    epochs=150, verbose = 1,initial_epoch = 32, \n",
    "    validation_data=(X_test, y_test),\n",
    "    callbacks=[checkpoint])\n",
    "\n",
    "\n",
    "\n",
    "\n"
   ]
  },
  {
   "cell_type": "markdown",
   "metadata": {
    "colab_type": "text",
    "id": "UrMUjiG4Wz-H"
   },
   "source": [
    "<strong> At epoch 60 the accuracy was 90% but because of time restrictions by google colab fitting the model is stoped any how since model is already saved at 60rd epoch we shall continue to fit from that epoch</strong>"
   ]
  },
  {
   "cell_type": "code",
   "execution_count": 0,
   "metadata": {
    "colab": {
     "base_uri": "https://localhost:8080/",
     "height": 1000
    },
    "colab_type": "code",
    "id": "zRSKA6kioM1d",
    "outputId": "de18c3eb-b176-4b94-c406-59d4d437e438"
   },
   "outputs": [
    {
     "name": "stdout",
     "output_type": "stream",
     "text": [
      "Model: \"model_1\"\n",
      "__________________________________________________________________________________________________\n",
      "Layer (type)                    Output Shape         Param #     Connected to                     \n",
      "==================================================================================================\n",
      "input_2 (InputLayer)            [(None, 32, 32, 3)]  0                                            \n",
      "__________________________________________________________________________________________________\n",
      "conv2d_165 (Conv2D)             (None, 32, 32, 24)   648         input_2[0][0]                    \n",
      "__________________________________________________________________________________________________\n",
      "batch_normalization_164 (BatchN (None, 32, 32, 24)   96          conv2d_165[0][0]                 \n",
      "__________________________________________________________________________________________________\n",
      "activation_165 (Activation)     (None, 32, 32, 24)   0           batch_normalization_164[0][0]    \n",
      "__________________________________________________________________________________________________\n",
      "conv2d_166 (Conv2D)             (None, 32, 32, 24)   5184        activation_165[0][0]             \n",
      "__________________________________________________________________________________________________\n",
      "dropout_163 (Dropout)           (None, 32, 32, 24)   0           conv2d_166[0][0]                 \n",
      "__________________________________________________________________________________________________\n",
      "concatenate_160 (Concatenate)   (None, 32, 32, 48)   0           conv2d_165[0][0]                 \n",
      "                                                                 dropout_163[0][0]                \n",
      "__________________________________________________________________________________________________\n",
      "batch_normalization_165 (BatchN (None, 32, 32, 48)   192         concatenate_160[0][0]            \n",
      "__________________________________________________________________________________________________\n",
      "activation_166 (Activation)     (None, 32, 32, 48)   0           batch_normalization_165[0][0]    \n",
      "__________________________________________________________________________________________________\n",
      "conv2d_167 (Conv2D)             (None, 32, 32, 24)   10368       activation_166[0][0]             \n",
      "__________________________________________________________________________________________________\n",
      "dropout_164 (Dropout)           (None, 32, 32, 24)   0           conv2d_167[0][0]                 \n",
      "__________________________________________________________________________________________________\n",
      "concatenate_161 (Concatenate)   (None, 32, 32, 72)   0           concatenate_160[0][0]            \n",
      "                                                                 dropout_164[0][0]                \n",
      "__________________________________________________________________________________________________\n",
      "batch_normalization_166 (BatchN (None, 32, 32, 72)   288         concatenate_161[0][0]            \n",
      "__________________________________________________________________________________________________\n",
      "activation_167 (Activation)     (None, 32, 32, 72)   0           batch_normalization_166[0][0]    \n",
      "__________________________________________________________________________________________________\n",
      "conv2d_168 (Conv2D)             (None, 32, 32, 24)   15552       activation_167[0][0]             \n",
      "__________________________________________________________________________________________________\n",
      "dropout_165 (Dropout)           (None, 32, 32, 24)   0           conv2d_168[0][0]                 \n",
      "__________________________________________________________________________________________________\n",
      "concatenate_162 (Concatenate)   (None, 32, 32, 96)   0           concatenate_161[0][0]            \n",
      "                                                                 dropout_165[0][0]                \n",
      "__________________________________________________________________________________________________\n",
      "batch_normalization_167 (BatchN (None, 32, 32, 96)   384         concatenate_162[0][0]            \n",
      "__________________________________________________________________________________________________\n",
      "activation_168 (Activation)     (None, 32, 32, 96)   0           batch_normalization_167[0][0]    \n",
      "__________________________________________________________________________________________________\n",
      "conv2d_169 (Conv2D)             (None, 32, 32, 24)   20736       activation_168[0][0]             \n",
      "__________________________________________________________________________________________________\n",
      "dropout_166 (Dropout)           (None, 32, 32, 24)   0           conv2d_169[0][0]                 \n",
      "__________________________________________________________________________________________________\n",
      "concatenate_163 (Concatenate)   (None, 32, 32, 120)  0           concatenate_162[0][0]            \n",
      "                                                                 dropout_166[0][0]                \n",
      "__________________________________________________________________________________________________\n",
      "batch_normalization_168 (BatchN (None, 32, 32, 120)  480         concatenate_163[0][0]            \n",
      "__________________________________________________________________________________________________\n",
      "activation_169 (Activation)     (None, 32, 32, 120)  0           batch_normalization_168[0][0]    \n",
      "__________________________________________________________________________________________________\n",
      "conv2d_170 (Conv2D)             (None, 32, 32, 24)   25920       activation_169[0][0]             \n",
      "__________________________________________________________________________________________________\n",
      "dropout_167 (Dropout)           (None, 32, 32, 24)   0           conv2d_170[0][0]                 \n",
      "__________________________________________________________________________________________________\n",
      "concatenate_164 (Concatenate)   (None, 32, 32, 144)  0           concatenate_163[0][0]            \n",
      "                                                                 dropout_167[0][0]                \n",
      "__________________________________________________________________________________________________\n",
      "batch_normalization_169 (BatchN (None, 32, 32, 144)  576         concatenate_164[0][0]            \n",
      "__________________________________________________________________________________________________\n",
      "activation_170 (Activation)     (None, 32, 32, 144)  0           batch_normalization_169[0][0]    \n",
      "__________________________________________________________________________________________________\n",
      "conv2d_171 (Conv2D)             (None, 32, 32, 24)   31104       activation_170[0][0]             \n",
      "__________________________________________________________________________________________________\n",
      "dropout_168 (Dropout)           (None, 32, 32, 24)   0           conv2d_171[0][0]                 \n",
      "__________________________________________________________________________________________________\n",
      "concatenate_165 (Concatenate)   (None, 32, 32, 168)  0           concatenate_164[0][0]            \n",
      "                                                                 dropout_168[0][0]                \n",
      "__________________________________________________________________________________________________\n",
      "batch_normalization_170 (BatchN (None, 32, 32, 168)  672         concatenate_165[0][0]            \n",
      "__________________________________________________________________________________________________\n",
      "activation_171 (Activation)     (None, 32, 32, 168)  0           batch_normalization_170[0][0]    \n",
      "__________________________________________________________________________________________________\n",
      "conv2d_172 (Conv2D)             (None, 32, 32, 24)   36288       activation_171[0][0]             \n",
      "__________________________________________________________________________________________________\n",
      "dropout_169 (Dropout)           (None, 32, 32, 24)   0           conv2d_172[0][0]                 \n",
      "__________________________________________________________________________________________________\n",
      "concatenate_166 (Concatenate)   (None, 32, 32, 192)  0           concatenate_165[0][0]            \n",
      "                                                                 dropout_169[0][0]                \n",
      "__________________________________________________________________________________________________\n",
      "batch_normalization_171 (BatchN (None, 32, 32, 192)  768         concatenate_166[0][0]            \n",
      "__________________________________________________________________________________________________\n",
      "activation_172 (Activation)     (None, 32, 32, 192)  0           batch_normalization_171[0][0]    \n",
      "__________________________________________________________________________________________________\n",
      "conv2d_173 (Conv2D)             (None, 32, 32, 24)   41472       activation_172[0][0]             \n",
      "__________________________________________________________________________________________________\n",
      "dropout_170 (Dropout)           (None, 32, 32, 24)   0           conv2d_173[0][0]                 \n",
      "__________________________________________________________________________________________________\n",
      "concatenate_167 (Concatenate)   (None, 32, 32, 216)  0           concatenate_166[0][0]            \n",
      "                                                                 dropout_170[0][0]                \n",
      "__________________________________________________________________________________________________\n",
      "batch_normalization_172 (BatchN (None, 32, 32, 216)  864         concatenate_167[0][0]            \n",
      "__________________________________________________________________________________________________\n",
      "activation_173 (Activation)     (None, 32, 32, 216)  0           batch_normalization_172[0][0]    \n",
      "__________________________________________________________________________________________________\n",
      "conv2d_174 (Conv2D)             (None, 32, 32, 24)   46656       activation_173[0][0]             \n",
      "__________________________________________________________________________________________________\n",
      "dropout_171 (Dropout)           (None, 32, 32, 24)   0           conv2d_174[0][0]                 \n",
      "__________________________________________________________________________________________________\n",
      "concatenate_168 (Concatenate)   (None, 32, 32, 240)  0           concatenate_167[0][0]            \n",
      "                                                                 dropout_171[0][0]                \n",
      "__________________________________________________________________________________________________\n",
      "batch_normalization_173 (BatchN (None, 32, 32, 240)  960         concatenate_168[0][0]            \n",
      "__________________________________________________________________________________________________\n",
      "activation_174 (Activation)     (None, 32, 32, 240)  0           batch_normalization_173[0][0]    \n",
      "__________________________________________________________________________________________________\n",
      "conv2d_175 (Conv2D)             (None, 32, 32, 24)   5760        activation_174[0][0]             \n",
      "__________________________________________________________________________________________________\n",
      "dropout_172 (Dropout)           (None, 32, 32, 24)   0           conv2d_175[0][0]                 \n",
      "__________________________________________________________________________________________________\n",
      "average_pooling2d_4 (AveragePoo (None, 16, 16, 24)   0           dropout_172[0][0]                \n",
      "__________________________________________________________________________________________________\n",
      "batch_normalization_174 (BatchN (None, 16, 16, 24)   96          average_pooling2d_4[0][0]        \n",
      "__________________________________________________________________________________________________\n",
      "activation_175 (Activation)     (None, 16, 16, 24)   0           batch_normalization_174[0][0]    \n",
      "__________________________________________________________________________________________________\n",
      "conv2d_176 (Conv2D)             (None, 16, 16, 24)   5184        activation_175[0][0]             \n",
      "__________________________________________________________________________________________________\n",
      "dropout_173 (Dropout)           (None, 16, 16, 24)   0           conv2d_176[0][0]                 \n",
      "__________________________________________________________________________________________________\n",
      "concatenate_169 (Concatenate)   (None, 16, 16, 48)   0           average_pooling2d_4[0][0]        \n",
      "                                                                 dropout_173[0][0]                \n",
      "__________________________________________________________________________________________________\n",
      "batch_normalization_175 (BatchN (None, 16, 16, 48)   192         concatenate_169[0][0]            \n",
      "__________________________________________________________________________________________________\n",
      "activation_176 (Activation)     (None, 16, 16, 48)   0           batch_normalization_175[0][0]    \n",
      "__________________________________________________________________________________________________\n",
      "conv2d_177 (Conv2D)             (None, 16, 16, 24)   10368       activation_176[0][0]             \n",
      "__________________________________________________________________________________________________\n",
      "dropout_174 (Dropout)           (None, 16, 16, 24)   0           conv2d_177[0][0]                 \n",
      "__________________________________________________________________________________________________\n",
      "concatenate_170 (Concatenate)   (None, 16, 16, 72)   0           concatenate_169[0][0]            \n",
      "                                                                 dropout_174[0][0]                \n",
      "__________________________________________________________________________________________________\n",
      "batch_normalization_176 (BatchN (None, 16, 16, 72)   288         concatenate_170[0][0]            \n",
      "__________________________________________________________________________________________________\n",
      "activation_177 (Activation)     (None, 16, 16, 72)   0           batch_normalization_176[0][0]    \n",
      "__________________________________________________________________________________________________\n",
      "conv2d_178 (Conv2D)             (None, 16, 16, 24)   15552       activation_177[0][0]             \n",
      "__________________________________________________________________________________________________\n",
      "dropout_175 (Dropout)           (None, 16, 16, 24)   0           conv2d_178[0][0]                 \n",
      "__________________________________________________________________________________________________\n",
      "concatenate_171 (Concatenate)   (None, 16, 16, 96)   0           concatenate_170[0][0]            \n",
      "                                                                 dropout_175[0][0]                \n",
      "__________________________________________________________________________________________________\n",
      "batch_normalization_177 (BatchN (None, 16, 16, 96)   384         concatenate_171[0][0]            \n",
      "__________________________________________________________________________________________________\n",
      "activation_178 (Activation)     (None, 16, 16, 96)   0           batch_normalization_177[0][0]    \n",
      "__________________________________________________________________________________________________\n",
      "conv2d_179 (Conv2D)             (None, 16, 16, 24)   20736       activation_178[0][0]             \n",
      "__________________________________________________________________________________________________\n",
      "dropout_176 (Dropout)           (None, 16, 16, 24)   0           conv2d_179[0][0]                 \n",
      "__________________________________________________________________________________________________\n",
      "concatenate_172 (Concatenate)   (None, 16, 16, 120)  0           concatenate_171[0][0]            \n",
      "                                                                 dropout_176[0][0]                \n",
      "__________________________________________________________________________________________________\n",
      "batch_normalization_178 (BatchN (None, 16, 16, 120)  480         concatenate_172[0][0]            \n",
      "__________________________________________________________________________________________________\n",
      "activation_179 (Activation)     (None, 16, 16, 120)  0           batch_normalization_178[0][0]    \n",
      "__________________________________________________________________________________________________\n",
      "conv2d_180 (Conv2D)             (None, 16, 16, 24)   25920       activation_179[0][0]             \n",
      "__________________________________________________________________________________________________\n",
      "dropout_177 (Dropout)           (None, 16, 16, 24)   0           conv2d_180[0][0]                 \n",
      "__________________________________________________________________________________________________\n",
      "concatenate_173 (Concatenate)   (None, 16, 16, 144)  0           concatenate_172[0][0]            \n",
      "                                                                 dropout_177[0][0]                \n",
      "__________________________________________________________________________________________________\n",
      "batch_normalization_179 (BatchN (None, 16, 16, 144)  576         concatenate_173[0][0]            \n",
      "__________________________________________________________________________________________________\n",
      "activation_180 (Activation)     (None, 16, 16, 144)  0           batch_normalization_179[0][0]    \n",
      "__________________________________________________________________________________________________\n",
      "conv2d_181 (Conv2D)             (None, 16, 16, 24)   31104       activation_180[0][0]             \n",
      "__________________________________________________________________________________________________\n",
      "dropout_178 (Dropout)           (None, 16, 16, 24)   0           conv2d_181[0][0]                 \n",
      "__________________________________________________________________________________________________\n",
      "concatenate_174 (Concatenate)   (None, 16, 16, 168)  0           concatenate_173[0][0]            \n",
      "                                                                 dropout_178[0][0]                \n",
      "__________________________________________________________________________________________________\n",
      "batch_normalization_180 (BatchN (None, 16, 16, 168)  672         concatenate_174[0][0]            \n",
      "__________________________________________________________________________________________________\n",
      "activation_181 (Activation)     (None, 16, 16, 168)  0           batch_normalization_180[0][0]    \n",
      "__________________________________________________________________________________________________\n",
      "conv2d_182 (Conv2D)             (None, 16, 16, 24)   36288       activation_181[0][0]             \n",
      "__________________________________________________________________________________________________\n",
      "dropout_179 (Dropout)           (None, 16, 16, 24)   0           conv2d_182[0][0]                 \n",
      "__________________________________________________________________________________________________\n",
      "concatenate_175 (Concatenate)   (None, 16, 16, 192)  0           concatenate_174[0][0]            \n",
      "                                                                 dropout_179[0][0]                \n",
      "__________________________________________________________________________________________________\n",
      "batch_normalization_181 (BatchN (None, 16, 16, 192)  768         concatenate_175[0][0]            \n",
      "__________________________________________________________________________________________________\n",
      "activation_182 (Activation)     (None, 16, 16, 192)  0           batch_normalization_181[0][0]    \n",
      "__________________________________________________________________________________________________\n",
      "conv2d_183 (Conv2D)             (None, 16, 16, 24)   41472       activation_182[0][0]             \n",
      "__________________________________________________________________________________________________\n",
      "dropout_180 (Dropout)           (None, 16, 16, 24)   0           conv2d_183[0][0]                 \n",
      "__________________________________________________________________________________________________\n",
      "concatenate_176 (Concatenate)   (None, 16, 16, 216)  0           concatenate_175[0][0]            \n",
      "                                                                 dropout_180[0][0]                \n",
      "__________________________________________________________________________________________________\n",
      "batch_normalization_182 (BatchN (None, 16, 16, 216)  864         concatenate_176[0][0]            \n",
      "__________________________________________________________________________________________________\n",
      "activation_183 (Activation)     (None, 16, 16, 216)  0           batch_normalization_182[0][0]    \n",
      "__________________________________________________________________________________________________\n",
      "conv2d_184 (Conv2D)             (None, 16, 16, 24)   46656       activation_183[0][0]             \n",
      "__________________________________________________________________________________________________\n",
      "dropout_181 (Dropout)           (None, 16, 16, 24)   0           conv2d_184[0][0]                 \n",
      "__________________________________________________________________________________________________\n",
      "concatenate_177 (Concatenate)   (None, 16, 16, 240)  0           concatenate_176[0][0]            \n",
      "                                                                 dropout_181[0][0]                \n",
      "__________________________________________________________________________________________________\n",
      "batch_normalization_183 (BatchN (None, 16, 16, 240)  960         concatenate_177[0][0]            \n",
      "__________________________________________________________________________________________________\n",
      "activation_184 (Activation)     (None, 16, 16, 240)  0           batch_normalization_183[0][0]    \n",
      "__________________________________________________________________________________________________\n",
      "conv2d_185 (Conv2D)             (None, 16, 16, 24)   5760        activation_184[0][0]             \n",
      "__________________________________________________________________________________________________\n",
      "dropout_182 (Dropout)           (None, 16, 16, 24)   0           conv2d_185[0][0]                 \n",
      "__________________________________________________________________________________________________\n",
      "average_pooling2d_5 (AveragePoo (None, 8, 8, 24)     0           dropout_182[0][0]                \n",
      "__________________________________________________________________________________________________\n",
      "batch_normalization_184 (BatchN (None, 8, 8, 24)     96          average_pooling2d_5[0][0]        \n",
      "__________________________________________________________________________________________________\n",
      "activation_185 (Activation)     (None, 8, 8, 24)     0           batch_normalization_184[0][0]    \n",
      "__________________________________________________________________________________________________\n",
      "conv2d_186 (Conv2D)             (None, 8, 8, 24)     5184        activation_185[0][0]             \n",
      "__________________________________________________________________________________________________\n",
      "dropout_183 (Dropout)           (None, 8, 8, 24)     0           conv2d_186[0][0]                 \n",
      "__________________________________________________________________________________________________\n",
      "concatenate_178 (Concatenate)   (None, 8, 8, 48)     0           average_pooling2d_5[0][0]        \n",
      "                                                                 dropout_183[0][0]                \n",
      "__________________________________________________________________________________________________\n",
      "batch_normalization_185 (BatchN (None, 8, 8, 48)     192         concatenate_178[0][0]            \n",
      "__________________________________________________________________________________________________\n",
      "activation_186 (Activation)     (None, 8, 8, 48)     0           batch_normalization_185[0][0]    \n",
      "__________________________________________________________________________________________________\n",
      "conv2d_187 (Conv2D)             (None, 8, 8, 24)     10368       activation_186[0][0]             \n",
      "__________________________________________________________________________________________________\n",
      "dropout_184 (Dropout)           (None, 8, 8, 24)     0           conv2d_187[0][0]                 \n",
      "__________________________________________________________________________________________________\n",
      "concatenate_179 (Concatenate)   (None, 8, 8, 72)     0           concatenate_178[0][0]            \n",
      "                                                                 dropout_184[0][0]                \n",
      "__________________________________________________________________________________________________\n",
      "batch_normalization_186 (BatchN (None, 8, 8, 72)     288         concatenate_179[0][0]            \n",
      "__________________________________________________________________________________________________\n",
      "activation_187 (Activation)     (None, 8, 8, 72)     0           batch_normalization_186[0][0]    \n",
      "__________________________________________________________________________________________________\n",
      "conv2d_188 (Conv2D)             (None, 8, 8, 24)     15552       activation_187[0][0]             \n",
      "__________________________________________________________________________________________________\n",
      "dropout_185 (Dropout)           (None, 8, 8, 24)     0           conv2d_188[0][0]                 \n",
      "__________________________________________________________________________________________________\n",
      "concatenate_180 (Concatenate)   (None, 8, 8, 96)     0           concatenate_179[0][0]            \n",
      "                                                                 dropout_185[0][0]                \n",
      "__________________________________________________________________________________________________\n",
      "batch_normalization_187 (BatchN (None, 8, 8, 96)     384         concatenate_180[0][0]            \n",
      "__________________________________________________________________________________________________\n",
      "activation_188 (Activation)     (None, 8, 8, 96)     0           batch_normalization_187[0][0]    \n",
      "__________________________________________________________________________________________________\n",
      "conv2d_189 (Conv2D)             (None, 8, 8, 24)     20736       activation_188[0][0]             \n",
      "__________________________________________________________________________________________________\n",
      "dropout_186 (Dropout)           (None, 8, 8, 24)     0           conv2d_189[0][0]                 \n",
      "__________________________________________________________________________________________________\n",
      "concatenate_181 (Concatenate)   (None, 8, 8, 120)    0           concatenate_180[0][0]            \n",
      "                                                                 dropout_186[0][0]                \n",
      "__________________________________________________________________________________________________\n",
      "batch_normalization_188 (BatchN (None, 8, 8, 120)    480         concatenate_181[0][0]            \n",
      "__________________________________________________________________________________________________\n",
      "activation_189 (Activation)     (None, 8, 8, 120)    0           batch_normalization_188[0][0]    \n",
      "__________________________________________________________________________________________________\n",
      "conv2d_190 (Conv2D)             (None, 8, 8, 24)     25920       activation_189[0][0]             \n",
      "__________________________________________________________________________________________________\n",
      "dropout_187 (Dropout)           (None, 8, 8, 24)     0           conv2d_190[0][0]                 \n",
      "__________________________________________________________________________________________________\n",
      "concatenate_182 (Concatenate)   (None, 8, 8, 144)    0           concatenate_181[0][0]            \n",
      "                                                                 dropout_187[0][0]                \n",
      "__________________________________________________________________________________________________\n",
      "batch_normalization_189 (BatchN (None, 8, 8, 144)    576         concatenate_182[0][0]            \n",
      "__________________________________________________________________________________________________\n",
      "activation_190 (Activation)     (None, 8, 8, 144)    0           batch_normalization_189[0][0]    \n",
      "__________________________________________________________________________________________________\n",
      "conv2d_191 (Conv2D)             (None, 8, 8, 24)     31104       activation_190[0][0]             \n",
      "__________________________________________________________________________________________________\n",
      "dropout_188 (Dropout)           (None, 8, 8, 24)     0           conv2d_191[0][0]                 \n",
      "__________________________________________________________________________________________________\n",
      "concatenate_183 (Concatenate)   (None, 8, 8, 168)    0           concatenate_182[0][0]            \n",
      "                                                                 dropout_188[0][0]                \n",
      "__________________________________________________________________________________________________\n",
      "batch_normalization_190 (BatchN (None, 8, 8, 168)    672         concatenate_183[0][0]            \n",
      "__________________________________________________________________________________________________\n",
      "activation_191 (Activation)     (None, 8, 8, 168)    0           batch_normalization_190[0][0]    \n",
      "__________________________________________________________________________________________________\n",
      "conv2d_192 (Conv2D)             (None, 8, 8, 24)     36288       activation_191[0][0]             \n",
      "__________________________________________________________________________________________________\n",
      "dropout_189 (Dropout)           (None, 8, 8, 24)     0           conv2d_192[0][0]                 \n",
      "__________________________________________________________________________________________________\n",
      "concatenate_184 (Concatenate)   (None, 8, 8, 192)    0           concatenate_183[0][0]            \n",
      "                                                                 dropout_189[0][0]                \n",
      "__________________________________________________________________________________________________\n",
      "batch_normalization_191 (BatchN (None, 8, 8, 192)    768         concatenate_184[0][0]            \n",
      "__________________________________________________________________________________________________\n",
      "activation_192 (Activation)     (None, 8, 8, 192)    0           batch_normalization_191[0][0]    \n",
      "__________________________________________________________________________________________________\n",
      "conv2d_193 (Conv2D)             (None, 8, 8, 24)     41472       activation_192[0][0]             \n",
      "__________________________________________________________________________________________________\n",
      "dropout_190 (Dropout)           (None, 8, 8, 24)     0           conv2d_193[0][0]                 \n",
      "__________________________________________________________________________________________________\n",
      "concatenate_185 (Concatenate)   (None, 8, 8, 216)    0           concatenate_184[0][0]            \n",
      "                                                                 dropout_190[0][0]                \n",
      "__________________________________________________________________________________________________\n",
      "batch_normalization_192 (BatchN (None, 8, 8, 216)    864         concatenate_185[0][0]            \n",
      "__________________________________________________________________________________________________\n",
      "activation_193 (Activation)     (None, 8, 8, 216)    0           batch_normalization_192[0][0]    \n",
      "__________________________________________________________________________________________________\n",
      "conv2d_194 (Conv2D)             (None, 8, 8, 24)     46656       activation_193[0][0]             \n",
      "__________________________________________________________________________________________________\n",
      "dropout_191 (Dropout)           (None, 8, 8, 24)     0           conv2d_194[0][0]                 \n",
      "__________________________________________________________________________________________________\n",
      "concatenate_186 (Concatenate)   (None, 8, 8, 240)    0           concatenate_185[0][0]            \n",
      "                                                                 dropout_191[0][0]                \n",
      "__________________________________________________________________________________________________\n",
      "batch_normalization_193 (BatchN (None, 8, 8, 240)    960         concatenate_186[0][0]            \n",
      "__________________________________________________________________________________________________\n",
      "activation_194 (Activation)     (None, 8, 8, 240)    0           batch_normalization_193[0][0]    \n",
      "__________________________________________________________________________________________________\n",
      "conv2d_195 (Conv2D)             (None, 8, 8, 24)     5760        activation_194[0][0]             \n",
      "__________________________________________________________________________________________________\n",
      "dropout_192 (Dropout)           (None, 8, 8, 24)     0           conv2d_195[0][0]                 \n",
      "__________________________________________________________________________________________________\n",
      "average_pooling2d_6 (AveragePoo (None, 4, 4, 24)     0           dropout_192[0][0]                \n",
      "__________________________________________________________________________________________________\n",
      "batch_normalization_194 (BatchN (None, 4, 4, 24)     96          average_pooling2d_6[0][0]        \n",
      "__________________________________________________________________________________________________\n",
      "activation_195 (Activation)     (None, 4, 4, 24)     0           batch_normalization_194[0][0]    \n",
      "__________________________________________________________________________________________________\n",
      "conv2d_196 (Conv2D)             (None, 4, 4, 24)     5184        activation_195[0][0]             \n",
      "__________________________________________________________________________________________________\n",
      "dropout_193 (Dropout)           (None, 4, 4, 24)     0           conv2d_196[0][0]                 \n",
      "__________________________________________________________________________________________________\n",
      "concatenate_187 (Concatenate)   (None, 4, 4, 48)     0           average_pooling2d_6[0][0]        \n",
      "                                                                 dropout_193[0][0]                \n",
      "__________________________________________________________________________________________________\n",
      "batch_normalization_195 (BatchN (None, 4, 4, 48)     192         concatenate_187[0][0]            \n",
      "__________________________________________________________________________________________________\n",
      "activation_196 (Activation)     (None, 4, 4, 48)     0           batch_normalization_195[0][0]    \n",
      "__________________________________________________________________________________________________\n",
      "conv2d_197 (Conv2D)             (None, 4, 4, 24)     10368       activation_196[0][0]             \n",
      "__________________________________________________________________________________________________\n",
      "dropout_194 (Dropout)           (None, 4, 4, 24)     0           conv2d_197[0][0]                 \n",
      "__________________________________________________________________________________________________\n",
      "concatenate_188 (Concatenate)   (None, 4, 4, 72)     0           concatenate_187[0][0]            \n",
      "                                                                 dropout_194[0][0]                \n",
      "__________________________________________________________________________________________________\n",
      "batch_normalization_196 (BatchN (None, 4, 4, 72)     288         concatenate_188[0][0]            \n",
      "__________________________________________________________________________________________________\n",
      "activation_197 (Activation)     (None, 4, 4, 72)     0           batch_normalization_196[0][0]    \n",
      "__________________________________________________________________________________________________\n",
      "conv2d_198 (Conv2D)             (None, 4, 4, 24)     15552       activation_197[0][0]             \n",
      "__________________________________________________________________________________________________\n",
      "dropout_195 (Dropout)           (None, 4, 4, 24)     0           conv2d_198[0][0]                 \n",
      "__________________________________________________________________________________________________\n",
      "concatenate_189 (Concatenate)   (None, 4, 4, 96)     0           concatenate_188[0][0]            \n",
      "                                                                 dropout_195[0][0]                \n",
      "__________________________________________________________________________________________________\n",
      "batch_normalization_197 (BatchN (None, 4, 4, 96)     384         concatenate_189[0][0]            \n",
      "__________________________________________________________________________________________________\n",
      "activation_198 (Activation)     (None, 4, 4, 96)     0           batch_normalization_197[0][0]    \n",
      "__________________________________________________________________________________________________\n",
      "conv2d_199 (Conv2D)             (None, 4, 4, 24)     20736       activation_198[0][0]             \n",
      "__________________________________________________________________________________________________\n",
      "dropout_196 (Dropout)           (None, 4, 4, 24)     0           conv2d_199[0][0]                 \n",
      "__________________________________________________________________________________________________\n",
      "concatenate_190 (Concatenate)   (None, 4, 4, 120)    0           concatenate_189[0][0]            \n",
      "                                                                 dropout_196[0][0]                \n",
      "__________________________________________________________________________________________________\n",
      "batch_normalization_198 (BatchN (None, 4, 4, 120)    480         concatenate_190[0][0]            \n",
      "__________________________________________________________________________________________________\n",
      "activation_199 (Activation)     (None, 4, 4, 120)    0           batch_normalization_198[0][0]    \n",
      "__________________________________________________________________________________________________\n",
      "conv2d_200 (Conv2D)             (None, 4, 4, 24)     25920       activation_199[0][0]             \n",
      "__________________________________________________________________________________________________\n",
      "dropout_197 (Dropout)           (None, 4, 4, 24)     0           conv2d_200[0][0]                 \n",
      "__________________________________________________________________________________________________\n",
      "concatenate_191 (Concatenate)   (None, 4, 4, 144)    0           concatenate_190[0][0]            \n",
      "                                                                 dropout_197[0][0]                \n",
      "__________________________________________________________________________________________________\n",
      "batch_normalization_199 (BatchN (None, 4, 4, 144)    576         concatenate_191[0][0]            \n",
      "__________________________________________________________________________________________________\n",
      "activation_200 (Activation)     (None, 4, 4, 144)    0           batch_normalization_199[0][0]    \n",
      "__________________________________________________________________________________________________\n",
      "conv2d_201 (Conv2D)             (None, 4, 4, 24)     31104       activation_200[0][0]             \n",
      "__________________________________________________________________________________________________\n",
      "dropout_198 (Dropout)           (None, 4, 4, 24)     0           conv2d_201[0][0]                 \n",
      "__________________________________________________________________________________________________\n",
      "concatenate_192 (Concatenate)   (None, 4, 4, 168)    0           concatenate_191[0][0]            \n",
      "                                                                 dropout_198[0][0]                \n",
      "__________________________________________________________________________________________________\n",
      "batch_normalization_200 (BatchN (None, 4, 4, 168)    672         concatenate_192[0][0]            \n",
      "__________________________________________________________________________________________________\n",
      "activation_201 (Activation)     (None, 4, 4, 168)    0           batch_normalization_200[0][0]    \n",
      "__________________________________________________________________________________________________\n",
      "conv2d_202 (Conv2D)             (None, 4, 4, 24)     36288       activation_201[0][0]             \n",
      "__________________________________________________________________________________________________\n",
      "dropout_199 (Dropout)           (None, 4, 4, 24)     0           conv2d_202[0][0]                 \n",
      "__________________________________________________________________________________________________\n",
      "concatenate_193 (Concatenate)   (None, 4, 4, 192)    0           concatenate_192[0][0]            \n",
      "                                                                 dropout_199[0][0]                \n",
      "__________________________________________________________________________________________________\n",
      "batch_normalization_201 (BatchN (None, 4, 4, 192)    768         concatenate_193[0][0]            \n",
      "__________________________________________________________________________________________________\n",
      "activation_202 (Activation)     (None, 4, 4, 192)    0           batch_normalization_201[0][0]    \n",
      "__________________________________________________________________________________________________\n",
      "conv2d_203 (Conv2D)             (None, 4, 4, 24)     41472       activation_202[0][0]             \n",
      "__________________________________________________________________________________________________\n",
      "dropout_200 (Dropout)           (None, 4, 4, 24)     0           conv2d_203[0][0]                 \n",
      "__________________________________________________________________________________________________\n",
      "concatenate_194 (Concatenate)   (None, 4, 4, 216)    0           concatenate_193[0][0]            \n",
      "                                                                 dropout_200[0][0]                \n",
      "__________________________________________________________________________________________________\n",
      "batch_normalization_202 (BatchN (None, 4, 4, 216)    864         concatenate_194[0][0]            \n",
      "__________________________________________________________________________________________________\n",
      "activation_203 (Activation)     (None, 4, 4, 216)    0           batch_normalization_202[0][0]    \n",
      "__________________________________________________________________________________________________\n",
      "conv2d_204 (Conv2D)             (None, 4, 4, 24)     46656       activation_203[0][0]             \n",
      "__________________________________________________________________________________________________\n",
      "dropout_201 (Dropout)           (None, 4, 4, 24)     0           conv2d_204[0][0]                 \n",
      "__________________________________________________________________________________________________\n",
      "concatenate_195 (Concatenate)   (None, 4, 4, 240)    0           concatenate_194[0][0]            \n",
      "                                                                 dropout_201[0][0]                \n",
      "__________________________________________________________________________________________________\n",
      "batch_normalization_203 (BatchN (None, 4, 4, 240)    960         concatenate_195[0][0]            \n",
      "__________________________________________________________________________________________________\n",
      "activation_204 (Activation)     (None, 4, 4, 240)    0           batch_normalization_203[0][0]    \n",
      "__________________________________________________________________________________________________\n",
      "average_pooling2d_7 (AveragePoo (None, 2, 2, 240)    0           activation_204[0][0]             \n",
      "__________________________________________________________________________________________________\n",
      "conv2d_205 (Conv2D)             (None, 2, 2, 10)     2400        average_pooling2d_7[0][0]        \n",
      "__________________________________________________________________________________________________\n",
      "global_max_pooling2d_1 (GlobalM (None, 10)           0           conv2d_205[0][0]                 \n",
      "__________________________________________________________________________________________________\n",
      "activation_205 (Activation)     (None, 10)           0           global_max_pooling2d_1[0][0]     \n",
      "==================================================================================================\n",
      "Total params: 974,568\n",
      "Trainable params: 964,008\n",
      "Non-trainable params: 10,560\n",
      "__________________________________________________________________________________________________\n",
      "None\n"
     ]
    },
    {
     "name": "stderr",
     "output_type": "stream",
     "text": [
      "/usr/local/lib/python3.6/dist-packages/keras_preprocessing/image/image_data_generator.py:716: UserWarning: This ImageDataGenerator specifies `featurewise_center`, but it hasn't been fit on any training data. Fit it first by calling `.fit(numpy_data)`.\n",
      "  warnings.warn('This ImageDataGenerator specifies '\n",
      "/usr/local/lib/python3.6/dist-packages/keras_preprocessing/image/image_data_generator.py:724: UserWarning: This ImageDataGenerator specifies `featurewise_std_normalization`, but it hasn't been fit on any training data. Fit it first by calling `.fit(numpy_data)`.\n",
      "  warnings.warn('This ImageDataGenerator specifies '\n"
     ]
    },
    {
     "name": "stdout",
     "output_type": "stream",
     "text": [
      "Epoch 62/150\n"
     ]
    },
    {
     "name": "stderr",
     "output_type": "stream",
     "text": [
      "/usr/local/lib/python3.6/dist-packages/keras_preprocessing/image/image_data_generator.py:716: UserWarning: This ImageDataGenerator specifies `featurewise_center`, but it hasn't been fit on any training data. Fit it first by calling `.fit(numpy_data)`.\n",
      "  warnings.warn('This ImageDataGenerator specifies '\n",
      "/usr/local/lib/python3.6/dist-packages/keras_preprocessing/image/image_data_generator.py:724: UserWarning: This ImageDataGenerator specifies `featurewise_std_normalization`, but it hasn't been fit on any training data. Fit it first by calling `.fit(numpy_data)`.\n",
      "  warnings.warn('This ImageDataGenerator specifies '\n",
      "/usr/local/lib/python3.6/dist-packages/keras_preprocessing/image/image_data_generator.py:716: UserWarning: This ImageDataGenerator specifies `featurewise_center`, but it hasn't been fit on any training data. Fit it first by calling `.fit(numpy_data)`.\n",
      "  warnings.warn('This ImageDataGenerator specifies '\n",
      "/usr/local/lib/python3.6/dist-packages/keras_preprocessing/image/image_data_generator.py:724: UserWarning: This ImageDataGenerator specifies `featurewise_std_normalization`, but it hasn't been fit on any training data. Fit it first by calling `.fit(numpy_data)`.\n",
      "  warnings.warn('This ImageDataGenerator specifies '\n",
      "/usr/local/lib/python3.6/dist-packages/keras_preprocessing/image/image_data_generator.py:716: UserWarning: This ImageDataGenerator specifies `featurewise_center`, but it hasn't been fit on any training data. Fit it first by calling `.fit(numpy_data)`.\n",
      "  warnings.warn('This ImageDataGenerator specifies '\n",
      "/usr/local/lib/python3.6/dist-packages/keras_preprocessing/image/image_data_generator.py:724: UserWarning: This ImageDataGenerator specifies `featurewise_std_normalization`, but it hasn't been fit on any training data. Fit it first by calling `.fit(numpy_data)`.\n",
      "  warnings.warn('This ImageDataGenerator specifies '\n"
     ]
    },
    {
     "name": "stdout",
     "output_type": "stream",
     "text": [
      "1953/1953 [============================>.] - ETA: 0s - loss: 0.2368 - acc: 0.9162Epoch 1/150\n",
      "10000/1953 [=========================================================================================================================================================] - 12s 1ms/sample - loss: 0.2617 - acc: 0.9017\n",
      "\n",
      "Epoch 00062: val_acc improved from -inf to 0.90170, saving model to gdrive/My Drive/cnnoncifar/models/model-062-0.916165-0.901700.h5\n",
      "1954/1953 [==============================] - 963s 493ms/step - loss: 0.2368 - acc: 0.9162 - val_loss: 0.3534 - val_acc: 0.9017\n",
      "Epoch 63/150\n",
      "1953/1953 [============================>.] - ETA: 0s - loss: 0.2354 - acc: 0.9157Epoch 1/150\n",
      "10000/1953 [=========================================================================================================================================================] - 9s 867us/sample - loss: 0.3246 - acc: 0.8949\n",
      "\n",
      "Epoch 00063: val_acc did not improve from 0.90170\n",
      "1954/1953 [==============================] - 891s 456ms/step - loss: 0.2354 - acc: 0.9156 - val_loss: 0.3893 - val_acc: 0.8949\n",
      "Epoch 64/150\n",
      "1953/1953 [============================>.] - ETA: 0s - loss: 0.2332 - acc: 0.9175Epoch 1/150\n",
      "10000/1953 [=========================================================================================================================================================] - 9s 862us/sample - loss: 0.2827 - acc: 0.8848\n",
      "\n",
      "Epoch 00064: val_acc did not improve from 0.90170\n",
      "1954/1953 [==============================] - 892s 456ms/step - loss: 0.2332 - acc: 0.9175 - val_loss: 0.4301 - val_acc: 0.8848\n",
      "Epoch 65/150\n",
      "1953/1953 [============================>.] - ETA: 0s - loss: 0.2312 - acc: 0.9183Epoch 1/150\n",
      "10000/1953 [=========================================================================================================================================================] - 9s 861us/sample - loss: 0.2895 - acc: 0.8879\n",
      "\n",
      "Epoch 00065: val_acc did not improve from 0.90170\n",
      "1954/1953 [==============================] - 893s 457ms/step - loss: 0.2312 - acc: 0.9183 - val_loss: 0.4231 - val_acc: 0.8879\n",
      "Epoch 66/150\n",
      "1953/1953 [============================>.] - ETA: 0s - loss: 0.2289 - acc: 0.9191Epoch 1/150\n",
      "10000/1953 [=========================================================================================================================================================] - 9s 855us/sample - loss: 0.2836 - acc: 0.8820\n",
      "\n",
      "Epoch 00066: val_acc did not improve from 0.90170\n",
      "1954/1953 [==============================] - 882s 452ms/step - loss: 0.2289 - acc: 0.9191 - val_loss: 0.4103 - val_acc: 0.8820\n",
      "Epoch 67/150\n",
      "1953/1953 [============================>.] - ETA: 0s - loss: 0.2300 - acc: 0.9183Epoch 1/150\n",
      "10000/1953 [=========================================================================================================================================================] - 9s 851us/sample - loss: 0.4144 - acc: 0.8848\n",
      "\n",
      "Epoch 00067: val_acc did not improve from 0.90170\n",
      "1954/1953 [==============================] - 877s 449ms/step - loss: 0.2299 - acc: 0.9183 - val_loss: 0.4098 - val_acc: 0.8848\n",
      "Epoch 68/150\n",
      "1953/1953 [============================>.] - ETA: 0s - loss: 0.2286 - acc: 0.9182Epoch 1/150\n",
      "10000/1953 [=========================================================================================================================================================] - 9s 852us/sample - loss: 0.2453 - acc: 0.8931\n",
      "\n",
      "Epoch 00068: val_acc did not improve from 0.90170\n",
      "1954/1953 [==============================] - 876s 448ms/step - loss: 0.2286 - acc: 0.9182 - val_loss: 0.3699 - val_acc: 0.8931\n",
      "Epoch 69/150\n",
      "1953/1953 [============================>.] - ETA: 0s - loss: 0.2285 - acc: 0.9190Epoch 1/150\n",
      "10000/1953 [=========================================================================================================================================================] - 9s 852us/sample - loss: 0.3324 - acc: 0.8846\n",
      "\n",
      "Epoch 00069: val_acc did not improve from 0.90170\n",
      "1954/1953 [==============================] - 875s 448ms/step - loss: 0.2286 - acc: 0.9190 - val_loss: 0.4226 - val_acc: 0.8846\n",
      "Epoch 70/150\n",
      "1953/1953 [============================>.] - ETA: 0s - loss: 0.2242 - acc: 0.9204Epoch 1/150\n",
      "10000/1953 [=========================================================================================================================================================] - 9s 859us/sample - loss: 0.3675 - acc: 0.8863\n",
      "\n",
      "Epoch 00070: val_acc did not improve from 0.90170\n",
      "1954/1953 [==============================] - 877s 449ms/step - loss: 0.2242 - acc: 0.9204 - val_loss: 0.4263 - val_acc: 0.8863\n",
      "Epoch 71/150\n",
      "1953/1953 [============================>.] - ETA: 0s - loss: 0.2252 - acc: 0.9207Epoch 1/150\n",
      "10000/1953 [=========================================================================================================================================================] - 9s 858us/sample - loss: 0.2657 - acc: 0.9024\n",
      "\n",
      "Epoch 00071: val_acc improved from 0.90170 to 0.90240, saving model to gdrive/My Drive/cnnoncifar/models/model-071-0.920683-0.902400.h5\n",
      "1954/1953 [==============================] - 880s 450ms/step - loss: 0.2253 - acc: 0.9207 - val_loss: 0.3447 - val_acc: 0.9024\n",
      "Epoch 72/150\n",
      "1953/1953 [============================>.] - ETA: 0s - loss: 0.2222 - acc: 0.9211Epoch 1/150\n",
      "10000/1953 [=========================================================================================================================================================] - 9s 857us/sample - loss: 0.3801 - acc: 0.8939\n",
      "\n",
      "Epoch 00072: val_acc did not improve from 0.90240\n",
      "1954/1953 [==============================] - 881s 451ms/step - loss: 0.2222 - acc: 0.9211 - val_loss: 0.3733 - val_acc: 0.8939\n",
      "Epoch 73/150\n",
      "1953/1953 [============================>.] - ETA: 0s - loss: 0.2210 - acc: 0.9212Epoch 1/150\n",
      "10000/1953 [=========================================================================================================================================================] - 9s 872us/sample - loss: 0.3135 - acc: 0.8923\n",
      "\n",
      "Epoch 00073: val_acc did not improve from 0.90240\n",
      "1954/1953 [==============================] - 886s 454ms/step - loss: 0.2211 - acc: 0.9212 - val_loss: 0.3861 - val_acc: 0.8923\n",
      "Epoch 74/150\n",
      " 654/1953 [=========>....................] - ETA: 9:47 - loss: 0.2212 - acc: 0.9207"
     ]
    }
   ],
   "source": [
    "# reduce_lr = ReduceLROnPlateau(monitor = 'val_loss', factor = 0.1, patience = 5, min_lr = 0.000001)\n",
    "\n",
    "# early_stop = EarlyStopping(monitor = \"val_loss\", patience = 10)\n",
    "\n",
    "def decay_fn(epoch, lr):\n",
    "    if epoch < 50:\n",
    "        return 0.001\n",
    "    elif epoch >= 50 and epoch < 75:\n",
    "        return 0.0001\n",
    "    else:\n",
    "        return 0.00001\n",
    "\n",
    "lr_scheduler = LearningRateScheduler(decay_fn)\n",
    "\n",
    "csv_logger = CSVLogger('training.log')\n",
    "\n",
    "\n",
    "\n",
    "\n",
    "\n",
    "checkpoint = ModelCheckpoint('gdrive/My Drive/cnnoncifar/models/model-{epoch:03d}-{acc:03f}-{val_acc:03f}.h5',\n",
    "                                       verbose=1, monitor='val_acc',save_best_only=True, mode='auto')  \n",
    "\n",
    "         \n",
    "model.load_weights('gdrive/My Drive/cnnoncifar/models/model-060-0.915397-0.901300.h5')\n",
    "\n",
    "\n",
    "model.compile(loss='categorical_crossentropy',\n",
    "              optimizer=Adam(),\n",
    "              metrics=['accuracy'])\n",
    "\n",
    "# model.fit(xtrain, y_train,\n",
    "#                     batch_size=batch_size,\n",
    "#                     epochs=epochs,\n",
    "#                     verbose=1, \n",
    "#                     validation_data=(xtest, y_test))\n",
    "print(model.summary())\n",
    "model.fit_generator(\n",
    "    datagen.flow(X_train, y_train, batch_size=batch_size), \n",
    "    steps_per_epoch=(len(X_train)/batch_size)*5,\n",
    "              \n",
    "    epochs=150, verbose = 1,initial_epoch = 61, \n",
    "    validation_data=(X_test, y_test),\n",
    "    callbacks=[checkpoint])\n",
    "\n",
    "\n",
    "\n",
    "\n"
   ]
  },
  {
   "cell_type": "code",
   "execution_count": 15,
   "metadata": {
    "colab": {
     "base_uri": "https://localhost:8080/",
     "height": 52
    },
    "colab_type": "code",
    "id": "gXHporac0JfG",
    "outputId": "4748dab1-714c-4bfd-c2ff-deb3aff9c473"
   },
   "outputs": [
    {
     "name": "stdout",
     "output_type": "stream",
     "text": [
      "50000/50000 [==============================] - 60s 1ms/sample - loss: 0.1094 - acc: 0.9612\n",
      "10000/10000 [==============================] - 11s 1ms/sample - loss: 0.3466 - acc: 0.9024\n"
     ]
    }
   ],
   "source": [
    "model.load_weights('gdrive/My Drive/cnnoncifar/models/model-071-0.920683-0.902400.h5')\n",
    "model.compile(loss='categorical_crossentropy',\n",
    "                        optimizer=Adam(),\n",
    "                        metrics=['accuracy'])\n",
    "\n",
    "# model.fit(X_train,y_train)\n",
    "\n",
    "train_acc = model.evaluate(X_train,y_train)\n",
    "val_acc   = model.evaluate(X_test,y_test)\n"
   ]
  },
  {
   "cell_type": "code",
   "execution_count": 16,
   "metadata": {
    "colab": {
     "base_uri": "https://localhost:8080/",
     "height": 34
    },
    "colab_type": "code",
    "id": "qaNRw5UkeAdn",
    "outputId": "efe1e34b-50dc-43ff-95c1-afc10dd03fa1"
   },
   "outputs": [
    {
     "name": "stdout",
     "output_type": "stream",
     "text": [
      "0.96122 0.9024\n"
     ]
    }
   ],
   "source": [
    "print(train_acc[1],val_acc[1])"
   ]
  },
  {
   "cell_type": "code",
   "execution_count": 19,
   "metadata": {
    "colab": {
     "base_uri": "https://localhost:8080/",
     "height": 70
    },
    "colab_type": "code",
    "id": "Ij6vQW--nSsh",
    "outputId": "7be73920-7f8d-4b2d-d47b-cfb990e269fc"
   },
   "outputs": [
    {
     "name": "stdout",
     "output_type": "stream",
     "text": [
      "The train accuracy is     : 96%\n",
      "The test accuracy is      : 90.24 i.e ~91%\n",
      "Number of parameters used : 974568\n"
     ]
    }
   ],
   "source": [
    "print('The train accuracy is     : {}%'.format(96))\n",
    "print('The test accuracy is      : {} i.e ~{}%'.format(90.24,91))\n",
    "print('Number of parameters used : {}'.format(model.count_params()))"
   ]
  }
 ],
 "metadata": {
  "accelerator": "GPU",
  "colab": {
   "collapsed_sections": [
    "2fLA3SqPZKQz",
    "5UYh4fu4Flu4",
    "3gCJagB5GYRN"
   ],
   "name": "DenseNet_cifar10.ipynb",
   "provenance": [],
   "toc_visible": true
  },
  "kernelspec": {
   "display_name": "Python 3",
   "language": "python",
   "name": "python3"
  },
  "language_info": {
   "codemirror_mode": {
    "name": "ipython",
    "version": 3
   },
   "file_extension": ".py",
   "mimetype": "text/x-python",
   "name": "python",
   "nbconvert_exporter": "python",
   "pygments_lexer": "ipython3",
   "version": "3.7.3"
  }
 },
 "nbformat": 4,
 "nbformat_minor": 1
}
